{
 "cells": [
  {
   "cell_type": "markdown",
   "source": "# Creating&nbsp;a&nbsp;Clinical&nbsp;Trials Dataset",
   "metadata": {
    "cell_id": "29a9c339-56ce-48e1-9ea8-358c13a8fdf9",
    "tags": [],
    "is_collapsed": false,
    "deepnote_app_coordinates": {
     "x": 0,
     "y": null,
     "w": 12,
     "h": 5
    },
    "deepnote_cell_type": "text-cell-h1"
   }
  },
  {
   "cell_type": "markdown",
   "source": "Hello, my name is Dhananjay Khazanchi. At the time of creating this notebook, I am a Master's of Data Science student at Illinois Institute of Technology. During my undergrad, I studied business, computer information systems, and computer science. My specialty is data science with a business intelligence focus. ",
   "metadata": {
    "cell_id": "9a5b3c8f-43ba-45e6-9ee5-77da21d49f78",
    "tags": [],
    "is_collapsed": false,
    "deepnote_app_coordinates": {
     "x": 0,
     "y": 6,
     "w": 8,
     "h": 2
    },
    "deepnote_cell_type": "text-cell-p"
   }
  },
  {
   "cell_type": "markdown",
   "source": "Currently, the process of finding a doctor to run a clinical trial is very arduous. While individual pieces of information can be found, there is no publicly available database with all the necessary information combined. The goal of this notebook is to create a comprehensive dataset of U.S. doctors that have previously conducted clinical trials. This was accomplished through combining three different datasets. A lot of data cleaning and merging of databases had to be done to create as complete of a dataset as possible. In the end, I was able to create a dataset containing over 30,000 records of unique clinical trials that can be used to identify doctors for future clinical trials. ",
   "metadata": {
    "cell_id": "c681c988-e498-4c67-a239-bb536669d730",
    "tags": [],
    "is_collapsed": false,
    "deepnote_app_coordinates": {
     "x": 0,
     "y": 9,
     "w": 8,
     "h": 2
    },
    "deepnote_cell_type": "text-cell-p"
   }
  },
  {
   "cell_type": "code",
   "metadata": {
    "tags": [],
    "deepnote_to_be_reexecuted": false,
    "source_hash": "71a73af1",
    "execution_start": 1644946952823,
    "execution_millis": 806,
    "cell_id": "f5b9c11e-349a-4777-9513-bdbacb3b307f",
    "deepnote_app_coordinates": {
     "x": 0,
     "y": 371,
     "w": 12,
     "h": 5
    },
    "deepnote_app_is_code_hidden": true,
    "deepnote_cell_type": "code"
   },
   "source": "!ls /datasets/sources",
   "execution_count": 1,
   "outputs": [
    {
     "name": "stdout",
     "text": "DAC_NationalDownloadableFile.csv  facilities.txt  facility_investigators.txt\r\n",
     "output_type": "stream"
    }
   ]
  },
  {
   "cell_type": "markdown",
   "source": "There&nbsp;are&nbsp;three&nbsp;datasets&nbsp;I&nbsp;am&nbsp;combining&nbsp;to&nbsp;create&nbsp;my&nbsp;dataset. I will go into further detail about each dataset in their individual categories.",
   "metadata": {
    "cell_id": "fc475631-568b-4717-835c-5de00a9a0177",
    "tags": [],
    "is_collapsed": false,
    "deepnote_app_coordinates": {
     "x": 0,
     "y": 0,
     "w": 8,
     "h": 2
    },
    "deepnote_cell_type": "text-cell-p"
   }
  },
  {
   "cell_type": "code",
   "metadata": {
    "tags": [],
    "deepnote_to_be_reexecuted": false,
    "source_hash": "35374e32",
    "execution_start": 1644946953632,
    "execution_millis": 3608,
    "cell_id": "00001-a385fcaf-c4bf-4dc6-8715-f6d7f300403b",
    "deepnote_cell_type": "code"
   },
   "source": "import numpy as np\nimport pandas as pd\nimport matplotlib.pyplot as plt",
   "execution_count": 2,
   "outputs": []
  },
  {
   "cell_type": "code",
   "metadata": {
    "cell_id": "fe3ba131-688b-47bb-990f-59de72d34d49",
    "tags": [],
    "deepnote_to_be_reexecuted": false,
    "source_hash": "1aaffcde",
    "execution_start": 1644946957244,
    "execution_millis": 5,
    "deepnote_cell_type": "code"
   },
   "source": "dfFields= ['NPI', ' lst_nm', ' frst_nm', ' mid_nm', ' suff', ' gndr', ' Med_sch', ' Grd_yr', ' pri_spec', ' sec_spec_all', ' org_nm', ' num_org_mem', ' adr_ln_1', ' adr_ln_2', ' cty', ' st', ' zip', ' phn_numbr', ' hosp_afl_lbn_1', ' hosp_afl_lbn_2', ' hosp_afl_lbn_3', ' hosp_afl_lbn_4', ' hosp_afl_lbn_5', ' ind_assgn', ' grp_assgn', ' adrs_id']",
   "execution_count": 3,
   "outputs": []
  },
  {
   "cell_type": "code",
   "metadata": {
    "tags": [],
    "deepnote_to_be_reexecuted": false,
    "source_hash": "14df0868",
    "execution_start": 1644946957253,
    "execution_millis": 16565,
    "cell_id": "00002-76e63836-450d-4f81-9081-45fff2b878ff",
    "deepnote_cell_type": "code"
   },
   "source": "df = pd.read_csv('DAC_NationalDownloadableFile.csv', usecols=dfFields)\n",
   "execution_count": 4,
   "outputs": [
    {
     "name": "stderr",
     "text": "/shared-libs/python3.7/py-core/lib/python3.7/site-packages/IPython/core/interactiveshell.py:3186: DtypeWarning: Columns (18,26) have mixed types.Specify dtype option on import or set low_memory=False.\n  interactivity=interactivity, compiler=compiler, result=result)\n",
     "output_type": "stream"
    }
   ]
  },
  {
   "cell_type": "code",
   "metadata": {
    "cell_id": "09e7304d-6102-493b-a207-b340c2d24ef2",
    "tags": [],
    "deepnote_to_be_reexecuted": false,
    "source_hash": "bbf3d3c4",
    "execution_start": 1644946973821,
    "execution_millis": 2,
    "deepnote_cell_type": "code"
   },
   "source": "dfFFields = ['id', 'nct_id', 'name', 'city', 'state', 'zip', 'country']",
   "execution_count": 5,
   "outputs": []
  },
  {
   "cell_type": "code",
   "metadata": {
    "cell_id": "c01310ad-db09-4c5a-86ae-c76894d2d702",
    "tags": [],
    "deepnote_to_be_reexecuted": false,
    "source_hash": "e3823a2",
    "execution_start": 1644946973827,
    "execution_millis": 5115,
    "deepnote_cell_type": "code"
   },
   "source": "dfF = pd.read_csv('facilities.csv', usecols=dfFFields)",
   "execution_count": 6,
   "outputs": []
  },
  {
   "cell_type": "code",
   "metadata": {
    "cell_id": "0ad3bd60-0900-40e9-bda7-aea942ffbf92",
    "tags": [],
    "deepnote_to_be_reexecuted": false,
    "source_hash": "b9e8eab2",
    "execution_start": 1644946978946,
    "execution_millis": 0,
    "deepnote_cell_type": "code"
   },
   "source": "dfFIFields = ['id', 'nct_id', 'facility_id', 'role', 'name']",
   "execution_count": 7,
   "outputs": []
  },
  {
   "cell_type": "code",
   "metadata": {
    "cell_id": "79db10b8-5f85-4a71-a137-645acf4e50e5",
    "tags": [],
    "deepnote_to_be_reexecuted": false,
    "source_hash": "1eca730d",
    "execution_start": 1644946978951,
    "execution_millis": 334,
    "deepnote_cell_type": "code"
   },
   "source": "dfFI = pd.read_csv('facility_investigators.csv', usecols=dfFIFields)",
   "execution_count": 8,
   "outputs": []
  },
  {
   "cell_type": "markdown",
   "source": "### Facility Investigators Dataset",
   "metadata": {
    "cell_id": "16c5305b-263e-4c48-a996-539fb928d9c0",
    "tags": [],
    "is_collapsed": false,
    "deepnote_app_coordinates": {
     "x": 0,
     "y": 42,
     "w": 12,
     "h": 5
    },
    "deepnote_cell_type": "text-cell-h3"
   }
  },
  {
   "cell_type": "markdown",
   "source": "The&nbsp;Facility&nbsp;Investigators&nbsp;(FI) dataset&nbsp;from&nbsp;the&nbsp;National&nbsp;Institute&nbsp;of&nbsp;Health contains over 200,000 rows about clinical trials, including the person leading the trial and the facility where the trial took place.",
   "metadata": {
    "cell_id": "b225dd90-b465-4298-a666-12054857f49b",
    "tags": [],
    "is_collapsed": false,
    "deepnote_app_coordinates": {
     "x": 0,
     "y": 0,
     "w": 8,
     "h": 2
    },
    "deepnote_cell_type": "text-cell-p"
   }
  },
  {
   "cell_type": "code",
   "metadata": {
    "cell_id": "582a69b1-7d3d-4b4e-81b4-4abf98409238",
    "tags": [],
    "deepnote_to_be_reexecuted": false,
    "source_hash": "28fd0836",
    "execution_start": 1644946979286,
    "execution_millis": 612,
    "deepnote_table_state": {
     "pageSize": 10,
     "pageIndex": 0,
     "filters": [],
     "sortBy": [
      {
       "id": "name",
       "type": "desc"
      }
     ]
    },
    "deepnote_table_loading": false,
    "deepnote_app_coordinates": {
     "x": 0,
     "y": 51,
     "w": 12,
     "h": 5
    },
    "deepnote_app_is_code_hidden": true,
    "deepnote_cell_type": "code"
   },
   "source": "dfFI",
   "execution_count": 9,
   "outputs": [
    {
     "output_type": "execute_result",
     "execution_count": 9,
     "data": {
      "application/vnd.deepnote.dataframe.v3+json": {
       "column_count": 5,
       "row_count": 221916,
       "columns": [
        {
         "name": "id",
         "dtype": "int64"
        },
        {
         "name": "nct_id",
         "dtype": "object"
        },
        {
         "name": "facility_id",
         "dtype": "int64"
        },
        {
         "name": "role",
         "dtype": "object"
        },
        {
         "name": "name",
         "dtype": "object"
        },
        {
         "name": "_deepnote_index_column",
         "dtype": "int64"
        }
       ],
       "rows": [
        {
         "id": 1705870,
         "nct_id": "NCT01957826",
         "facility_id": 10434019,
         "role": "Sub-Investigator",
         "name": "• Juan Carlos Alonso, MD",
         "_deepnote_index_column": 37975
        },
        {
         "id": 1705871,
         "nct_id": "NCT01957826",
         "facility_id": 10434020,
         "role": "Principal Investigator",
         "name": "• José Alberto San Román, MD",
         "_deepnote_index_column": 37976
        },
        {
         "id": 1688128,
         "nct_id": "NCT00987519",
         "facility_id": 10185249,
         "role": "Principal Investigator",
         "name": "Štefan Grosek, MD, PhD",
         "_deepnote_index_column": 139264
        },
        {
         "id": 1645967,
         "nct_id": "NCT04812119",
         "facility_id": 8683055,
         "role": "Sub-Investigator",
         "name": "Špela Miroševič, BSc",
         "_deepnote_index_column": 112688
        },
        {
         "id": 1313183,
         "nct_id": "NCT04942405",
         "facility_id": 7770936,
         "role": "Principal Investigator",
         "name": "Şükran Köse, Prof.",
         "_deepnote_index_column": 26586
        },
        {
         "id": 1734190,
         "nct_id": "NCT05077176",
         "facility_id": 10587745,
         "role": "Principal Investigator",
         "name": "Şükran Köse, Prof.",
         "_deepnote_index_column": 184981
        },
        {
         "id": 1911087,
         "nct_id": "NCT04297527",
         "facility_id": 11074059,
         "role": "Sub-Investigator",
         "name": "Şule Şimşek, Pdh.",
         "_deepnote_index_column": 167812
        },
        {
         "id": 1641951,
         "nct_id": "NCT04903392",
         "facility_id": 8672086,
         "role": "Sub-Investigator",
         "name": "Şule Keçelioğlu",
         "_deepnote_index_column": 101492
        },
        {
         "id": 1637186,
         "nct_id": "NCT05065723",
         "facility_id": 8656351,
         "role": "Sub-Investigator",
         "name": "Şule Keçelioğlu",
         "_deepnote_index_column": 90364
        },
        {
         "id": 1932555,
         "nct_id": "NCT03832088",
         "facility_id": 11156689,
         "role": "Sub-Investigator",
         "name": "Şeyhmus Yaşin, MD",
         "_deepnote_index_column": 67963
        }
       ]
      },
      "text/plain": "             id       nct_id  facility_id                    role  \\\n0       1653475  NCT04631068      8707217  Principal Investigator   \n1       1653476  NCT04631068      8707217        Sub-Investigator   \n2       1653477  NCT04631068      8707218  Principal Investigator   \n3       1653478  NCT04631068      8707219  Principal Investigator   \n4       1653479  NCT04631146      8707230  Principal Investigator   \n...         ...          ...          ...                     ...   \n221911  1294491  NCT03726320      7718790  Principal Investigator   \n221912  1294492  NCT03709134      7718908  Principal Investigator   \n221913  1294493  NCT03706482      7718909  Principal Investigator   \n221914  1294494  NCT03706482      7718909        Sub-Investigator   \n221915  1294495  NCT03706482      7718909        Sub-Investigator   \n\n                           name  \n0         Cedric Schweitzer, MD  \n1              David Toubol, MD  \n2            Tiago Monteiro, MD  \n3          Paul Rosen, FRCOphth  \n4                 Yilong Wu, MD  \n...                         ...  \n221911        Danil Makarov, MD  \n221912  Kasia J Jerzak, MD, MSc  \n221913       Eva Åström, MD PhD  \n221914    Mikael Sundin, MD PhD  \n221915  Magnus Westgren, MD PhD  \n\n[221916 rows x 5 columns]",
      "text/html": "<div>\n<style scoped>\n    .dataframe tbody tr th:only-of-type {\n        vertical-align: middle;\n    }\n\n    .dataframe tbody tr th {\n        vertical-align: top;\n    }\n\n    .dataframe thead th {\n        text-align: right;\n    }\n</style>\n<table border=\"1\" class=\"dataframe\">\n  <thead>\n    <tr style=\"text-align: right;\">\n      <th></th>\n      <th>id</th>\n      <th>nct_id</th>\n      <th>facility_id</th>\n      <th>role</th>\n      <th>name</th>\n    </tr>\n  </thead>\n  <tbody>\n    <tr>\n      <th>0</th>\n      <td>1653475</td>\n      <td>NCT04631068</td>\n      <td>8707217</td>\n      <td>Principal Investigator</td>\n      <td>Cedric Schweitzer, MD</td>\n    </tr>\n    <tr>\n      <th>1</th>\n      <td>1653476</td>\n      <td>NCT04631068</td>\n      <td>8707217</td>\n      <td>Sub-Investigator</td>\n      <td>David Toubol, MD</td>\n    </tr>\n    <tr>\n      <th>2</th>\n      <td>1653477</td>\n      <td>NCT04631068</td>\n      <td>8707218</td>\n      <td>Principal Investigator</td>\n      <td>Tiago Monteiro, MD</td>\n    </tr>\n    <tr>\n      <th>3</th>\n      <td>1653478</td>\n      <td>NCT04631068</td>\n      <td>8707219</td>\n      <td>Principal Investigator</td>\n      <td>Paul Rosen, FRCOphth</td>\n    </tr>\n    <tr>\n      <th>4</th>\n      <td>1653479</td>\n      <td>NCT04631146</td>\n      <td>8707230</td>\n      <td>Principal Investigator</td>\n      <td>Yilong Wu, MD</td>\n    </tr>\n    <tr>\n      <th>...</th>\n      <td>...</td>\n      <td>...</td>\n      <td>...</td>\n      <td>...</td>\n      <td>...</td>\n    </tr>\n    <tr>\n      <th>221911</th>\n      <td>1294491</td>\n      <td>NCT03726320</td>\n      <td>7718790</td>\n      <td>Principal Investigator</td>\n      <td>Danil Makarov, MD</td>\n    </tr>\n    <tr>\n      <th>221912</th>\n      <td>1294492</td>\n      <td>NCT03709134</td>\n      <td>7718908</td>\n      <td>Principal Investigator</td>\n      <td>Kasia J Jerzak, MD, MSc</td>\n    </tr>\n    <tr>\n      <th>221913</th>\n      <td>1294493</td>\n      <td>NCT03706482</td>\n      <td>7718909</td>\n      <td>Principal Investigator</td>\n      <td>Eva Åström, MD PhD</td>\n    </tr>\n    <tr>\n      <th>221914</th>\n      <td>1294494</td>\n      <td>NCT03706482</td>\n      <td>7718909</td>\n      <td>Sub-Investigator</td>\n      <td>Mikael Sundin, MD PhD</td>\n    </tr>\n    <tr>\n      <th>221915</th>\n      <td>1294495</td>\n      <td>NCT03706482</td>\n      <td>7718909</td>\n      <td>Sub-Investigator</td>\n      <td>Magnus Westgren, MD PhD</td>\n    </tr>\n  </tbody>\n</table>\n<p>221916 rows × 5 columns</p>\n</div>"
     },
     "metadata": {}
    }
   ]
  },
  {
   "cell_type": "code",
   "metadata": {
    "cell_id": "ae4f94ca-bd98-4df2-921a-931f5bd4a30b",
    "tags": [],
    "deepnote_to_be_reexecuted": false,
    "source_hash": "93c624ca",
    "execution_start": 1644946979627,
    "execution_millis": 292,
    "deepnote_output_heights": [
     117.1875
    ],
    "deepnote_app_coordinates": {
     "x": 0,
     "y": 75,
     "w": 12,
     "h": 5
    },
    "deepnote_cell_type": "code"
   },
   "source": "dfFI.isnull().sum() #checking if there are any missing values within the datset",
   "execution_count": 10,
   "outputs": [
    {
     "output_type": "execute_result",
     "execution_count": 10,
     "data": {
      "text/plain": "id             0\nnct_id         0\nfacility_id    0\nrole           0\nname           0\ndtype: int64"
     },
     "metadata": {}
    }
   ]
  },
  {
   "cell_type": "code",
   "metadata": {
    "cell_id": "062925f7-2256-433b-b06a-0826316afe09",
    "tags": [],
    "deepnote_app_coordinates": {
     "x": 0,
     "y": 0,
     "w": 12,
     "h": 5
    },
    "deepnote_to_be_reexecuted": false,
    "source_hash": "9541547f",
    "execution_start": 1644946979637,
    "execution_millis": 285,
    "deepnote_output_heights": [
     21.1875
    ],
    "deepnote_cell_type": "code"
   },
   "source": "dfFI['id'].duplicated().any() #checking if \"id\" column has any duplicates",
   "execution_count": 11,
   "outputs": [
    {
     "output_type": "execute_result",
     "execution_count": 11,
     "data": {
      "text/plain": "False"
     },
     "metadata": {}
    }
   ]
  },
  {
   "cell_type": "markdown",
   "source": "After quickly looking at the FI dataset, there is no missing data, but I see that \"name\" column has quite a lot of issues. Some issues include the certifications being combined with the name, unnecessary punctuation, and irregular capitalization of the names (not pictured above).",
   "metadata": {
    "cell_id": "245c1be8-d65f-4c34-b6a8-9e77fa4927f0",
    "tags": [],
    "is_collapsed": false,
    "deepnote_app_coordinates": {
     "x": 0,
     "y": 0,
     "w": 8,
     "h": 2
    },
    "deepnote_cell_type": "text-cell-p"
   }
  },
  {
   "cell_type": "code",
   "metadata": {
    "cell_id": "81af01ce-4290-4ffa-abc9-89c88ef0a935",
    "tags": [],
    "deepnote_to_be_reexecuted": false,
    "source_hash": "2e88002f",
    "execution_start": 1644946979696,
    "execution_millis": 262,
    "deepnote_output_heights": [
     232.390625
    ],
    "deepnote_app_coordinates": {
     "x": 0,
     "y": 57,
     "w": 12,
     "h": 5
    },
    "deepnote_cell_type": "code"
   },
   "source": "#removes the certification alongside each name\ndfFI[\"name\"] = dfFI[\"name\"].str.split(\",\").apply(lambda x: x[0])",
   "execution_count": 12,
   "outputs": []
  },
  {
   "cell_type": "code",
   "metadata": {
    "cell_id": "a4d9c202-2739-4bf5-9aae-3a6e5b70a3b8",
    "tags": [],
    "deepnote_to_be_reexecuted": false,
    "source_hash": "cd6d600d",
    "execution_start": 1644946980359,
    "execution_millis": 179,
    "deepnote_output_heights": [
     21.1875
    ],
    "deepnote_app_coordinates": {
     "x": 0,
     "y": 63,
     "w": 12,
     "h": 5
    },
    "deepnote_cell_type": "code"
   },
   "source": "#all the chracters I do not want to be present within the name column\npunct = '!\"#$%&\\'()*+,./:;<=>?@[\\\\]^_`{}~•'\ntranstab = str.maketrans(dict.fromkeys(punct, ''))\n#removing the previously specified characters from the names\ndfFI[\"name\"] = '|'.join(dfFI[\"name\"].tolist()).translate(transtab).split('|')\n#removing any leading or trailing whitespaces\ndfFI[\"name\"] = dfFI[\"name\"].str.strip()\n#converting names to be fully uppercase\ndfFI[\"name\"] = dfFI[\"name\"].str.upper()",
   "execution_count": 13,
   "outputs": []
  },
  {
   "cell_type": "markdown",
   "source": "After cleaning the name column, it is properly sorted and ready to be merged with the next dataset!",
   "metadata": {
    "cell_id": "d1f0ef32-df8e-46a2-90f0-7c49bc9a5e2e",
    "tags": [],
    "is_collapsed": false,
    "deepnote_app_coordinates": {
     "x": 0,
     "y": 0,
     "w": 8,
     "h": 2
    },
    "deepnote_cell_type": "text-cell-p"
   }
  },
  {
   "cell_type": "code",
   "metadata": {
    "cell_id": "080f8680-b018-47e5-8d0c-1cfb2568a4a2",
    "tags": [],
    "deepnote_to_be_reexecuted": false,
    "source_hash": "d0faa7b0",
    "execution_start": 1644946980561,
    "execution_millis": 18,
    "deepnote_table_state": {
     "pageSize": 10,
     "pageIndex": 0,
     "filters": [],
     "sortBy": [
      {
       "id": "name",
       "type": "desc"
      }
     ]
    },
    "deepnote_table_loading": false,
    "deepnote_app_coordinates": {
     "x": 0,
     "y": 69,
     "w": 12,
     "h": 5
    },
    "deepnote_app_is_code_hidden": true,
    "deepnote_cell_type": "code"
   },
   "source": "dfFI.head()",
   "execution_count": 14,
   "outputs": [
    {
     "output_type": "execute_result",
     "execution_count": 14,
     "data": {
      "application/vnd.deepnote.dataframe.v3+json": {
       "column_count": 5,
       "row_count": 5,
       "columns": [
        {
         "name": "id",
         "dtype": "int64",
         "stats": {
          "unique_count": 5,
          "nan_count": 0,
          "min": "1653475",
          "max": "1653479",
          "histogram": [
           {
            "bin_start": 1653475,
            "bin_end": 1653475.4,
            "count": 1
           },
           {
            "bin_start": 1653475.4,
            "bin_end": 1653475.8,
            "count": 0
           },
           {
            "bin_start": 1653475.8,
            "bin_end": 1653476.2,
            "count": 1
           },
           {
            "bin_start": 1653476.2,
            "bin_end": 1653476.6,
            "count": 0
           },
           {
            "bin_start": 1653476.6,
            "bin_end": 1653477,
            "count": 0
           },
           {
            "bin_start": 1653477,
            "bin_end": 1653477.4,
            "count": 1
           },
           {
            "bin_start": 1653477.4,
            "bin_end": 1653477.8,
            "count": 0
           },
           {
            "bin_start": 1653477.8,
            "bin_end": 1653478.2,
            "count": 1
           },
           {
            "bin_start": 1653478.2,
            "bin_end": 1653478.6,
            "count": 0
           },
           {
            "bin_start": 1653478.6,
            "bin_end": 1653479,
            "count": 1
           }
          ]
         }
        },
        {
         "name": "nct_id",
         "dtype": "object",
         "stats": {
          "unique_count": 2,
          "nan_count": 0,
          "categories": [
           {
            "name": "NCT04631068",
            "count": 4
           },
           {
            "name": "NCT04631146",
            "count": 1
           }
          ]
         }
        },
        {
         "name": "facility_id",
         "dtype": "int64",
         "stats": {
          "unique_count": 4,
          "nan_count": 0,
          "min": "8707217",
          "max": "8707230",
          "histogram": [
           {
            "bin_start": 8707217,
            "bin_end": 8707218.3,
            "count": 3
           },
           {
            "bin_start": 8707218.3,
            "bin_end": 8707219.6,
            "count": 1
           },
           {
            "bin_start": 8707219.6,
            "bin_end": 8707220.9,
            "count": 0
           },
           {
            "bin_start": 8707220.9,
            "bin_end": 8707222.2,
            "count": 0
           },
           {
            "bin_start": 8707222.2,
            "bin_end": 8707223.5,
            "count": 0
           },
           {
            "bin_start": 8707223.5,
            "bin_end": 8707224.8,
            "count": 0
           },
           {
            "bin_start": 8707224.8,
            "bin_end": 8707226.1,
            "count": 0
           },
           {
            "bin_start": 8707226.1,
            "bin_end": 8707227.4,
            "count": 0
           },
           {
            "bin_start": 8707227.4,
            "bin_end": 8707228.7,
            "count": 0
           },
           {
            "bin_start": 8707228.7,
            "bin_end": 8707230,
            "count": 1
           }
          ]
         }
        },
        {
         "name": "role",
         "dtype": "object",
         "stats": {
          "unique_count": 2,
          "nan_count": 0,
          "categories": [
           {
            "name": "Principal Investigator",
            "count": 4
           },
           {
            "name": "Sub-Investigator",
            "count": 1
           }
          ]
         }
        },
        {
         "name": "name",
         "dtype": "object",
         "stats": {
          "unique_count": 5,
          "nan_count": 0,
          "categories": [
           {
            "name": "YILONG WU",
            "count": 1
           },
           {
            "name": "TIAGO MONTEIRO",
            "count": 1
           },
           {
            "name": "3 others",
            "count": 3
           }
          ]
         }
        },
        {
         "name": "_deepnote_index_column",
         "dtype": "int64"
        }
       ],
       "rows": [
        {
         "id": 1653479,
         "nct_id": "NCT04631146",
         "facility_id": 8707230,
         "role": "Principal Investigator",
         "name": "YILONG WU",
         "_deepnote_index_column": 4
        },
        {
         "id": 1653477,
         "nct_id": "NCT04631068",
         "facility_id": 8707218,
         "role": "Principal Investigator",
         "name": "TIAGO MONTEIRO",
         "_deepnote_index_column": 2
        },
        {
         "id": 1653478,
         "nct_id": "NCT04631068",
         "facility_id": 8707219,
         "role": "Principal Investigator",
         "name": "PAUL ROSEN",
         "_deepnote_index_column": 3
        },
        {
         "id": 1653476,
         "nct_id": "NCT04631068",
         "facility_id": 8707217,
         "role": "Sub-Investigator",
         "name": "DAVID TOUBOL",
         "_deepnote_index_column": 1
        },
        {
         "id": 1653475,
         "nct_id": "NCT04631068",
         "facility_id": 8707217,
         "role": "Principal Investigator",
         "name": "CEDRIC SCHWEITZER",
         "_deepnote_index_column": 0
        }
       ]
      },
      "text/plain": "        id       nct_id  facility_id                    role  \\\n0  1653475  NCT04631068      8707217  Principal Investigator   \n1  1653476  NCT04631068      8707217        Sub-Investigator   \n2  1653477  NCT04631068      8707218  Principal Investigator   \n3  1653478  NCT04631068      8707219  Principal Investigator   \n4  1653479  NCT04631146      8707230  Principal Investigator   \n\n                name  \n0  CEDRIC SCHWEITZER  \n1       DAVID TOUBOL  \n2     TIAGO MONTEIRO  \n3         PAUL ROSEN  \n4          YILONG WU  ",
      "text/html": "<div>\n<style scoped>\n    .dataframe tbody tr th:only-of-type {\n        vertical-align: middle;\n    }\n\n    .dataframe tbody tr th {\n        vertical-align: top;\n    }\n\n    .dataframe thead th {\n        text-align: right;\n    }\n</style>\n<table border=\"1\" class=\"dataframe\">\n  <thead>\n    <tr style=\"text-align: right;\">\n      <th></th>\n      <th>id</th>\n      <th>nct_id</th>\n      <th>facility_id</th>\n      <th>role</th>\n      <th>name</th>\n    </tr>\n  </thead>\n  <tbody>\n    <tr>\n      <th>0</th>\n      <td>1653475</td>\n      <td>NCT04631068</td>\n      <td>8707217</td>\n      <td>Principal Investigator</td>\n      <td>CEDRIC SCHWEITZER</td>\n    </tr>\n    <tr>\n      <th>1</th>\n      <td>1653476</td>\n      <td>NCT04631068</td>\n      <td>8707217</td>\n      <td>Sub-Investigator</td>\n      <td>DAVID TOUBOL</td>\n    </tr>\n    <tr>\n      <th>2</th>\n      <td>1653477</td>\n      <td>NCT04631068</td>\n      <td>8707218</td>\n      <td>Principal Investigator</td>\n      <td>TIAGO MONTEIRO</td>\n    </tr>\n    <tr>\n      <th>3</th>\n      <td>1653478</td>\n      <td>NCT04631068</td>\n      <td>8707219</td>\n      <td>Principal Investigator</td>\n      <td>PAUL ROSEN</td>\n    </tr>\n    <tr>\n      <th>4</th>\n      <td>1653479</td>\n      <td>NCT04631146</td>\n      <td>8707230</td>\n      <td>Principal Investigator</td>\n      <td>YILONG WU</td>\n    </tr>\n  </tbody>\n</table>\n</div>"
     },
     "metadata": {}
    }
   ]
  },
  {
   "cell_type": "code",
   "metadata": {
    "cell_id": "4846254c-69e2-4a12-911f-a61e83331d43",
    "tags": [],
    "deepnote_to_be_reexecuted": false,
    "source_hash": "73bd609e",
    "execution_start": 1644946980671,
    "execution_millis": 82,
    "deepnote_output_heights": [
     232.390625
    ],
    "deepnote_cell_type": "code"
   },
   "source": "dfFI['name'].value_counts()",
   "execution_count": 15,
   "outputs": [
    {
     "output_type": "execute_result",
     "execution_count": 15,
     "data": {
      "text/plain": "BRYAN A FALLER                2922\nRICHARD L DEMING              2377\nJOHN A ELLERTON               2100\nALISON K CONLIN               1346\nJOHN M SCHALLENKAMP           1275\n                              ... \nJING-MEI HSU                     1\nESTHER PARDO                     1\nSABINE VIEILLOT                  1\nSAMUEL LENTZ                     1\nMARÍA P BARNESTEIN-FONSECA       1\nName: name, Length: 119431, dtype: int64"
     },
     "metadata": {}
    }
   ]
  },
  {
   "cell_type": "markdown",
   "source": "### Facilities Dataset",
   "metadata": {
    "cell_id": "db665df9-0938-4e9b-8c7d-eb0280258e1e",
    "tags": [],
    "is_collapsed": false,
    "deepnote_app_coordinates": {
     "x": 0,
     "y": 87,
     "w": 12,
     "h": 5
    },
    "deepnote_cell_type": "text-cell-h3"
   }
  },
  {
   "cell_type": "markdown",
   "source": "The Facilities (F) dataset is also from the National Institute of Health and contains over 2.6 million rows about where a clinical trial was conducted and the facility where it was conducted. ",
   "metadata": {
    "cell_id": "facaac1e-ba3d-488d-baea-5f3564b835f6",
    "tags": [],
    "is_collapsed": false,
    "deepnote_app_coordinates": {
     "x": 0,
     "y": 0,
     "w": 8,
     "h": 2
    },
    "deepnote_cell_type": "text-cell-p"
   }
  },
  {
   "cell_type": "code",
   "metadata": {
    "cell_id": "57ec405d-cfaa-4858-a941-b9fd14dafa85",
    "tags": [],
    "deepnote_to_be_reexecuted": false,
    "source_hash": "d30c7e9f",
    "execution_start": 1644946980755,
    "execution_millis": 5988,
    "deepnote_table_state": {
     "pageSize": 10,
     "pageIndex": 0,
     "filters": [],
     "sortBy": [
      {
       "id": "name",
       "type": "desc"
      }
     ]
    },
    "deepnote_table_loading": false,
    "deepnote_app_coordinates": {
     "x": 0,
     "y": 93,
     "w": 12,
     "h": 5
    },
    "deepnote_table_invalid": false,
    "deepnote_app_is_code_hidden": true,
    "deepnote_cell_type": "code"
   },
   "source": "dfF",
   "execution_count": 16,
   "outputs": [
    {
     "output_type": "execute_result",
     "execution_count": 16,
     "data": {
      "application/vnd.deepnote.dataframe.v3+json": {
       "column_count": 7,
       "row_count": 2619514,
       "columns": [
        {
         "name": "id",
         "dtype": "int64"
        },
        {
         "name": "nct_id",
         "dtype": "object"
        },
        {
         "name": "name",
         "dtype": "object"
        },
        {
         "name": "city",
         "dtype": "object"
        },
        {
         "name": "state",
         "dtype": "object"
        },
        {
         "name": "zip",
         "dtype": "object"
        },
        {
         "name": "country",
         "dtype": "object"
        },
        {
         "name": "_deepnote_index_column",
         "dtype": "int64"
        }
       ],
       "rows": [
        {
         "id": 9943814,
         "nct_id": "NCT00221130",
         "name": "Ｉｎstitute of Biomedical Research and Innovation",
         "city": "Kobe",
         "state": "Hyogo Pref.",
         "zip": "650-0047",
         "country": "Japan",
         "_deepnote_index_column": 757058
        },
        {
         "id": 5527642,
         "nct_id": "NCT03557983",
         "name": "苏州大学",
         "city": "Suzhou",
         "state": "Jiangsu",
         "zip": "215123",
         "country": "China",
         "_deepnote_index_column": 371566
        },
        {
         "id": 11087200,
         "nct_id": "NCT04213742",
         "name": "第四军医大学",
         "city": "Xian",
         "state": "陕西省",
         "zip": "710000",
         "country": "China",
         "_deepnote_index_column": 1205092
        },
        {
         "id": 5610507,
         "nct_id": "NCT03365258",
         "name": "王振宇",
         "city": "Taichung City",
         "state": "台中市",
         "zip": "433",
         "country": "Taiwan",
         "_deepnote_index_column": 449811
        },
        {
         "id": 11052594,
         "nct_id": "NCT04445077",
         "name": "朗诗常青藤养老服务有限公司睿城站",
         "city": "Nanjing",
         "state": "Jiangsu",
         "zip": "210029",
         "country": "China",
         "_deepnote_index_column": 1120869
        },
        {
         "id": 8753056,
         "nct_id": "NCT03925207",
         "name": "叶伟娣",
         "city": "Hangzhou",
         "state": "nan",
         "zip": "nan",
         "country": "China",
         "_deepnote_index_column": 282969
        },
        {
         "id": 8702960,
         "nct_id": "NCT04660487",
         "name": "中国",
         "city": "Suzhou",
         "state": "Jiangsu",
         "zip": "215006",
         "country": "China",
         "_deepnote_index_column": 2573142
        },
        {
         "id": 8683037,
         "nct_id": "NCT04811976",
         "name": "中国",
         "city": "Qinhuangdao",
         "state": "Hebei",
         "zip": "066000",
         "country": "China",
         "_deepnote_index_column": 2544656
        },
        {
         "id": 10305384,
         "nct_id": "NCT01422447",
         "name": "中国",
         "city": "Shanghai",
         "state": "Shanghai",
         "zip": "200030",
         "country": "China",
         "_deepnote_index_column": 2256953
        },
        {
         "id": 5531969,
         "nct_id": "NCT03545737",
         "name": "中国",
         "city": "Qinhuangdao",
         "state": "Hebei",
         "zip": "066000",
         "country": "China",
         "_deepnote_index_column": 375831
        }
       ]
      },
      "text/plain": "              id       nct_id  \\\n0        8790702  NCT03724162   \n1        8790703  NCT03724162   \n2        8790704  NCT03723954   \n3        8790705  NCT03723668   \n4        8790706  NCT03723668   \n...          ...          ...   \n2619509  8790679  NCT00457951   \n2619510  8790683  NCT00345943   \n2619511  8790684  NCT00258427   \n2619512  8790685  NCT00250341   \n2619513  8790686  NCT00238862   \n\n                                                      name  \\\n0                                 Oslo University Hospital   \n1        Department of vascular surgery, Oslo Universit...   \n2                                            Golf National   \n3        Kidney Transplantation Care at Veteran's Affai...   \n4                                   Paris Transplant Group   \n...                                                    ...   \n2619509  Akademicki Szpital Kliniczny im. Jana Mikulicz...   \n2619510  New York State Psychiatric Institute at Columb...   \n2619511     Masonic Cancer Center, University of Minnesota   \n2619512                                               UCLA   \n2619513                King Khaled Eye Specialist Hospital   \n\n                              city         state     zip        country  \n0                             Oslo           NaN    0424         Norway  \n1                             Oslo           NaN     NaN         Norway  \n2        Saint-Quentin-en-Yvelines           NaN   78280         France  \n3                     Philadelphia  Pennsylvania   19104  United States  \n4                            Paris           NaN   75015         France  \n...                            ...           ...     ...            ...  \n2619509                    Wroclaw           NaN  50-417         Poland  \n2619510                   New York      New York   10032  United States  \n2619511                Minneapolis     Minnesota   55455  United States  \n2619512                Los Angeles    California   90095  United States  \n2619513                     Riyadh           NaN   11462   Saudi Arabia  \n\n[2619514 rows x 7 columns]",
      "text/html": "<div>\n<style scoped>\n    .dataframe tbody tr th:only-of-type {\n        vertical-align: middle;\n    }\n\n    .dataframe tbody tr th {\n        vertical-align: top;\n    }\n\n    .dataframe thead th {\n        text-align: right;\n    }\n</style>\n<table border=\"1\" class=\"dataframe\">\n  <thead>\n    <tr style=\"text-align: right;\">\n      <th></th>\n      <th>id</th>\n      <th>nct_id</th>\n      <th>name</th>\n      <th>city</th>\n      <th>state</th>\n      <th>zip</th>\n      <th>country</th>\n    </tr>\n  </thead>\n  <tbody>\n    <tr>\n      <th>0</th>\n      <td>8790702</td>\n      <td>NCT03724162</td>\n      <td>Oslo University Hospital</td>\n      <td>Oslo</td>\n      <td>NaN</td>\n      <td>0424</td>\n      <td>Norway</td>\n    </tr>\n    <tr>\n      <th>1</th>\n      <td>8790703</td>\n      <td>NCT03724162</td>\n      <td>Department of vascular surgery, Oslo Universit...</td>\n      <td>Oslo</td>\n      <td>NaN</td>\n      <td>NaN</td>\n      <td>Norway</td>\n    </tr>\n    <tr>\n      <th>2</th>\n      <td>8790704</td>\n      <td>NCT03723954</td>\n      <td>Golf National</td>\n      <td>Saint-Quentin-en-Yvelines</td>\n      <td>NaN</td>\n      <td>78280</td>\n      <td>France</td>\n    </tr>\n    <tr>\n      <th>3</th>\n      <td>8790705</td>\n      <td>NCT03723668</td>\n      <td>Kidney Transplantation Care at Veteran's Affai...</td>\n      <td>Philadelphia</td>\n      <td>Pennsylvania</td>\n      <td>19104</td>\n      <td>United States</td>\n    </tr>\n    <tr>\n      <th>4</th>\n      <td>8790706</td>\n      <td>NCT03723668</td>\n      <td>Paris Transplant Group</td>\n      <td>Paris</td>\n      <td>NaN</td>\n      <td>75015</td>\n      <td>France</td>\n    </tr>\n    <tr>\n      <th>...</th>\n      <td>...</td>\n      <td>...</td>\n      <td>...</td>\n      <td>...</td>\n      <td>...</td>\n      <td>...</td>\n      <td>...</td>\n    </tr>\n    <tr>\n      <th>2619509</th>\n      <td>8790679</td>\n      <td>NCT00457951</td>\n      <td>Akademicki Szpital Kliniczny im. Jana Mikulicz...</td>\n      <td>Wroclaw</td>\n      <td>NaN</td>\n      <td>50-417</td>\n      <td>Poland</td>\n    </tr>\n    <tr>\n      <th>2619510</th>\n      <td>8790683</td>\n      <td>NCT00345943</td>\n      <td>New York State Psychiatric Institute at Columb...</td>\n      <td>New York</td>\n      <td>New York</td>\n      <td>10032</td>\n      <td>United States</td>\n    </tr>\n    <tr>\n      <th>2619511</th>\n      <td>8790684</td>\n      <td>NCT00258427</td>\n      <td>Masonic Cancer Center, University of Minnesota</td>\n      <td>Minneapolis</td>\n      <td>Minnesota</td>\n      <td>55455</td>\n      <td>United States</td>\n    </tr>\n    <tr>\n      <th>2619512</th>\n      <td>8790685</td>\n      <td>NCT00250341</td>\n      <td>UCLA</td>\n      <td>Los Angeles</td>\n      <td>California</td>\n      <td>90095</td>\n      <td>United States</td>\n    </tr>\n    <tr>\n      <th>2619513</th>\n      <td>8790686</td>\n      <td>NCT00238862</td>\n      <td>King Khaled Eye Specialist Hospital</td>\n      <td>Riyadh</td>\n      <td>NaN</td>\n      <td>11462</td>\n      <td>Saudi Arabia</td>\n    </tr>\n  </tbody>\n</table>\n<p>2619514 rows × 7 columns</p>\n</div>"
     },
     "metadata": {}
    }
   ]
  },
  {
   "cell_type": "code",
   "metadata": {
    "cell_id": "5d8c4198-8d86-48ac-9368-1c21d3b3ab41",
    "tags": [],
    "deepnote_to_be_reexecuted": false,
    "source_hash": "ea9d8f6c",
    "execution_start": 1644946986749,
    "execution_millis": 588,
    "deepnote_output_heights": [
     155.59375
    ],
    "deepnote_app_coordinates": {
     "x": 0,
     "y": 111,
     "w": 12,
     "h": 5
    },
    "deepnote_cell_type": "code"
   },
   "source": "dfF.isnull().sum() #checking for missing values",
   "execution_count": 17,
   "outputs": [
    {
     "output_type": "execute_result",
     "execution_count": 17,
     "data": {
      "text/plain": "id               0\nnct_id           0\nname        220140\ncity           106\nstate      1053268\nzip         532821\ncountry        106\ndtype: int64"
     },
     "metadata": {}
    }
   ]
  },
  {
   "cell_type": "code",
   "metadata": {
    "cell_id": "687b78a1-25b6-435b-9633-8e67fcf45685",
    "tags": [],
    "deepnote_to_be_reexecuted": false,
    "source_hash": "8aa6aff0",
    "execution_start": 1644946987509,
    "execution_millis": 129,
    "deepnote_cell_type": "code"
   },
   "source": "dfF['name']=dfF['name'].fillna(\"\")",
   "execution_count": 18,
   "outputs": []
  },
  {
   "cell_type": "code",
   "metadata": {
    "cell_id": "21ae4bd6-0490-4479-8f0d-659c37141708",
    "tags": [],
    "deepnote_to_be_reexecuted": false,
    "source_hash": "3a9d3bf7",
    "execution_start": 1644946987648,
    "execution_millis": 717,
    "deepnote_app_is_code_hidden": false,
    "deepnote_cell_type": "code"
   },
   "source": "dfF[\"name\"] = dfF[\"name\"].apply(lambda x: str(x))",
   "execution_count": 19,
   "outputs": []
  },
  {
   "cell_type": "code",
   "metadata": {
    "cell_id": "a8276fb3-95e6-47a9-99d9-6e4913caeea3",
    "tags": [],
    "deepnote_to_be_reexecuted": false,
    "source_hash": "4cb5013",
    "execution_start": 1644947017139,
    "execution_millis": 11062,
    "deepnote_output_heights": [
     136.390625
    ],
    "deepnote_cell_type": "code"
   },
   "source": "#removing the previously specified characters from the names\ndfF[\"name\"] = pd.Series('|'.join(dfF[\"name\"].tolist()).translate(transtab).split('|'))",
   "execution_count": 21,
   "outputs": []
  },
  {
   "cell_type": "code",
   "metadata": {
    "cell_id": "534fbb91-701f-44bf-8ec5-bce13530ac7b",
    "tags": [],
    "deepnote_app_coordinates": {
     "x": 0,
     "y": 0,
     "w": 12,
     "h": 5
    },
    "deepnote_to_be_reexecuted": false,
    "source_hash": "ca8eafcd",
    "execution_start": 1644947028316,
    "execution_millis": 745,
    "deepnote_cell_type": "code"
   },
   "source": "#removing any leading or trailing whitespaces\ndfF[\"name\"] = dfF[\"name\"].str.strip()",
   "execution_count": 22,
   "outputs": []
  },
  {
   "cell_type": "code",
   "metadata": {
    "cell_id": "0992600f-2426-4670-a61f-b795aeda9d9e",
    "tags": [],
    "deepnote_to_be_reexecuted": false,
    "source_hash": "34d0a094",
    "execution_start": 1644947029112,
    "execution_millis": 117,
    "deepnote_cell_type": "code"
   },
   "source": "dfF['name'] = dfF['name'].replace(\"For additional information regarding investigative sites for this trial contact 1-877-CTLILLY 1-877-285-4559 1-317-615-4559 Mon - Fri from 9 AM to 5 PM Eastern Time UTCGMT - 5 hours EST or speak with your personal physician\", pd.NA)",
   "execution_count": 23,
   "outputs": []
  },
  {
   "cell_type": "code",
   "metadata": {
    "cell_id": "b400c861-95d0-4811-8410-d7c7e76a828d",
    "tags": [],
    "deepnote_to_be_reexecuted": false,
    "source_hash": "3b8ecf2",
    "execution_start": 1644947029233,
    "execution_millis": 4478,
    "deepnote_output_heights": [
     232,
     232.390625
    ],
    "deepnote_cell_type": "code"
   },
   "source": "dfF['name'] = dfF['name'].replace(r'^\\s*$', pd.NA, regex=True)",
   "execution_count": 24,
   "outputs": []
  },
  {
   "cell_type": "code",
   "metadata": {
    "cell_id": "ea58bf5b-e4f7-4859-8e51-99e5f9dd2cdc",
    "tags": [],
    "deepnote_to_be_reexecuted": false,
    "source_hash": "1aa2fc35",
    "execution_start": 1644947033718,
    "execution_millis": 4118,
    "deepnote_cell_type": "code"
   },
   "source": "dfF['name'] = dfF['name'].replace(r'^Research Site', pd.NA, regex=True)",
   "execution_count": 25,
   "outputs": []
  },
  {
   "cell_type": "code",
   "metadata": {
    "cell_id": "afe30652-fb3e-4a73-a33d-7bfcf4cf8e8f",
    "tags": [],
    "deepnote_to_be_reexecuted": false,
    "source_hash": "d8702993",
    "execution_start": 1644947037861,
    "execution_millis": 7,
    "deepnote_table_state": {
     "pageSize": 10,
     "pageIndex": 0,
     "filters": [],
     "sortBy": [
      {
       "id": "name",
       "type": "desc"
      }
     ]
    },
    "deepnote_table_loading": false,
    "deepnote_table_invalid": false,
    "deepnote_app_coordinates": {
     "x": 0,
     "y": 392,
     "w": 12,
     "h": 14
    },
    "deepnote_app_is_code_hidden": true,
    "deepnote_cell_type": "code"
   },
   "source": "dfF.head()",
   "execution_count": 26,
   "outputs": [
    {
     "output_type": "execute_result",
     "execution_count": 26,
     "data": {
      "application/vnd.deepnote.dataframe.v3+json": {
       "column_count": 7,
       "row_count": 5,
       "columns": [
        {
         "name": "id",
         "dtype": "int64",
         "stats": {
          "unique_count": 5,
          "nan_count": 0,
          "min": "8790702",
          "max": "8790706",
          "histogram": [
           {
            "bin_start": 8790702,
            "bin_end": 8790702.4,
            "count": 1
           },
           {
            "bin_start": 8790702.4,
            "bin_end": 8790702.8,
            "count": 0
           },
           {
            "bin_start": 8790702.8,
            "bin_end": 8790703.2,
            "count": 1
           },
           {
            "bin_start": 8790703.2,
            "bin_end": 8790703.6,
            "count": 0
           },
           {
            "bin_start": 8790703.6,
            "bin_end": 8790704,
            "count": 0
           },
           {
            "bin_start": 8790704,
            "bin_end": 8790704.4,
            "count": 1
           },
           {
            "bin_start": 8790704.4,
            "bin_end": 8790704.8,
            "count": 0
           },
           {
            "bin_start": 8790704.8,
            "bin_end": 8790705.2,
            "count": 1
           },
           {
            "bin_start": 8790705.2,
            "bin_end": 8790705.6,
            "count": 0
           },
           {
            "bin_start": 8790705.6,
            "bin_end": 8790706,
            "count": 1
           }
          ]
         }
        },
        {
         "name": "nct_id",
         "dtype": "object",
         "stats": {
          "unique_count": 3,
          "nan_count": 0,
          "categories": [
           {
            "name": "NCT03723668",
            "count": 2
           },
           {
            "name": "NCT03724162",
            "count": 2
           },
           {
            "name": "NCT03723954",
            "count": 1
           }
          ]
         }
        },
        {
         "name": "name",
         "dtype": "object",
         "stats": {
          "unique_count": 5,
          "nan_count": 0,
          "categories": [
           {
            "name": "Paris Transplant Group",
            "count": 1
           },
           {
            "name": "Oslo University Hospital",
            "count": 1
           },
           {
            "name": "3 others",
            "count": 3
           }
          ]
         }
        },
        {
         "name": "city",
         "dtype": "object",
         "stats": {
          "unique_count": 4,
          "nan_count": 0,
          "categories": [
           {
            "name": "Oslo",
            "count": 2
           },
           {
            "name": "Paris",
            "count": 1
           },
           {
            "name": "2 others",
            "count": 2
           }
          ]
         }
        },
        {
         "name": "state",
         "dtype": "object",
         "stats": {
          "unique_count": 1,
          "nan_count": 4,
          "categories": [
           {
            "name": "Pennsylvania",
            "count": 1
           },
           {
            "name": "Missing",
            "count": 4
           }
          ]
         }
        },
        {
         "name": "zip",
         "dtype": "object",
         "stats": {
          "unique_count": 4,
          "nan_count": 1,
          "categories": [
           {
            "name": "75015",
            "count": 1
           },
           {
            "name": "3 others",
            "count": 3
           },
           {
            "name": "Missing",
            "count": 1
           }
          ]
         }
        },
        {
         "name": "country",
         "dtype": "object",
         "stats": {
          "unique_count": 3,
          "nan_count": 0,
          "categories": [
           {
            "name": "France",
            "count": 2
           },
           {
            "name": "Norway",
            "count": 2
           },
           {
            "name": "United States",
            "count": 1
           }
          ]
         }
        },
        {
         "name": "_deepnote_index_column",
         "dtype": "int64"
        }
       ],
       "rows": [
        {
         "id": 8790706,
         "nct_id": "NCT03723668",
         "name": "Paris Transplant Group",
         "city": "Paris",
         "state": "nan",
         "zip": "75015",
         "country": "France",
         "_deepnote_index_column": 4
        },
        {
         "id": 8790702,
         "nct_id": "NCT03724162",
         "name": "Oslo University Hospital",
         "city": "Oslo",
         "state": "nan",
         "zip": "0424",
         "country": "Norway",
         "_deepnote_index_column": 0
        },
        {
         "id": 8790705,
         "nct_id": "NCT03723668",
         "name": "Kidney Transplantation Care at Veterans Affairs Medical Center",
         "city": "Philadelphia",
         "state": "Pennsylvania",
         "zip": "19104",
         "country": "United States",
         "_deepnote_index_column": 3
        },
        {
         "id": 8790704,
         "nct_id": "NCT03723954",
         "name": "Golf National",
         "city": "Saint-Quentin-en-Yvelines",
         "state": "nan",
         "zip": "78280",
         "country": "France",
         "_deepnote_index_column": 2
        },
        {
         "id": 8790703,
         "nct_id": "NCT03724162",
         "name": "Department of vascular surgery Oslo University Hospital",
         "city": "Oslo",
         "state": "nan",
         "zip": "nan",
         "country": "Norway",
         "_deepnote_index_column": 1
        }
       ]
      },
      "text/plain": "        id       nct_id                                               name  \\\n0  8790702  NCT03724162                           Oslo University Hospital   \n1  8790703  NCT03724162  Department of vascular surgery Oslo University...   \n2  8790704  NCT03723954                                      Golf National   \n3  8790705  NCT03723668  Kidney Transplantation Care at Veterans Affair...   \n4  8790706  NCT03723668                             Paris Transplant Group   \n\n                        city         state    zip        country  \n0                       Oslo           NaN   0424         Norway  \n1                       Oslo           NaN    NaN         Norway  \n2  Saint-Quentin-en-Yvelines           NaN  78280         France  \n3               Philadelphia  Pennsylvania  19104  United States  \n4                      Paris           NaN  75015         France  ",
      "text/html": "<div>\n<style scoped>\n    .dataframe tbody tr th:only-of-type {\n        vertical-align: middle;\n    }\n\n    .dataframe tbody tr th {\n        vertical-align: top;\n    }\n\n    .dataframe thead th {\n        text-align: right;\n    }\n</style>\n<table border=\"1\" class=\"dataframe\">\n  <thead>\n    <tr style=\"text-align: right;\">\n      <th></th>\n      <th>id</th>\n      <th>nct_id</th>\n      <th>name</th>\n      <th>city</th>\n      <th>state</th>\n      <th>zip</th>\n      <th>country</th>\n    </tr>\n  </thead>\n  <tbody>\n    <tr>\n      <th>0</th>\n      <td>8790702</td>\n      <td>NCT03724162</td>\n      <td>Oslo University Hospital</td>\n      <td>Oslo</td>\n      <td>NaN</td>\n      <td>0424</td>\n      <td>Norway</td>\n    </tr>\n    <tr>\n      <th>1</th>\n      <td>8790703</td>\n      <td>NCT03724162</td>\n      <td>Department of vascular surgery Oslo University...</td>\n      <td>Oslo</td>\n      <td>NaN</td>\n      <td>NaN</td>\n      <td>Norway</td>\n    </tr>\n    <tr>\n      <th>2</th>\n      <td>8790704</td>\n      <td>NCT03723954</td>\n      <td>Golf National</td>\n      <td>Saint-Quentin-en-Yvelines</td>\n      <td>NaN</td>\n      <td>78280</td>\n      <td>France</td>\n    </tr>\n    <tr>\n      <th>3</th>\n      <td>8790705</td>\n      <td>NCT03723668</td>\n      <td>Kidney Transplantation Care at Veterans Affair...</td>\n      <td>Philadelphia</td>\n      <td>Pennsylvania</td>\n      <td>19104</td>\n      <td>United States</td>\n    </tr>\n    <tr>\n      <th>4</th>\n      <td>8790706</td>\n      <td>NCT03723668</td>\n      <td>Paris Transplant Group</td>\n      <td>Paris</td>\n      <td>NaN</td>\n      <td>75015</td>\n      <td>France</td>\n    </tr>\n  </tbody>\n</table>\n</div>"
     },
     "metadata": {}
    }
   ]
  },
  {
   "cell_type": "markdown",
   "source": "The facilities dataset appears to have much of the same issues as the investigators dataset, like unnecessary punctuation. Once again I applied similar cleaning techniques to reduce the inconsistencies. I also dropped the \"status\" column since it is not useful for the final dataset. ",
   "metadata": {
    "cell_id": "5cc89fe5-58fa-46b6-a41a-6f316273a984",
    "tags": [],
    "is_collapsed": false,
    "deepnote_app_coordinates": {
     "x": 0,
     "y": 0,
     "w": 8,
     "h": 2
    },
    "deepnote_cell_type": "text-cell-p"
   }
  },
  {
   "cell_type": "markdown",
   "source": "### Merging Facility Investigators and Facility Datasets",
   "metadata": {
    "cell_id": "a71106c3-176f-4b8f-a846-2ab2ae37cfa1",
    "tags": [],
    "is_collapsed": false,
    "deepnote_app_coordinates": {
     "x": 0,
     "y": 0,
     "w": 12,
     "h": 5
    },
    "deepnote_cell_type": "text-cell-h3"
   }
  },
  {
   "cell_type": "code",
   "metadata": {
    "cell_id": "ddc00304-0cf6-4f86-8b1d-27077dc54ea7",
    "tags": [],
    "deepnote_to_be_reexecuted": false,
    "source_hash": "9a380863",
    "execution_start": 1644947037870,
    "execution_millis": 694,
    "deepnote_table_state": {
     "pageSize": 10,
     "pageIndex": 0,
     "filters": [],
     "sortBy": [
      {
       "id": "id_x",
       "type": "asc"
      }
     ]
    },
    "deepnote_table_loading": false,
    "deepnote_app_coordinates": {
     "x": 0,
     "y": 117,
     "w": 12,
     "h": 5
    },
    "deepnote_cell_type": "code"
   },
   "source": "merged1 = pd.merge(dfFI, dfF, how =\"left\", left_on = \"facility_id\", right_on= \"id\")\nmerged1.head()",
   "execution_count": 27,
   "outputs": [
    {
     "output_type": "execute_result",
     "execution_count": 27,
     "data": {
      "application/vnd.deepnote.dataframe.v3+json": {
       "column_count": 12,
       "row_count": 5,
       "columns": [
        {
         "name": "id_x",
         "dtype": "int64",
         "stats": {
          "unique_count": 5,
          "nan_count": 0,
          "min": "1653475",
          "max": "1653479",
          "histogram": [
           {
            "bin_start": 1653475,
            "bin_end": 1653475.4,
            "count": 1
           },
           {
            "bin_start": 1653475.4,
            "bin_end": 1653475.8,
            "count": 0
           },
           {
            "bin_start": 1653475.8,
            "bin_end": 1653476.2,
            "count": 1
           },
           {
            "bin_start": 1653476.2,
            "bin_end": 1653476.6,
            "count": 0
           },
           {
            "bin_start": 1653476.6,
            "bin_end": 1653477,
            "count": 0
           },
           {
            "bin_start": 1653477,
            "bin_end": 1653477.4,
            "count": 1
           },
           {
            "bin_start": 1653477.4,
            "bin_end": 1653477.8,
            "count": 0
           },
           {
            "bin_start": 1653477.8,
            "bin_end": 1653478.2,
            "count": 1
           },
           {
            "bin_start": 1653478.2,
            "bin_end": 1653478.6,
            "count": 0
           },
           {
            "bin_start": 1653478.6,
            "bin_end": 1653479,
            "count": 1
           }
          ]
         }
        },
        {
         "name": "nct_id_x",
         "dtype": "object",
         "stats": {
          "unique_count": 2,
          "nan_count": 0,
          "categories": [
           {
            "name": "NCT04631068",
            "count": 4
           },
           {
            "name": "NCT04631146",
            "count": 1
           }
          ]
         }
        },
        {
         "name": "facility_id",
         "dtype": "int64",
         "stats": {
          "unique_count": 4,
          "nan_count": 0,
          "min": "8707217",
          "max": "8707230",
          "histogram": [
           {
            "bin_start": 8707217,
            "bin_end": 8707218.3,
            "count": 3
           },
           {
            "bin_start": 8707218.3,
            "bin_end": 8707219.6,
            "count": 1
           },
           {
            "bin_start": 8707219.6,
            "bin_end": 8707220.9,
            "count": 0
           },
           {
            "bin_start": 8707220.9,
            "bin_end": 8707222.2,
            "count": 0
           },
           {
            "bin_start": 8707222.2,
            "bin_end": 8707223.5,
            "count": 0
           },
           {
            "bin_start": 8707223.5,
            "bin_end": 8707224.8,
            "count": 0
           },
           {
            "bin_start": 8707224.8,
            "bin_end": 8707226.1,
            "count": 0
           },
           {
            "bin_start": 8707226.1,
            "bin_end": 8707227.4,
            "count": 0
           },
           {
            "bin_start": 8707227.4,
            "bin_end": 8707228.7,
            "count": 0
           },
           {
            "bin_start": 8707228.7,
            "bin_end": 8707230,
            "count": 1
           }
          ]
         }
        },
        {
         "name": "role",
         "dtype": "object",
         "stats": {
          "unique_count": 2,
          "nan_count": 0,
          "categories": [
           {
            "name": "Principal Investigator",
            "count": 4
           },
           {
            "name": "Sub-Investigator",
            "count": 1
           }
          ]
         }
        },
        {
         "name": "name_x",
         "dtype": "object",
         "stats": {
          "unique_count": 5,
          "nan_count": 0,
          "categories": [
           {
            "name": "CEDRIC SCHWEITZER",
            "count": 1
           },
           {
            "name": "DAVID TOUBOL",
            "count": 1
           },
           {
            "name": "3 others",
            "count": 3
           }
          ]
         }
        },
        {
         "name": "id_y",
         "dtype": "int64",
         "stats": {
          "unique_count": 4,
          "nan_count": 0,
          "min": "8707217",
          "max": "8707230",
          "histogram": [
           {
            "bin_start": 8707217,
            "bin_end": 8707218.3,
            "count": 3
           },
           {
            "bin_start": 8707218.3,
            "bin_end": 8707219.6,
            "count": 1
           },
           {
            "bin_start": 8707219.6,
            "bin_end": 8707220.9,
            "count": 0
           },
           {
            "bin_start": 8707220.9,
            "bin_end": 8707222.2,
            "count": 0
           },
           {
            "bin_start": 8707222.2,
            "bin_end": 8707223.5,
            "count": 0
           },
           {
            "bin_start": 8707223.5,
            "bin_end": 8707224.8,
            "count": 0
           },
           {
            "bin_start": 8707224.8,
            "bin_end": 8707226.1,
            "count": 0
           },
           {
            "bin_start": 8707226.1,
            "bin_end": 8707227.4,
            "count": 0
           },
           {
            "bin_start": 8707227.4,
            "bin_end": 8707228.7,
            "count": 0
           },
           {
            "bin_start": 8707228.7,
            "bin_end": 8707230,
            "count": 1
           }
          ]
         }
        },
        {
         "name": "nct_id_y",
         "dtype": "object",
         "stats": {
          "unique_count": 2,
          "nan_count": 0,
          "categories": [
           {
            "name": "NCT04631068",
            "count": 4
           },
           {
            "name": "NCT04631146",
            "count": 1
           }
          ]
         }
        },
        {
         "name": "name_y",
         "dtype": "object",
         "stats": {
          "unique_count": 4,
          "nan_count": 0,
          "categories": [
           {
            "name": "University of Oklahoma Health Sciences Center",
            "count": 2
           },
           {
            "name": "Legacy Emanuel Childrens Hospital",
            "count": 1
           },
           {
            "name": "2 others",
            "count": 2
           }
          ]
         }
        },
        {
         "name": "city",
         "dtype": "object",
         "stats": {
          "unique_count": 4,
          "nan_count": 0,
          "categories": [
           {
            "name": "Bordeaux",
            "count": 2
           },
           {
            "name": "Braga",
            "count": 1
           },
           {
            "name": "2 others",
            "count": 2
           }
          ]
         }
        },
        {
         "name": "state",
         "dtype": "object",
         "stats": {
          "unique_count": 2,
          "nan_count": 2,
          "categories": [
           {
            "name": "Cedex",
            "count": 2
           },
           {
            "name": "Guangdong",
            "count": 1
           },
           {
            "name": "Missing",
            "count": 2
           }
          ]
         }
        },
        {
         "name": "zip",
         "dtype": "object",
         "stats": {
          "unique_count": 4,
          "nan_count": 0,
          "categories": [
           {
            "name": "33076",
            "count": 2
           },
           {
            "name": "4710-243",
            "count": 1
           },
           {
            "name": "2 others",
            "count": 2
           }
          ]
         }
        },
        {
         "name": "country",
         "dtype": "object",
         "stats": {
          "unique_count": 4,
          "nan_count": 0,
          "categories": [
           {
            "name": "France",
            "count": 2
           },
           {
            "name": "Portugal",
            "count": 1
           },
           {
            "name": "2 others",
            "count": 2
           }
          ]
         }
        },
        {
         "name": "_deepnote_index_column",
         "dtype": "int64"
        }
       ],
       "rows": [
        {
         "id_x": 1653475,
         "nct_id_x": "NCT04631068",
         "facility_id": 8707217,
         "role": "Principal Investigator",
         "name_x": "CEDRIC SCHWEITZER",
         "id_y": 8707217,
         "nct_id_y": "NCT04631068",
         "name_y": "University of Oklahoma Health Sciences Center",
         "city": "Bordeaux",
         "state": "Cedex",
         "zip": "33076",
         "country": "France",
         "_deepnote_index_column": 0
        },
        {
         "id_x": 1653476,
         "nct_id_x": "NCT04631068",
         "facility_id": 8707217,
         "role": "Sub-Investigator",
         "name_x": "DAVID TOUBOL",
         "id_y": 8707217,
         "nct_id_y": "NCT04631068",
         "name_y": "University of Oklahoma Health Sciences Center",
         "city": "Bordeaux",
         "state": "Cedex",
         "zip": "33076",
         "country": "France",
         "_deepnote_index_column": 1
        },
        {
         "id_x": 1653477,
         "nct_id_x": "NCT04631068",
         "facility_id": 8707218,
         "role": "Principal Investigator",
         "name_x": "TIAGO MONTEIRO",
         "id_y": 8707218,
         "nct_id_y": "NCT04631068",
         "name_y": "Legacy Emanuel Childrens Hospital",
         "city": "Braga",
         "state": "nan",
         "zip": "4710-243",
         "country": "Portugal",
         "_deepnote_index_column": 2
        },
        {
         "id_x": 1653478,
         "nct_id_x": "NCT04631068",
         "facility_id": 8707219,
         "role": "Principal Investigator",
         "name_x": "PAUL ROSEN",
         "id_y": 8707219,
         "nct_id_y": "NCT04631068",
         "name_y": "Oregon Health and Science University",
         "city": "Oxford",
         "state": "nan",
         "zip": "OX3 9DU",
         "country": "United Kingdom",
         "_deepnote_index_column": 3
        },
        {
         "id_x": 1653479,
         "nct_id_x": "NCT04631146",
         "facility_id": 8707230,
         "role": "Principal Investigator",
         "name_x": "YILONG WU",
         "id_y": 8707230,
         "nct_id_y": "NCT04631146",
         "name_y": "East Tennessee Childrens Hospital",
         "city": "Guangzhou",
         "state": "Guangdong",
         "zip": "510080",
         "country": "China",
         "_deepnote_index_column": 4
        }
       ]
      },
      "text/plain": "      id_x     nct_id_x  facility_id                    role  \\\n0  1653475  NCT04631068      8707217  Principal Investigator   \n1  1653476  NCT04631068      8707217        Sub-Investigator   \n2  1653477  NCT04631068      8707218  Principal Investigator   \n3  1653478  NCT04631068      8707219  Principal Investigator   \n4  1653479  NCT04631146      8707230  Principal Investigator   \n\n              name_x     id_y     nct_id_y  \\\n0  CEDRIC SCHWEITZER  8707217  NCT04631068   \n1       DAVID TOUBOL  8707217  NCT04631068   \n2     TIAGO MONTEIRO  8707218  NCT04631068   \n3         PAUL ROSEN  8707219  NCT04631068   \n4          YILONG WU  8707230  NCT04631146   \n\n                                          name_y       city      state  \\\n0  University of Oklahoma Health Sciences Center   Bordeaux      Cedex   \n1  University of Oklahoma Health Sciences Center   Bordeaux      Cedex   \n2              Legacy Emanuel Childrens Hospital      Braga        NaN   \n3           Oregon Health and Science University     Oxford        NaN   \n4              East Tennessee Childrens Hospital  Guangzhou  Guangdong   \n\n        zip         country  \n0     33076          France  \n1     33076          France  \n2  4710-243        Portugal  \n3   OX3 9DU  United Kingdom  \n4    510080           China  ",
      "text/html": "<div>\n<style scoped>\n    .dataframe tbody tr th:only-of-type {\n        vertical-align: middle;\n    }\n\n    .dataframe tbody tr th {\n        vertical-align: top;\n    }\n\n    .dataframe thead th {\n        text-align: right;\n    }\n</style>\n<table border=\"1\" class=\"dataframe\">\n  <thead>\n    <tr style=\"text-align: right;\">\n      <th></th>\n      <th>id_x</th>\n      <th>nct_id_x</th>\n      <th>facility_id</th>\n      <th>role</th>\n      <th>name_x</th>\n      <th>id_y</th>\n      <th>nct_id_y</th>\n      <th>name_y</th>\n      <th>city</th>\n      <th>state</th>\n      <th>zip</th>\n      <th>country</th>\n    </tr>\n  </thead>\n  <tbody>\n    <tr>\n      <th>0</th>\n      <td>1653475</td>\n      <td>NCT04631068</td>\n      <td>8707217</td>\n      <td>Principal Investigator</td>\n      <td>CEDRIC SCHWEITZER</td>\n      <td>8707217</td>\n      <td>NCT04631068</td>\n      <td>University of Oklahoma Health Sciences Center</td>\n      <td>Bordeaux</td>\n      <td>Cedex</td>\n      <td>33076</td>\n      <td>France</td>\n    </tr>\n    <tr>\n      <th>1</th>\n      <td>1653476</td>\n      <td>NCT04631068</td>\n      <td>8707217</td>\n      <td>Sub-Investigator</td>\n      <td>DAVID TOUBOL</td>\n      <td>8707217</td>\n      <td>NCT04631068</td>\n      <td>University of Oklahoma Health Sciences Center</td>\n      <td>Bordeaux</td>\n      <td>Cedex</td>\n      <td>33076</td>\n      <td>France</td>\n    </tr>\n    <tr>\n      <th>2</th>\n      <td>1653477</td>\n      <td>NCT04631068</td>\n      <td>8707218</td>\n      <td>Principal Investigator</td>\n      <td>TIAGO MONTEIRO</td>\n      <td>8707218</td>\n      <td>NCT04631068</td>\n      <td>Legacy Emanuel Childrens Hospital</td>\n      <td>Braga</td>\n      <td>NaN</td>\n      <td>4710-243</td>\n      <td>Portugal</td>\n    </tr>\n    <tr>\n      <th>3</th>\n      <td>1653478</td>\n      <td>NCT04631068</td>\n      <td>8707219</td>\n      <td>Principal Investigator</td>\n      <td>PAUL ROSEN</td>\n      <td>8707219</td>\n      <td>NCT04631068</td>\n      <td>Oregon Health and Science University</td>\n      <td>Oxford</td>\n      <td>NaN</td>\n      <td>OX3 9DU</td>\n      <td>United Kingdom</td>\n    </tr>\n    <tr>\n      <th>4</th>\n      <td>1653479</td>\n      <td>NCT04631146</td>\n      <td>8707230</td>\n      <td>Principal Investigator</td>\n      <td>YILONG WU</td>\n      <td>8707230</td>\n      <td>NCT04631146</td>\n      <td>East Tennessee Childrens Hospital</td>\n      <td>Guangzhou</td>\n      <td>Guangdong</td>\n      <td>510080</td>\n      <td>China</td>\n    </tr>\n  </tbody>\n</table>\n</div>"
     },
     "metadata": {}
    }
   ]
  },
  {
   "cell_type": "markdown",
   "source": "I merged the two previous datasets using a left join, because the focus is on the doctors conducting the clinical trial, therefore I wanted to preserve the completeness of the investigators dataset. ",
   "metadata": {
    "cell_id": "5577b1a7-1c6e-4047-ae4e-e4e578fb2dd1",
    "tags": [],
    "is_collapsed": false,
    "deepnote_app_coordinates": {
     "x": 0,
     "y": 0,
     "w": 8,
     "h": 2
    },
    "deepnote_cell_type": "text-cell-p"
   }
  },
  {
   "cell_type": "code",
   "metadata": {
    "cell_id": "301bd973-1056-4087-b90c-15748d0755d2",
    "tags": [],
    "deepnote_to_be_reexecuted": false,
    "source_hash": "9a5bd77",
    "execution_start": 1644947038592,
    "execution_millis": 81,
    "deepnote_output_heights": [
     251.59375
    ],
    "deepnote_app_coordinates": {
     "x": 0,
     "y": 129,
     "w": 12,
     "h": 5
    },
    "deepnote_cell_type": "code"
   },
   "source": "merged1.isnull().sum()",
   "execution_count": 28,
   "outputs": [
    {
     "output_type": "execute_result",
     "execution_count": 28,
     "data": {
      "text/plain": "id_x               0\nnct_id_x           0\nfacility_id        0\nrole               0\nname_x             0\nid_y               0\nnct_id_y           0\nname_y         19006\ncity               0\nstate          69011\nzip            25772\ncountry            0\ndtype: int64"
     },
     "metadata": {}
    }
   ]
  },
  {
   "cell_type": "code",
   "metadata": {
    "cell_id": "8c909b29-4460-445e-b924-71e36593022a",
    "tags": [],
    "deepnote_to_be_reexecuted": false,
    "source_hash": "fb0a14cf",
    "execution_start": 1644947038674,
    "execution_millis": 3,
    "deepnote_cell_type": "code"
   },
   "source": "merged1.rename(columns={'name_x':'name', 'name_y': 'facility'}, inplace=True)",
   "execution_count": 29,
   "outputs": []
  },
  {
   "cell_type": "code",
   "metadata": {
    "cell_id": "1b69c4fb-f122-4d08-a0a8-bd7e3ec895a7",
    "tags": [],
    "deepnote_to_be_reexecuted": false,
    "source_hash": "81e9f34",
    "execution_start": 1644947038685,
    "execution_millis": 71,
    "deepnote_cell_type": "code"
   },
   "source": "merged1 = merged1.drop(columns=[\"id_y\", \"nct_id_y\"])",
   "execution_count": 30,
   "outputs": []
  },
  {
   "cell_type": "code",
   "metadata": {
    "cell_id": "4e37ebcb-2678-4359-87bc-0bd7dd60caee",
    "tags": [],
    "deepnote_to_be_reexecuted": false,
    "source_hash": "86a7419",
    "execution_start": 1644947038791,
    "execution_millis": 47,
    "deepnote_app_coordinates": {
     "x": 0,
     "y": 377,
     "w": 12,
     "h": 14
    },
    "deepnote_app_is_code_hidden": true,
    "deepnote_cell_type": "code"
   },
   "source": "merged1.head()",
   "execution_count": 31,
   "outputs": [
    {
     "output_type": "execute_result",
     "execution_count": 31,
     "data": {
      "application/vnd.deepnote.dataframe.v3+json": {
       "column_count": 10,
       "row_count": 5,
       "columns": [
        {
         "name": "id_x",
         "dtype": "int64",
         "stats": {
          "unique_count": 5,
          "nan_count": 0,
          "min": "1653475",
          "max": "1653479",
          "histogram": [
           {
            "bin_start": 1653475,
            "bin_end": 1653475.4,
            "count": 1
           },
           {
            "bin_start": 1653475.4,
            "bin_end": 1653475.8,
            "count": 0
           },
           {
            "bin_start": 1653475.8,
            "bin_end": 1653476.2,
            "count": 1
           },
           {
            "bin_start": 1653476.2,
            "bin_end": 1653476.6,
            "count": 0
           },
           {
            "bin_start": 1653476.6,
            "bin_end": 1653477,
            "count": 0
           },
           {
            "bin_start": 1653477,
            "bin_end": 1653477.4,
            "count": 1
           },
           {
            "bin_start": 1653477.4,
            "bin_end": 1653477.8,
            "count": 0
           },
           {
            "bin_start": 1653477.8,
            "bin_end": 1653478.2,
            "count": 1
           },
           {
            "bin_start": 1653478.2,
            "bin_end": 1653478.6,
            "count": 0
           },
           {
            "bin_start": 1653478.6,
            "bin_end": 1653479,
            "count": 1
           }
          ]
         }
        },
        {
         "name": "nct_id_x",
         "dtype": "object",
         "stats": {
          "unique_count": 2,
          "nan_count": 0,
          "categories": [
           {
            "name": "NCT04631068",
            "count": 4
           },
           {
            "name": "NCT04631146",
            "count": 1
           }
          ]
         }
        },
        {
         "name": "facility_id",
         "dtype": "int64",
         "stats": {
          "unique_count": 4,
          "nan_count": 0,
          "min": "8707217",
          "max": "8707230",
          "histogram": [
           {
            "bin_start": 8707217,
            "bin_end": 8707218.3,
            "count": 3
           },
           {
            "bin_start": 8707218.3,
            "bin_end": 8707219.6,
            "count": 1
           },
           {
            "bin_start": 8707219.6,
            "bin_end": 8707220.9,
            "count": 0
           },
           {
            "bin_start": 8707220.9,
            "bin_end": 8707222.2,
            "count": 0
           },
           {
            "bin_start": 8707222.2,
            "bin_end": 8707223.5,
            "count": 0
           },
           {
            "bin_start": 8707223.5,
            "bin_end": 8707224.8,
            "count": 0
           },
           {
            "bin_start": 8707224.8,
            "bin_end": 8707226.1,
            "count": 0
           },
           {
            "bin_start": 8707226.1,
            "bin_end": 8707227.4,
            "count": 0
           },
           {
            "bin_start": 8707227.4,
            "bin_end": 8707228.7,
            "count": 0
           },
           {
            "bin_start": 8707228.7,
            "bin_end": 8707230,
            "count": 1
           }
          ]
         }
        },
        {
         "name": "role",
         "dtype": "object",
         "stats": {
          "unique_count": 2,
          "nan_count": 0,
          "categories": [
           {
            "name": "Principal Investigator",
            "count": 4
           },
           {
            "name": "Sub-Investigator",
            "count": 1
           }
          ]
         }
        },
        {
         "name": "name",
         "dtype": "object",
         "stats": {
          "unique_count": 5,
          "nan_count": 0,
          "categories": [
           {
            "name": "CEDRIC SCHWEITZER",
            "count": 1
           },
           {
            "name": "DAVID TOUBOL",
            "count": 1
           },
           {
            "name": "3 others",
            "count": 3
           }
          ]
         }
        },
        {
         "name": "facility",
         "dtype": "object",
         "stats": {
          "unique_count": 4,
          "nan_count": 0,
          "categories": [
           {
            "name": "University of Oklahoma Health Sciences Center",
            "count": 2
           },
           {
            "name": "Legacy Emanuel Childrens Hospital",
            "count": 1
           },
           {
            "name": "2 others",
            "count": 2
           }
          ]
         }
        },
        {
         "name": "city",
         "dtype": "object",
         "stats": {
          "unique_count": 4,
          "nan_count": 0,
          "categories": [
           {
            "name": "Bordeaux",
            "count": 2
           },
           {
            "name": "Braga",
            "count": 1
           },
           {
            "name": "2 others",
            "count": 2
           }
          ]
         }
        },
        {
         "name": "state",
         "dtype": "object",
         "stats": {
          "unique_count": 2,
          "nan_count": 2,
          "categories": [
           {
            "name": "Cedex",
            "count": 2
           },
           {
            "name": "Guangdong",
            "count": 1
           },
           {
            "name": "Missing",
            "count": 2
           }
          ]
         }
        },
        {
         "name": "zip",
         "dtype": "object",
         "stats": {
          "unique_count": 4,
          "nan_count": 0,
          "categories": [
           {
            "name": "33076",
            "count": 2
           },
           {
            "name": "4710-243",
            "count": 1
           },
           {
            "name": "2 others",
            "count": 2
           }
          ]
         }
        },
        {
         "name": "country",
         "dtype": "object",
         "stats": {
          "unique_count": 4,
          "nan_count": 0,
          "categories": [
           {
            "name": "France",
            "count": 2
           },
           {
            "name": "Portugal",
            "count": 1
           },
           {
            "name": "2 others",
            "count": 2
           }
          ]
         }
        },
        {
         "name": "_deepnote_index_column",
         "dtype": "int64"
        }
       ],
       "rows": [
        {
         "id_x": 1653475,
         "nct_id_x": "NCT04631068",
         "facility_id": 8707217,
         "role": "Principal Investigator",
         "name": "CEDRIC SCHWEITZER",
         "facility": "University of Oklahoma Health Sciences Center",
         "city": "Bordeaux",
         "state": "Cedex",
         "zip": "33076",
         "country": "France",
         "_deepnote_index_column": 0
        },
        {
         "id_x": 1653476,
         "nct_id_x": "NCT04631068",
         "facility_id": 8707217,
         "role": "Sub-Investigator",
         "name": "DAVID TOUBOL",
         "facility": "University of Oklahoma Health Sciences Center",
         "city": "Bordeaux",
         "state": "Cedex",
         "zip": "33076",
         "country": "France",
         "_deepnote_index_column": 1
        },
        {
         "id_x": 1653477,
         "nct_id_x": "NCT04631068",
         "facility_id": 8707218,
         "role": "Principal Investigator",
         "name": "TIAGO MONTEIRO",
         "facility": "Legacy Emanuel Childrens Hospital",
         "city": "Braga",
         "state": "nan",
         "zip": "4710-243",
         "country": "Portugal",
         "_deepnote_index_column": 2
        },
        {
         "id_x": 1653478,
         "nct_id_x": "NCT04631068",
         "facility_id": 8707219,
         "role": "Principal Investigator",
         "name": "PAUL ROSEN",
         "facility": "Oregon Health and Science University",
         "city": "Oxford",
         "state": "nan",
         "zip": "OX3 9DU",
         "country": "United Kingdom",
         "_deepnote_index_column": 3
        },
        {
         "id_x": 1653479,
         "nct_id_x": "NCT04631146",
         "facility_id": 8707230,
         "role": "Principal Investigator",
         "name": "YILONG WU",
         "facility": "East Tennessee Childrens Hospital",
         "city": "Guangzhou",
         "state": "Guangdong",
         "zip": "510080",
         "country": "China",
         "_deepnote_index_column": 4
        }
       ]
      },
      "text/plain": "      id_x     nct_id_x  facility_id                    role  \\\n0  1653475  NCT04631068      8707217  Principal Investigator   \n1  1653476  NCT04631068      8707217        Sub-Investigator   \n2  1653477  NCT04631068      8707218  Principal Investigator   \n3  1653478  NCT04631068      8707219  Principal Investigator   \n4  1653479  NCT04631146      8707230  Principal Investigator   \n\n                name                                       facility  \\\n0  CEDRIC SCHWEITZER  University of Oklahoma Health Sciences Center   \n1       DAVID TOUBOL  University of Oklahoma Health Sciences Center   \n2     TIAGO MONTEIRO              Legacy Emanuel Childrens Hospital   \n3         PAUL ROSEN           Oregon Health and Science University   \n4          YILONG WU              East Tennessee Childrens Hospital   \n\n        city      state       zip         country  \n0   Bordeaux      Cedex     33076          France  \n1   Bordeaux      Cedex     33076          France  \n2      Braga        NaN  4710-243        Portugal  \n3     Oxford        NaN   OX3 9DU  United Kingdom  \n4  Guangzhou  Guangdong    510080           China  ",
      "text/html": "<div>\n<style scoped>\n    .dataframe tbody tr th:only-of-type {\n        vertical-align: middle;\n    }\n\n    .dataframe tbody tr th {\n        vertical-align: top;\n    }\n\n    .dataframe thead th {\n        text-align: right;\n    }\n</style>\n<table border=\"1\" class=\"dataframe\">\n  <thead>\n    <tr style=\"text-align: right;\">\n      <th></th>\n      <th>id_x</th>\n      <th>nct_id_x</th>\n      <th>facility_id</th>\n      <th>role</th>\n      <th>name</th>\n      <th>facility</th>\n      <th>city</th>\n      <th>state</th>\n      <th>zip</th>\n      <th>country</th>\n    </tr>\n  </thead>\n  <tbody>\n    <tr>\n      <th>0</th>\n      <td>1653475</td>\n      <td>NCT04631068</td>\n      <td>8707217</td>\n      <td>Principal Investigator</td>\n      <td>CEDRIC SCHWEITZER</td>\n      <td>University of Oklahoma Health Sciences Center</td>\n      <td>Bordeaux</td>\n      <td>Cedex</td>\n      <td>33076</td>\n      <td>France</td>\n    </tr>\n    <tr>\n      <th>1</th>\n      <td>1653476</td>\n      <td>NCT04631068</td>\n      <td>8707217</td>\n      <td>Sub-Investigator</td>\n      <td>DAVID TOUBOL</td>\n      <td>University of Oklahoma Health Sciences Center</td>\n      <td>Bordeaux</td>\n      <td>Cedex</td>\n      <td>33076</td>\n      <td>France</td>\n    </tr>\n    <tr>\n      <th>2</th>\n      <td>1653477</td>\n      <td>NCT04631068</td>\n      <td>8707218</td>\n      <td>Principal Investigator</td>\n      <td>TIAGO MONTEIRO</td>\n      <td>Legacy Emanuel Childrens Hospital</td>\n      <td>Braga</td>\n      <td>NaN</td>\n      <td>4710-243</td>\n      <td>Portugal</td>\n    </tr>\n    <tr>\n      <th>3</th>\n      <td>1653478</td>\n      <td>NCT04631068</td>\n      <td>8707219</td>\n      <td>Principal Investigator</td>\n      <td>PAUL ROSEN</td>\n      <td>Oregon Health and Science University</td>\n      <td>Oxford</td>\n      <td>NaN</td>\n      <td>OX3 9DU</td>\n      <td>United Kingdom</td>\n    </tr>\n    <tr>\n      <th>4</th>\n      <td>1653479</td>\n      <td>NCT04631146</td>\n      <td>8707230</td>\n      <td>Principal Investigator</td>\n      <td>YILONG WU</td>\n      <td>East Tennessee Childrens Hospital</td>\n      <td>Guangzhou</td>\n      <td>Guangdong</td>\n      <td>510080</td>\n      <td>China</td>\n    </tr>\n  </tbody>\n</table>\n</div>"
     },
     "metadata": {}
    }
   ]
  },
  {
   "cell_type": "markdown",
   "source": "After a successful merge, I dropped some duplicate columns and adjusted some column names to better represent what the columns were for.",
   "metadata": {
    "cell_id": "082e9a58-4f55-44f0-a894-4efda7070fb2",
    "tags": [],
    "is_collapsed": false,
    "deepnote_app_coordinates": {
     "x": 0,
     "y": 0,
     "w": 8,
     "h": 2
    },
    "deepnote_cell_type": "text-cell-p"
   }
  },
  {
   "cell_type": "markdown",
   "source": "### Doctors &amp; Clinicians Dataset",
   "metadata": {
    "cell_id": "e7a0f37a-932d-45ca-a5e3-f1107e7fdd31",
    "tags": [],
    "is_collapsed": false,
    "deepnote_app_coordinates": {
     "x": 0,
     "y": 147,
     "w": 12,
     "h": 5
    },
    "deepnote_cell_type": "text-cell-h3"
   }
  },
  {
   "cell_type": "markdown",
   "source": "The&nbsp;Doctors &amp; Clinicians DAC) dataset&nbsp;from&nbsp;the&nbsp;The Centers for Medicare &amp; Medicaid Services (CMS) 2.3 million rows about eligible professionals registered with CMS",
   "metadata": {
    "cell_id": "320ee817-81e0-4ed2-bdeb-f43a7cba3ccb",
    "tags": [],
    "is_collapsed": false,
    "deepnote_app_coordinates": {
     "x": 0,
     "y": 0,
     "w": 8,
     "h": 2
    },
    "deepnote_cell_type": "text-cell-p"
   }
  },
  {
   "cell_type": "code",
   "metadata": {
    "tags": [],
    "deepnote_to_be_reexecuted": false,
    "source_hash": "f804c160",
    "execution_start": 1644947038837,
    "execution_millis": 3228,
    "deepnote_output_heights": [
     208.1875
    ],
    "deepnote_table_state": {
     "pageSize": 10,
     "pageIndex": 0,
     "filters": [],
     "sortBy": []
    },
    "deepnote_table_loading": false,
    "deepnote_table_invalid": false,
    "cell_id": "00003-0d4ebd08-134b-449f-9d92-6ceefc08c286",
    "deepnote_app_coordinates": {
     "x": 0,
     "y": 153,
     "w": 12,
     "h": 5
    },
    "deepnote_cell_type": "code"
   },
   "source": "df",
   "execution_count": 32,
   "outputs": [
    {
     "output_type": "execute_result",
     "execution_count": 32,
     "data": {
      "application/vnd.deepnote.dataframe.v3+json": {
       "column_count": 26,
       "row_count": 2382175,
       "columns": [
        {
         "name": "NPI",
         "dtype": "int64"
        },
        {
         "name": " lst_nm",
         "dtype": "object"
        },
        {
         "name": " frst_nm",
         "dtype": "object"
        },
        {
         "name": " mid_nm",
         "dtype": "object"
        },
        {
         "name": " suff",
         "dtype": "object"
        },
        {
         "name": " gndr",
         "dtype": "object"
        },
        {
         "name": " Med_sch",
         "dtype": "object"
        },
        {
         "name": " Grd_yr",
         "dtype": "float64"
        },
        {
         "name": " pri_spec",
         "dtype": "object"
        },
        {
         "name": " sec_spec_all",
         "dtype": "object"
        },
        {
         "name": " org_nm",
         "dtype": "object"
        },
        {
         "name": " num_org_mem",
         "dtype": "float64"
        },
        {
         "name": " adr_ln_1",
         "dtype": "object"
        },
        {
         "name": " adr_ln_2",
         "dtype": "object"
        },
        {
         "name": " cty",
         "dtype": "object"
        },
        {
         "name": " st",
         "dtype": "object"
        },
        {
         "name": " zip",
         "dtype": "object"
        },
        {
         "name": " phn_numbr",
         "dtype": "float64"
        },
        {
         "name": " hosp_afl_lbn_1",
         "dtype": "object"
        },
        {
         "name": " hosp_afl_lbn_2",
         "dtype": "object"
        },
        {
         "name": " hosp_afl_lbn_3",
         "dtype": "object"
        },
        {
         "name": " hosp_afl_lbn_4",
         "dtype": "object"
        },
        {
         "name": " hosp_afl_lbn_5",
         "dtype": "object"
        },
        {
         "name": " ind_assgn",
         "dtype": "object"
        },
        {
         "name": " grp_assgn",
         "dtype": "object"
        },
        {
         "name": " adrs_id",
         "dtype": "object"
        },
        {
         "name": "_deepnote_index_column",
         "dtype": "int64"
        }
       ],
       "rows": [
        {
         "NPI": 1215321872,
         " lst_nm": "MASIELLO",
         " frst_nm": "EVE",
         " mid_nm": "nan",
         " suff": "nan",
         " gndr": "F",
         " Med_sch": "OTHER",
         " Grd_yr": 1982,
         " pri_spec": "CLINICAL SOCIAL WORKER",
         " sec_spec_all": "nan",
         " org_nm": "nan",
         " num_org_mem": "nan",
         " adr_ln_1": "120 COURT ST",
         " adr_ln_2": "nan",
         " cty": "PLYMOUTH",
         " st": "MA",
         " zip": "023603826",
         " phn_numbr": 7817107356,
         " hosp_afl_lbn_1": "nan",
         " hosp_afl_lbn_2": "nan",
         " hosp_afl_lbn_3": "nan",
         " hosp_afl_lbn_4": "nan",
         " hosp_afl_lbn_5": "nan",
         " ind_assgn": "M",
         " grp_assgn": "M",
         " adrs_id": "MA023603826PL120XXSTXX300",
         "_deepnote_index_column": 0
        },
        {
         "NPI": 1215195664,
         " lst_nm": "DURU",
         " frst_nm": "CELESTINA",
         " mid_nm": "N",
         " suff": "nan",
         " gndr": "F",
         " Med_sch": "NEW YORK COLLEGE OF PODIATRIC MEDICINE",
         " Grd_yr": 2007,
         " pri_spec": "PODIATRY",
         " sec_spec_all": "nan",
         " org_nm": "nan",
         " num_org_mem": "nan",
         " adr_ln_1": "2000 ESTERS RD",
         " adr_ln_2": "SUITE 104",
         " cty": "IRVING",
         " st": "TX",
         " zip": "750619580",
         " phn_numbr": "nan",
         " hosp_afl_lbn_1": "nan",
         " hosp_afl_lbn_2": "nan",
         " hosp_afl_lbn_3": "nan",
         " hosp_afl_lbn_4": "nan",
         " hosp_afl_lbn_5": "nan",
         " ind_assgn": "Y",
         " grp_assgn": "M",
         " adrs_id": "TX750619580IR2000XRDXX303",
         "_deepnote_index_column": 1
        },
        {
         "NPI": 1215188925,
         " lst_nm": "KESHAVARZI",
         " frst_nm": "REZA",
         " mid_nm": "nan",
         " suff": "nan",
         " gndr": "M",
         " Med_sch": "UNIVERSITY OF KENTUCKY COLLEGE OF MEDICINE",
         " Grd_yr": 2005,
         " pri_spec": "GENERAL SURGERY",
         " sec_spec_all": "nan",
         " org_nm": "nan",
         " num_org_mem": "nan",
         " adr_ln_1": "7330 SW 62ND PL",
         " adr_ln_2": "SUITE 210",
         " cty": "SOUTH MIAMI",
         " st": "FL",
         " zip": "331434825",
         " phn_numbr": "nan",
         " hosp_afl_lbn_1": "nan",
         " hosp_afl_lbn_2": "nan",
         " hosp_afl_lbn_3": "nan",
         " hosp_afl_lbn_4": "nan",
         " hosp_afl_lbn_5": "nan",
         " ind_assgn": "Y",
         " grp_assgn": "M",
         " adrs_id": "FL331434825SO7330XPLXX403",
         "_deepnote_index_column": 2
        },
        {
         "NPI": 1215138714,
         " lst_nm": "PHAM",
         " frst_nm": "ANTHONY",
         " mid_nm": "nan",
         " suff": "nan",
         " gndr": "M",
         " Med_sch": "UNIVERSITY OF NORTH TEXAS HSC, COLLEGE OF OSTEOPATHIC MED",
         " Grd_yr": 2003,
         " pri_spec": "PHYSICAL MEDICINE AND REHABILITATION",
         " sec_spec_all": "INTERVENTIONAL PAIN MANAGEMENT",
         " org_nm": "nan",
         " num_org_mem": "nan",
         " adr_ln_1": "11799 BEECHNUT ST",
         " adr_ln_2": "SUITE A",
         " cty": "HOUSTON",
         " st": "TX",
         " zip": "770724116",
         " phn_numbr": "nan",
         " hosp_afl_lbn_1": "nan",
         " hosp_afl_lbn_2": "nan",
         " hosp_afl_lbn_3": "nan",
         " hosp_afl_lbn_4": "nan",
         " hosp_afl_lbn_5": "nan",
         " ind_assgn": "Y",
         " grp_assgn": "M",
         " adrs_id": "TX770724116HO11799STXX301",
         "_deepnote_index_column": 3
        },
        {
         "NPI": 1215127840,
         " lst_nm": "NELSON VANCINI",
         " frst_nm": "MARCIA",
         " mid_nm": "E",
         " suff": "nan",
         " gndr": "F",
         " Med_sch": "OTHER",
         " Grd_yr": 2002,
         " pri_spec": "CERTIFIED CLINICAL NURSE SPECIALIST (CNS)",
         " sec_spec_all": "nan",
         " org_nm": "nan",
         " num_org_mem": "nan",
         " adr_ln_1": "2 BRENTWOOD CIR",
         " adr_ln_2": "nan",
         " cty": "ANDOVER",
         " st": "MA",
         " zip": "018105129",
         " phn_numbr": 9783358785,
         " hosp_afl_lbn_1": "LAWRENCE GENERAL HOSPITAL",
         " hosp_afl_lbn_2": "nan",
         " hosp_afl_lbn_3": "nan",
         " hosp_afl_lbn_4": "nan",
         " hosp_afl_lbn_5": "nan",
         " ind_assgn": "Y",
         " grp_assgn": "M",
         " adrs_id": "MA018105129AN2XXXXCIRX300",
         "_deepnote_index_column": 4
        },
        {
         "NPI": 1215349154,
         " lst_nm": "ARKHURST-ARTHUR",
         " frst_nm": "NANA",
         " mid_nm": "FOSUWA",
         " suff": "nan",
         " gndr": "F",
         " Med_sch": "OTHER",
         " Grd_yr": 2013,
         " pri_spec": "NURSE PRACTITIONER",
         " sec_spec_all": "nan",
         " org_nm": "nan",
         " num_org_mem": "nan",
         " adr_ln_1": "1006 N ARENDELL AVE",
         " adr_ln_2": "nan",
         " cty": "ZEBULON",
         " st": "NC",
         " zip": "275972352",
         " phn_numbr": "nan",
         " hosp_afl_lbn_1": "NASH GENERAL HOSPITAL",
         " hosp_afl_lbn_2": "nan",
         " hosp_afl_lbn_3": "nan",
         " hosp_afl_lbn_4": "nan",
         " hosp_afl_lbn_5": "nan",
         " ind_assgn": "Y",
         " grp_assgn": "M",
         " adrs_id": "NC275972352ZE1006XAVEX400",
         "_deepnote_index_column": 5
        },
        {
         "NPI": 1215186309,
         " lst_nm": "RAMIREZ PEREZ",
         " frst_nm": "TANIA",
         " mid_nm": "L",
         " suff": "nan",
         " gndr": "F",
         " Med_sch": "UNIVERSITY OF PUERTO RICO SCHOOL OF MEDICINE",
         " Grd_yr": 2008,
         " pri_spec": "NEPHROLOGY",
         " sec_spec_all": "nan",
         " org_nm": "nan",
         " num_org_mem": "nan",
         " adr_ln_1": "313 CALLE MANUEL DOMENECH",
         " adr_ln_2": "SUITE 101",
         " cty": "SAN JUAN",
         " st": "PR",
         " zip": "009183532",
         " phn_numbr": 7877637423,
         " hosp_afl_lbn_1": "AUXILIO MUTUO HOSPITAL",
         " hosp_afl_lbn_2": "BAYAMON MEDICAL CENTER",
         " hosp_afl_lbn_3": "nan",
         " hosp_afl_lbn_4": "nan",
         " hosp_afl_lbn_5": "nan",
         " ind_assgn": "Y",
         " grp_assgn": "M",
         " adrs_id": "PR009183532SA313XXDOME401",
         "_deepnote_index_column": 6
        },
        {
         "NPI": 1215254925,
         " lst_nm": "CLOSSEY",
         " frst_nm": "LAURENE",
         " mid_nm": "L",
         " suff": "nan",
         " gndr": "F",
         " Med_sch": "OTHER",
         " Grd_yr": 2004,
         " pri_spec": "CLINICAL SOCIAL WORKER",
         " sec_spec_all": "nan",
         " org_nm": "nan",
         " num_org_mem": "nan",
         " adr_ln_1": "101 MOUNTAIN CT",
         " adr_ln_2": "SUITE 101B",
         " cty": "HACKETTSTOWN",
         " st": "NJ",
         " zip": "078402300",
         " phn_numbr": "nan",
         " hosp_afl_lbn_1": "nan",
         " hosp_afl_lbn_2": "nan",
         " hosp_afl_lbn_3": "nan",
         " hosp_afl_lbn_4": "nan",
         " hosp_afl_lbn_5": "nan",
         " ind_assgn": "Y",
         " grp_assgn": "M",
         " adrs_id": "NJ078402300HA101XXCTXX301",
         "_deepnote_index_column": 7
        },
        {
         "NPI": 1215284070,
         " lst_nm": "FRANKLIN",
         " frst_nm": "MEGAN",
         " mid_nm": "nan",
         " suff": "nan",
         " gndr": "F",
         " Med_sch": "OTHER",
         " Grd_yr": 2012,
         " pri_spec": "CHIROPRACTIC",
         " sec_spec_all": "nan",
         " org_nm": "nan",
         " num_org_mem": "nan",
         " adr_ln_1": "900 N SWALLOWTAIL DR",
         " adr_ln_2": "104 D",
         " cty": "PORT ORANGE",
         " st": "FL",
         " zip": "321296103",
         " phn_numbr": "nan",
         " hosp_afl_lbn_1": "nan",
         " hosp_afl_lbn_2": "nan",
         " hosp_afl_lbn_3": "nan",
         " hosp_afl_lbn_4": "nan",
         " hosp_afl_lbn_5": "nan",
         " ind_assgn": "M",
         " grp_assgn": "M",
         " adrs_id": "FL321296103PO900XXDRXX401",
         "_deepnote_index_column": 8
        },
        {
         "NPI": 1215161161,
         " lst_nm": "AGUILAR",
         " frst_nm": "MARGARET",
         " mid_nm": "L",
         " suff": "nan",
         " gndr": "F",
         " Med_sch": "OTHER",
         " Grd_yr": 1999,
         " pri_spec": "CLINICAL SOCIAL WORKER",
         " sec_spec_all": "nan",
         " org_nm": "nan",
         " num_org_mem": "nan",
         " adr_ln_1": "1232 BARKER RD",
         " adr_ln_2": "nan",
         " cty": "LAS CRUCES",
         " st": "NM",
         " zip": "880053182",
         " phn_numbr": 5756525263,
         " hosp_afl_lbn_1": "nan",
         " hosp_afl_lbn_2": "nan",
         " hosp_afl_lbn_3": "nan",
         " hosp_afl_lbn_4": "nan",
         " hosp_afl_lbn_5": "nan",
         " ind_assgn": "Y",
         " grp_assgn": "M",
         " adrs_id": "NM880053182LA1232XRDXX300",
         "_deepnote_index_column": 9
        }
       ]
      },
      "text/plain": "                NPI          lst_nm    frst_nm  mid_nm  suff  gndr  \\\n0        1215321872        MASIELLO        EVE     NaN   NaN     F   \n1        1215195664            DURU  CELESTINA       N   NaN     F   \n2        1215188925      KESHAVARZI       REZA     NaN   NaN     M   \n3        1215138714            PHAM    ANTHONY     NaN   NaN     M   \n4        1215127840  NELSON VANCINI     MARCIA       E   NaN     F   \n...             ...             ...        ...     ...   ...   ...   \n2382170  1891957023        ATHERTON      STACY       M   NaN     F   \n2382171  1730110693          MASTIN     TERRYE       T   NaN     F   \n2382172  1902810906          WILDER      PAULA       F   NaN     F   \n2382173  1316146939       WILKINSON       GREG       M   NaN     M   \n2382174  1710963681         JOHNSON     STEVEN       P   NaN     M   \n\n                                                   Med_sch   Grd_yr  \\\n0                                                    OTHER   1982.0   \n1                   NEW YORK COLLEGE OF PODIATRIC MEDICINE   2007.0   \n2               UNIVERSITY OF KENTUCKY COLLEGE OF MEDICINE   2005.0   \n3        UNIVERSITY OF NORTH TEXAS HSC, COLLEGE OF OSTE...   2003.0   \n4                                                    OTHER   2002.0   \n...                                                    ...      ...   \n2382170               TEMPLE UNIVERSITY SCHOOL OF MEDICINE   2008.0   \n2382171  UNIVERSITY OF TENNESSEE, HSC, COLLEGE OF MEDICINE   1987.0   \n2382172                                              OTHER   1998.0   \n2382173                                              OTHER   1996.0   \n2382174                                              OTHER   1976.0   \n\n                                          pri_spec  \\\n0                           CLINICAL SOCIAL WORKER   \n1                                         PODIATRY   \n2                                  GENERAL SURGERY   \n3             PHYSICAL MEDICINE AND REHABILITATION   \n4        CERTIFIED CLINICAL NURSE SPECIALIST (CNS)   \n...                                            ...   \n2382170                                   PODIATRY   \n2382171                         NURSE PRACTITIONER   \n2382172                         NURSE PRACTITIONER   \n2382173                        PHYSICIAN ASSISTANT   \n2382174             INTERVENTIONAL PAIN MANAGEMENT   \n\n                                             sec_spec_all  ...        zip  \\\n0                                                     NaN  ...  023603826   \n1                                                     NaN  ...  750619580   \n2                                                     NaN  ...  331434825   \n3                          INTERVENTIONAL PAIN MANAGEMENT  ...  770724116   \n4                                                     NaN  ...  018105129   \n...                                                   ...  ...        ...   \n2382170                                               NaN  ...  802204000   \n2382171                                               NaN  ...  381223004   \n2382172                                               NaN  ...  381223004   \n2382173                                               NaN  ...  995086804   \n2382174  ANESTHESIOLOGY, FAMILY MEDICINE, PAIN MANAGEMENT  ...  995086804   \n\n            phn_numbr              hosp_afl_lbn_1  hosp_afl_lbn_2  \\\n0        7.817107e+09                         NaN             NaN   \n1                 NaN                         NaN             NaN   \n2                 NaN                         NaN             NaN   \n3                 NaN                         NaN             NaN   \n4        9.783359e+09   LAWRENCE GENERAL HOSPITAL             NaN   \n...               ...                         ...             ...   \n2382170  3.033214e+09        MCKEE MEDICAL CENTER             NaN   \n2382171  9.016858e+09                         NaN             NaN   \n2382172  9.016858e+09                         NaN             NaN   \n2382173  9.072780e+09                         NaN             NaN   \n2382174  9.072780e+09  COLUMBIA MEMORIAL HOSPITAL             NaN   \n\n         hosp_afl_lbn_3  hosp_afl_lbn_4  hosp_afl_lbn_5   ind_assgn  \\\n0                   NaN             NaN             NaN           M   \n1                   NaN             NaN             NaN           Y   \n2                   NaN             NaN             NaN           Y   \n3                   NaN             NaN             NaN           Y   \n4                   NaN             NaN             NaN           Y   \n...                 ...             ...             ...         ...   \n2382170             NaN             NaN             NaN           Y   \n2382171             NaN             NaN             NaN           Y   \n2382172             NaN             NaN             NaN           Y   \n2382173             NaN             NaN             NaN           Y   \n2382174             NaN             NaN             NaN           Y   \n\n         grp_assgn                    adrs_id  \n0                M  MA023603826PL120XXSTXX300  \n1                M  TX750619580IR2000XRDXX303  \n2                M  FL331434825SO7330XPLXX403  \n3                M  TX770724116HO11799STXX301  \n4                M  MA018105129AN2XXXXCIRX300  \n...            ...                        ...  \n2382170          Y  CO802204000DE4600XPKWY311  \n2382171          Y  TN381223004ME740XXRDXX300  \n2382172          Y  TN381223004ME740XXRDXX300  \n2382173          Y  AK995086804AN2751XRDXX303  \n2382174          Y  AK995086804AN2751XRDXX303  \n\n[2382175 rows x 26 columns]",
      "text/html": "<div>\n<style scoped>\n    .dataframe tbody tr th:only-of-type {\n        vertical-align: middle;\n    }\n\n    .dataframe tbody tr th {\n        vertical-align: top;\n    }\n\n    .dataframe thead th {\n        text-align: right;\n    }\n</style>\n<table border=\"1\" class=\"dataframe\">\n  <thead>\n    <tr style=\"text-align: right;\">\n      <th></th>\n      <th>NPI</th>\n      <th>lst_nm</th>\n      <th>frst_nm</th>\n      <th>mid_nm</th>\n      <th>suff</th>\n      <th>gndr</th>\n      <th>Med_sch</th>\n      <th>Grd_yr</th>\n      <th>pri_spec</th>\n      <th>sec_spec_all</th>\n      <th>...</th>\n      <th>zip</th>\n      <th>phn_numbr</th>\n      <th>hosp_afl_lbn_1</th>\n      <th>hosp_afl_lbn_2</th>\n      <th>hosp_afl_lbn_3</th>\n      <th>hosp_afl_lbn_4</th>\n      <th>hosp_afl_lbn_5</th>\n      <th>ind_assgn</th>\n      <th>grp_assgn</th>\n      <th>adrs_id</th>\n    </tr>\n  </thead>\n  <tbody>\n    <tr>\n      <th>0</th>\n      <td>1215321872</td>\n      <td>MASIELLO</td>\n      <td>EVE</td>\n      <td>NaN</td>\n      <td>NaN</td>\n      <td>F</td>\n      <td>OTHER</td>\n      <td>1982.0</td>\n      <td>CLINICAL SOCIAL WORKER</td>\n      <td>NaN</td>\n      <td>...</td>\n      <td>023603826</td>\n      <td>7.817107e+09</td>\n      <td>NaN</td>\n      <td>NaN</td>\n      <td>NaN</td>\n      <td>NaN</td>\n      <td>NaN</td>\n      <td>M</td>\n      <td>M</td>\n      <td>MA023603826PL120XXSTXX300</td>\n    </tr>\n    <tr>\n      <th>1</th>\n      <td>1215195664</td>\n      <td>DURU</td>\n      <td>CELESTINA</td>\n      <td>N</td>\n      <td>NaN</td>\n      <td>F</td>\n      <td>NEW YORK COLLEGE OF PODIATRIC MEDICINE</td>\n      <td>2007.0</td>\n      <td>PODIATRY</td>\n      <td>NaN</td>\n      <td>...</td>\n      <td>750619580</td>\n      <td>NaN</td>\n      <td>NaN</td>\n      <td>NaN</td>\n      <td>NaN</td>\n      <td>NaN</td>\n      <td>NaN</td>\n      <td>Y</td>\n      <td>M</td>\n      <td>TX750619580IR2000XRDXX303</td>\n    </tr>\n    <tr>\n      <th>2</th>\n      <td>1215188925</td>\n      <td>KESHAVARZI</td>\n      <td>REZA</td>\n      <td>NaN</td>\n      <td>NaN</td>\n      <td>M</td>\n      <td>UNIVERSITY OF KENTUCKY COLLEGE OF MEDICINE</td>\n      <td>2005.0</td>\n      <td>GENERAL SURGERY</td>\n      <td>NaN</td>\n      <td>...</td>\n      <td>331434825</td>\n      <td>NaN</td>\n      <td>NaN</td>\n      <td>NaN</td>\n      <td>NaN</td>\n      <td>NaN</td>\n      <td>NaN</td>\n      <td>Y</td>\n      <td>M</td>\n      <td>FL331434825SO7330XPLXX403</td>\n    </tr>\n    <tr>\n      <th>3</th>\n      <td>1215138714</td>\n      <td>PHAM</td>\n      <td>ANTHONY</td>\n      <td>NaN</td>\n      <td>NaN</td>\n      <td>M</td>\n      <td>UNIVERSITY OF NORTH TEXAS HSC, COLLEGE OF OSTE...</td>\n      <td>2003.0</td>\n      <td>PHYSICAL MEDICINE AND REHABILITATION</td>\n      <td>INTERVENTIONAL PAIN MANAGEMENT</td>\n      <td>...</td>\n      <td>770724116</td>\n      <td>NaN</td>\n      <td>NaN</td>\n      <td>NaN</td>\n      <td>NaN</td>\n      <td>NaN</td>\n      <td>NaN</td>\n      <td>Y</td>\n      <td>M</td>\n      <td>TX770724116HO11799STXX301</td>\n    </tr>\n    <tr>\n      <th>4</th>\n      <td>1215127840</td>\n      <td>NELSON VANCINI</td>\n      <td>MARCIA</td>\n      <td>E</td>\n      <td>NaN</td>\n      <td>F</td>\n      <td>OTHER</td>\n      <td>2002.0</td>\n      <td>CERTIFIED CLINICAL NURSE SPECIALIST (CNS)</td>\n      <td>NaN</td>\n      <td>...</td>\n      <td>018105129</td>\n      <td>9.783359e+09</td>\n      <td>LAWRENCE GENERAL HOSPITAL</td>\n      <td>NaN</td>\n      <td>NaN</td>\n      <td>NaN</td>\n      <td>NaN</td>\n      <td>Y</td>\n      <td>M</td>\n      <td>MA018105129AN2XXXXCIRX300</td>\n    </tr>\n    <tr>\n      <th>...</th>\n      <td>...</td>\n      <td>...</td>\n      <td>...</td>\n      <td>...</td>\n      <td>...</td>\n      <td>...</td>\n      <td>...</td>\n      <td>...</td>\n      <td>...</td>\n      <td>...</td>\n      <td>...</td>\n      <td>...</td>\n      <td>...</td>\n      <td>...</td>\n      <td>...</td>\n      <td>...</td>\n      <td>...</td>\n      <td>...</td>\n      <td>...</td>\n      <td>...</td>\n      <td>...</td>\n    </tr>\n    <tr>\n      <th>2382170</th>\n      <td>1891957023</td>\n      <td>ATHERTON</td>\n      <td>STACY</td>\n      <td>M</td>\n      <td>NaN</td>\n      <td>F</td>\n      <td>TEMPLE UNIVERSITY SCHOOL OF MEDICINE</td>\n      <td>2008.0</td>\n      <td>PODIATRY</td>\n      <td>NaN</td>\n      <td>...</td>\n      <td>802204000</td>\n      <td>3.033214e+09</td>\n      <td>MCKEE MEDICAL CENTER</td>\n      <td>NaN</td>\n      <td>NaN</td>\n      <td>NaN</td>\n      <td>NaN</td>\n      <td>Y</td>\n      <td>Y</td>\n      <td>CO802204000DE4600XPKWY311</td>\n    </tr>\n    <tr>\n      <th>2382171</th>\n      <td>1730110693</td>\n      <td>MASTIN</td>\n      <td>TERRYE</td>\n      <td>T</td>\n      <td>NaN</td>\n      <td>F</td>\n      <td>UNIVERSITY OF TENNESSEE, HSC, COLLEGE OF MEDICINE</td>\n      <td>1987.0</td>\n      <td>NURSE PRACTITIONER</td>\n      <td>NaN</td>\n      <td>...</td>\n      <td>381223004</td>\n      <td>9.016858e+09</td>\n      <td>NaN</td>\n      <td>NaN</td>\n      <td>NaN</td>\n      <td>NaN</td>\n      <td>NaN</td>\n      <td>Y</td>\n      <td>Y</td>\n      <td>TN381223004ME740XXRDXX300</td>\n    </tr>\n    <tr>\n      <th>2382172</th>\n      <td>1902810906</td>\n      <td>WILDER</td>\n      <td>PAULA</td>\n      <td>F</td>\n      <td>NaN</td>\n      <td>F</td>\n      <td>OTHER</td>\n      <td>1998.0</td>\n      <td>NURSE PRACTITIONER</td>\n      <td>NaN</td>\n      <td>...</td>\n      <td>381223004</td>\n      <td>9.016858e+09</td>\n      <td>NaN</td>\n      <td>NaN</td>\n      <td>NaN</td>\n      <td>NaN</td>\n      <td>NaN</td>\n      <td>Y</td>\n      <td>Y</td>\n      <td>TN381223004ME740XXRDXX300</td>\n    </tr>\n    <tr>\n      <th>2382173</th>\n      <td>1316146939</td>\n      <td>WILKINSON</td>\n      <td>GREG</td>\n      <td>M</td>\n      <td>NaN</td>\n      <td>M</td>\n      <td>OTHER</td>\n      <td>1996.0</td>\n      <td>PHYSICIAN ASSISTANT</td>\n      <td>NaN</td>\n      <td>...</td>\n      <td>995086804</td>\n      <td>9.072780e+09</td>\n      <td>NaN</td>\n      <td>NaN</td>\n      <td>NaN</td>\n      <td>NaN</td>\n      <td>NaN</td>\n      <td>Y</td>\n      <td>Y</td>\n      <td>AK995086804AN2751XRDXX303</td>\n    </tr>\n    <tr>\n      <th>2382174</th>\n      <td>1710963681</td>\n      <td>JOHNSON</td>\n      <td>STEVEN</td>\n      <td>P</td>\n      <td>NaN</td>\n      <td>M</td>\n      <td>OTHER</td>\n      <td>1976.0</td>\n      <td>INTERVENTIONAL PAIN MANAGEMENT</td>\n      <td>ANESTHESIOLOGY, FAMILY MEDICINE, PAIN MANAGEMENT</td>\n      <td>...</td>\n      <td>995086804</td>\n      <td>9.072780e+09</td>\n      <td>COLUMBIA MEMORIAL HOSPITAL</td>\n      <td>NaN</td>\n      <td>NaN</td>\n      <td>NaN</td>\n      <td>NaN</td>\n      <td>Y</td>\n      <td>Y</td>\n      <td>AK995086804AN2751XRDXX303</td>\n    </tr>\n  </tbody>\n</table>\n<p>2382175 rows × 26 columns</p>\n</div>"
     },
     "metadata": {}
    }
   ]
  },
  {
   "cell_type": "code",
   "metadata": {
    "cell_id": "c820cf77-cd01-440c-90de-3c15dffe9625",
    "tags": [],
    "deepnote_to_be_reexecuted": false,
    "source_hash": "14f60b8f",
    "execution_start": 1644947041970,
    "execution_millis": 99,
    "deepnote_output_heights": [
     21.1875
    ],
    "deepnote_cell_type": "code"
   },
   "source": "df.shape",
   "execution_count": 33,
   "outputs": [
    {
     "output_type": "execute_result",
     "execution_count": 33,
     "data": {
      "text/plain": "(2382175, 26)"
     },
     "metadata": {}
    }
   ]
  },
  {
   "cell_type": "code",
   "metadata": {
    "tags": [],
    "deepnote_to_be_reexecuted": false,
    "source_hash": "f3dd26da",
    "execution_start": 1644947041977,
    "execution_millis": 1716,
    "deepnote_output_heights": [
     520.390625
    ],
    "cell_id": "00004-3486b7b2-b1a5-4bfc-9651-7284354f0387",
    "deepnote_app_is_output_hidden": true,
    "deepnote_cell_type": "code"
   },
   "source": "df.isnull().sum()",
   "execution_count": 34,
   "outputs": [
    {
     "output_type": "execute_result",
     "execution_count": 34,
     "data": {
      "text/plain": "NPI                      0\n lst_nm                 42\n frst_nm                23\n mid_nm             663785\n suff              2343137\n gndr                    0\n Med_sch                 5\n Grd_yr               1452\n pri_spec                0\n sec_spec_all      2051203\n org_nm             166192\n num_org_mem        166188\n adr_ln_1                0\n adr_ln_2          1548357\n cty                     0\n st                      0\n zip                     0\n phn_numbr          371345\n hosp_afl_lbn_1     756212\n hosp_afl_lbn_2    1565022\n hosp_afl_lbn_3    1953945\n hosp_afl_lbn_4    2134034\n hosp_afl_lbn_5    2225900\n ind_assgn               0\n grp_assgn               0\n adrs_id                 0\ndtype: int64"
     },
     "metadata": {}
    }
   ]
  },
  {
   "cell_type": "markdown",
   "source": "I dropped a few redundant columns from the DAC dataset, and I began working on cleaning it up.",
   "metadata": {
    "cell_id": "5f3589c2-f22b-48e4-ba24-4ea3c4bb6166",
    "tags": [],
    "is_collapsed": false,
    "deepnote_app_coordinates": {
     "x": 0,
     "y": 0,
     "w": 8,
     "h": 2
    },
    "deepnote_cell_type": "text-cell-p"
   }
  },
  {
   "cell_type": "code",
   "metadata": {
    "cell_id": "e8e0c259-d297-41e6-9ee6-43b3535fbef7",
    "tags": [],
    "deepnote_to_be_reexecuted": false,
    "source_hash": "1100aeb7",
    "execution_start": 1644947043700,
    "execution_millis": 1981,
    "deepnote_output_heights": [
     117.1875
    ],
    "deepnote_app_coordinates": {
     "x": 0,
     "y": 177,
     "w": 12,
     "h": 5
    },
    "deepnote_cell_type": "code"
   },
   "source": "#merging the name columns into one to match the FI dataset\ndf[[' frst_nm',' mid_nm', ' lst_nm', ' suff']] = df[[' frst_nm',' mid_nm', ' lst_nm', ' suff']].fillna('')\ndf.insert(3, ' name', df[' frst_nm'] + ' ' + df[' mid_nm'] + ' ' + df[' lst_nm'] + \" \" + df[' suff'])\ndf[' name'].head()",
   "execution_count": 35,
   "outputs": [
    {
     "output_type": "execute_result",
     "execution_count": 35,
     "data": {
      "text/plain": "0              EVE  MASIELLO \n1           CELESTINA N DURU \n2           REZA  KESHAVARZI \n3              ANTHONY  PHAM \n4    MARCIA E NELSON VANCINI \nName:  name, dtype: object"
     },
     "metadata": {}
    }
   ]
  },
  {
   "cell_type": "code",
   "metadata": {
    "cell_id": "70604702-2fa2-4363-8c91-4de055a6c191",
    "tags": [],
    "deepnote_to_be_reexecuted": false,
    "source_hash": "f16c73d8",
    "execution_start": 1644947045770,
    "execution_millis": 2884,
    "deepnote_cell_type": "code"
   },
   "source": "df[' name'] = df[' name'].str.replace(\"  \", ' ')\ndf[' name'] = df[' name'].str.replace(\"   \", ' ')",
   "execution_count": 36,
   "outputs": []
  },
  {
   "cell_type": "code",
   "metadata": {
    "cell_id": "3e3d7478-0fd0-4025-a46e-5b0eed9366b2",
    "tags": [],
    "deepnote_to_be_reexecuted": false,
    "source_hash": "a11d3e6",
    "execution_start": 1644947048659,
    "execution_millis": 5414,
    "deepnote_cell_type": "code"
   },
   "source": "df[' name'] = df[' name'].replace(r\"^ +| +$\", r\"\", regex=True)",
   "execution_count": 37,
   "outputs": []
  },
  {
   "cell_type": "code",
   "metadata": {
    "cell_id": "09e2eefa-4e57-4da4-bcf3-515e3f5aa56d",
    "tags": [],
    "deepnote_to_be_reexecuted": false,
    "source_hash": "236ac787",
    "execution_start": 1644947055739,
    "execution_millis": 7,
    "deepnote_cell_type": "code"
   },
   "source": "df = df.drop(columns=[' frst_nm',' mid_nm', ' lst_nm', ' suff'])",
   "execution_count": 38,
   "outputs": []
  },
  {
   "cell_type": "code",
   "metadata": {
    "cell_id": "6e167b58-bbd0-4c5a-b6b9-4a0360a5ea55",
    "tags": [],
    "deepnote_to_be_reexecuted": false,
    "source_hash": "a826e029",
    "execution_start": 1644947055749,
    "execution_millis": 4,
    "deepnote_output_heights": [
     232.390625
    ],
    "deepnote_cell_type": "code"
   },
   "source": "df[' name']",
   "execution_count": 39,
   "outputs": [
    {
     "output_type": "execute_result",
     "execution_count": 39,
     "data": {
      "text/plain": "0                     EVE MASIELLO\n1                 CELESTINA N DURU\n2                  REZA KESHAVARZI\n3                     ANTHONY PHAM\n4          MARCIA E NELSON VANCINI\n                    ...           \n2382170           STACY M ATHERTON\n2382171            TERRYE T MASTIN\n2382172             PAULA F WILDER\n2382173           GREG M WILKINSON\n2382174           STEVEN P JOHNSON\nName:  name, Length: 2382175, dtype: object"
     },
     "metadata": {}
    }
   ]
  },
  {
   "cell_type": "code",
   "metadata": {
    "cell_id": "7710caa4-415c-4c18-9bcb-80390dc79a33",
    "tags": [],
    "deepnote_app_coordinates": {
     "x": 0,
     "y": 0,
     "w": 12,
     "h": 5
    },
    "deepnote_to_be_reexecuted": false,
    "source_hash": "c085b6ba",
    "execution_start": 1644947055765,
    "execution_millis": 91,
    "deepnote_cell_type": "code"
   },
   "source": "df.head()",
   "execution_count": 40,
   "outputs": [
    {
     "output_type": "execute_result",
     "execution_count": 40,
     "data": {
      "application/vnd.deepnote.dataframe.v3+json": {
       "column_count": 23,
       "row_count": 5,
       "columns": [
        {
         "name": "NPI",
         "dtype": "int64",
         "stats": {
          "unique_count": 5,
          "nan_count": 0,
          "min": "1215127840",
          "max": "1215321872",
          "histogram": [
           {
            "bin_start": 1215127840,
            "bin_end": 1215147243.2,
            "count": 2
           },
           {
            "bin_start": 1215147243.2,
            "bin_end": 1215166646.4,
            "count": 0
           },
           {
            "bin_start": 1215166646.4,
            "bin_end": 1215186049.6,
            "count": 0
           },
           {
            "bin_start": 1215186049.6,
            "bin_end": 1215205452.8,
            "count": 2
           },
           {
            "bin_start": 1215205452.8,
            "bin_end": 1215224856,
            "count": 0
           },
           {
            "bin_start": 1215224856,
            "bin_end": 1215244259.2,
            "count": 0
           },
           {
            "bin_start": 1215244259.2,
            "bin_end": 1215263662.4,
            "count": 0
           },
           {
            "bin_start": 1215263662.4,
            "bin_end": 1215283065.6,
            "count": 0
           },
           {
            "bin_start": 1215283065.6,
            "bin_end": 1215302468.8,
            "count": 0
           },
           {
            "bin_start": 1215302468.8,
            "bin_end": 1215321872,
            "count": 1
           }
          ]
         }
        },
        {
         "name": " name",
         "dtype": "object",
         "stats": {
          "unique_count": 5,
          "nan_count": 0,
          "categories": [
           {
            "name": "EVE MASIELLO",
            "count": 1
           },
           {
            "name": "CELESTINA N DURU",
            "count": 1
           },
           {
            "name": "3 others",
            "count": 3
           }
          ]
         }
        },
        {
         "name": " gndr",
         "dtype": "object",
         "stats": {
          "unique_count": 2,
          "nan_count": 0,
          "categories": [
           {
            "name": "F",
            "count": 3
           },
           {
            "name": "M",
            "count": 2
           }
          ]
         }
        },
        {
         "name": " Med_sch",
         "dtype": "object",
         "stats": {
          "unique_count": 4,
          "nan_count": 0,
          "categories": [
           {
            "name": "OTHER",
            "count": 2
           },
           {
            "name": "NEW YORK COLLEGE OF PODIATRIC MEDICINE",
            "count": 1
           },
           {
            "name": "2 others",
            "count": 2
           }
          ]
         }
        },
        {
         "name": " Grd_yr",
         "dtype": "float64",
         "stats": {
          "unique_count": 5,
          "nan_count": 0,
          "min": "1982.0",
          "max": "2007.0",
          "histogram": [
           {
            "bin_start": 1982,
            "bin_end": 1984.5,
            "count": 1
           },
           {
            "bin_start": 1984.5,
            "bin_end": 1987,
            "count": 0
           },
           {
            "bin_start": 1987,
            "bin_end": 1989.5,
            "count": 0
           },
           {
            "bin_start": 1989.5,
            "bin_end": 1992,
            "count": 0
           },
           {
            "bin_start": 1992,
            "bin_end": 1994.5,
            "count": 0
           },
           {
            "bin_start": 1994.5,
            "bin_end": 1997,
            "count": 0
           },
           {
            "bin_start": 1997,
            "bin_end": 1999.5,
            "count": 0
           },
           {
            "bin_start": 1999.5,
            "bin_end": 2002,
            "count": 0
           },
           {
            "bin_start": 2002,
            "bin_end": 2004.5,
            "count": 2
           },
           {
            "bin_start": 2004.5,
            "bin_end": 2007,
            "count": 2
           }
          ]
         }
        },
        {
         "name": " pri_spec",
         "dtype": "object",
         "stats": {
          "unique_count": 5,
          "nan_count": 0,
          "categories": [
           {
            "name": "CLINICAL SOCIAL WORKER",
            "count": 1
           },
           {
            "name": "PODIATRY",
            "count": 1
           },
           {
            "name": "3 others",
            "count": 3
           }
          ]
         }
        },
        {
         "name": " sec_spec_all",
         "dtype": "object",
         "stats": {
          "unique_count": 1,
          "nan_count": 4,
          "categories": [
           {
            "name": "INTERVENTIONAL PAIN MANAGEMENT",
            "count": 1
           },
           {
            "name": "Missing",
            "count": 4
           }
          ]
         }
        },
        {
         "name": " org_nm",
         "dtype": "object",
         "stats": {
          "unique_count": 0,
          "nan_count": 5,
          "categories": [
           {
            "name": "Missing",
            "count": 5
           }
          ]
         }
        },
        {
         "name": " num_org_mem",
         "dtype": "float64",
         "stats": {
          "unique_count": 0,
          "nan_count": 5,
          "min": null,
          "max": null,
          "histogram": [
           {
            "bin_start": 0,
            "bin_end": 0.1,
            "count": 0
           },
           {
            "bin_start": 0.1,
            "bin_end": 0.2,
            "count": 0
           },
           {
            "bin_start": 0.2,
            "bin_end": 0.30000000000000004,
            "count": 0
           },
           {
            "bin_start": 0.30000000000000004,
            "bin_end": 0.4,
            "count": 0
           },
           {
            "bin_start": 0.4,
            "bin_end": 0.5,
            "count": 0
           },
           {
            "bin_start": 0.5,
            "bin_end": 0.6000000000000001,
            "count": 0
           },
           {
            "bin_start": 0.6000000000000001,
            "bin_end": 0.7000000000000001,
            "count": 0
           },
           {
            "bin_start": 0.7000000000000001,
            "bin_end": 0.8,
            "count": 0
           },
           {
            "bin_start": 0.8,
            "bin_end": 0.9,
            "count": 0
           },
           {
            "bin_start": 0.9,
            "bin_end": 1,
            "count": 0
           }
          ]
         }
        },
        {
         "name": " adr_ln_1",
         "dtype": "object",
         "stats": {
          "unique_count": 5,
          "nan_count": 0,
          "categories": [
           {
            "name": "120 COURT ST",
            "count": 1
           },
           {
            "name": "2000 ESTERS RD",
            "count": 1
           },
           {
            "name": "3 others",
            "count": 3
           }
          ]
         }
        },
        {
         "name": " adr_ln_2",
         "dtype": "object",
         "stats": {
          "unique_count": 3,
          "nan_count": 2,
          "categories": [
           {
            "name": "SUITE 104",
            "count": 1
           },
           {
            "name": "2 others",
            "count": 2
           },
           {
            "name": "Missing",
            "count": 2
           }
          ]
         }
        },
        {
         "name": " cty",
         "dtype": "object",
         "stats": {
          "unique_count": 5,
          "nan_count": 0,
          "categories": [
           {
            "name": "PLYMOUTH",
            "count": 1
           },
           {
            "name": "IRVING",
            "count": 1
           },
           {
            "name": "3 others",
            "count": 3
           }
          ]
         }
        },
        {
         "name": " st",
         "dtype": "object",
         "stats": {
          "unique_count": 3,
          "nan_count": 0,
          "categories": [
           {
            "name": "MA",
            "count": 2
           },
           {
            "name": "TX",
            "count": 2
           },
           {
            "name": "FL",
            "count": 1
           }
          ]
         }
        },
        {
         "name": " zip",
         "dtype": "object",
         "stats": {
          "unique_count": 5,
          "nan_count": 0,
          "categories": [
           {
            "name": "023603826",
            "count": 1
           },
           {
            "name": "750619580",
            "count": 1
           },
           {
            "name": "3 others",
            "count": 3
           }
          ]
         }
        },
        {
         "name": " phn_numbr",
         "dtype": "float64",
         "stats": {
          "unique_count": 2,
          "nan_count": 3,
          "min": "7817107356.0",
          "max": "9783358785.0",
          "histogram": [
           {
            "bin_start": 7817107356,
            "bin_end": 8013732498.9,
            "count": 1
           },
           {
            "bin_start": 8013732498.9,
            "bin_end": 8210357641.8,
            "count": 0
           },
           {
            "bin_start": 8210357641.8,
            "bin_end": 8406982784.7,
            "count": 0
           },
           {
            "bin_start": 8406982784.7,
            "bin_end": 8603607927.6,
            "count": 0
           },
           {
            "bin_start": 8603607927.6,
            "bin_end": 8800233070.5,
            "count": 0
           },
           {
            "bin_start": 8800233070.5,
            "bin_end": 8996858213.4,
            "count": 0
           },
           {
            "bin_start": 8996858213.4,
            "bin_end": 9193483356.3,
            "count": 0
           },
           {
            "bin_start": 9193483356.3,
            "bin_end": 9390108499.2,
            "count": 0
           },
           {
            "bin_start": 9390108499.2,
            "bin_end": 9586733642.1,
            "count": 0
           },
           {
            "bin_start": 9586733642.1,
            "bin_end": 9783358785,
            "count": 1
           }
          ]
         }
        },
        {
         "name": " hosp_afl_lbn_1",
         "dtype": "object",
         "stats": {
          "unique_count": 1,
          "nan_count": 4,
          "categories": [
           {
            "name": "LAWRENCE GENERAL HOSPITAL",
            "count": 1
           },
           {
            "name": "Missing",
            "count": 4
           }
          ]
         }
        },
        {
         "name": " hosp_afl_lbn_2",
         "dtype": "object",
         "stats": {
          "unique_count": 0,
          "nan_count": 5,
          "categories": [
           {
            "name": "Missing",
            "count": 5
           }
          ]
         }
        },
        {
         "name": " hosp_afl_lbn_3",
         "dtype": "object",
         "stats": {
          "unique_count": 0,
          "nan_count": 5,
          "categories": [
           {
            "name": "Missing",
            "count": 5
           }
          ]
         }
        },
        {
         "name": " hosp_afl_lbn_4",
         "dtype": "object",
         "stats": {
          "unique_count": 0,
          "nan_count": 5,
          "categories": [
           {
            "name": "Missing",
            "count": 5
           }
          ]
         }
        },
        {
         "name": " hosp_afl_lbn_5",
         "dtype": "object",
         "stats": {
          "unique_count": 0,
          "nan_count": 5,
          "categories": [
           {
            "name": "Missing",
            "count": 5
           }
          ]
         }
        },
        {
         "name": " ind_assgn",
         "dtype": "object",
         "stats": {
          "unique_count": 2,
          "nan_count": 0,
          "categories": [
           {
            "name": "Y",
            "count": 4
           },
           {
            "name": "M",
            "count": 1
           }
          ]
         }
        },
        {
         "name": " grp_assgn",
         "dtype": "object",
         "stats": {
          "unique_count": 1,
          "nan_count": 0,
          "categories": [
           {
            "name": "M",
            "count": 5
           }
          ]
         }
        },
        {
         "name": " adrs_id",
         "dtype": "object",
         "stats": {
          "unique_count": 5,
          "nan_count": 0,
          "categories": [
           {
            "name": "MA023603826PL120XXSTXX300",
            "count": 1
           },
           {
            "name": "TX750619580IR2000XRDXX303",
            "count": 1
           },
           {
            "name": "3 others",
            "count": 3
           }
          ]
         }
        },
        {
         "name": "_deepnote_index_column",
         "dtype": "int64"
        }
       ],
       "rows": [
        {
         "NPI": 1215321872,
         " name": "EVE MASIELLO",
         " gndr": "F",
         " Med_sch": "OTHER",
         " Grd_yr": 1982,
         " pri_spec": "CLINICAL SOCIAL WORKER",
         " sec_spec_all": "nan",
         " org_nm": "nan",
         " num_org_mem": "nan",
         " adr_ln_1": "120 COURT ST",
         " adr_ln_2": "nan",
         " cty": "PLYMOUTH",
         " st": "MA",
         " zip": "023603826",
         " phn_numbr": 7817107356,
         " hosp_afl_lbn_1": "nan",
         " hosp_afl_lbn_2": "nan",
         " hosp_afl_lbn_3": "nan",
         " hosp_afl_lbn_4": "nan",
         " hosp_afl_lbn_5": "nan",
         " ind_assgn": "M",
         " grp_assgn": "M",
         " adrs_id": "MA023603826PL120XXSTXX300",
         "_deepnote_index_column": 0
        },
        {
         "NPI": 1215195664,
         " name": "CELESTINA N DURU",
         " gndr": "F",
         " Med_sch": "NEW YORK COLLEGE OF PODIATRIC MEDICINE",
         " Grd_yr": 2007,
         " pri_spec": "PODIATRY",
         " sec_spec_all": "nan",
         " org_nm": "nan",
         " num_org_mem": "nan",
         " adr_ln_1": "2000 ESTERS RD",
         " adr_ln_2": "SUITE 104",
         " cty": "IRVING",
         " st": "TX",
         " zip": "750619580",
         " phn_numbr": "nan",
         " hosp_afl_lbn_1": "nan",
         " hosp_afl_lbn_2": "nan",
         " hosp_afl_lbn_3": "nan",
         " hosp_afl_lbn_4": "nan",
         " hosp_afl_lbn_5": "nan",
         " ind_assgn": "Y",
         " grp_assgn": "M",
         " adrs_id": "TX750619580IR2000XRDXX303",
         "_deepnote_index_column": 1
        },
        {
         "NPI": 1215188925,
         " name": "REZA KESHAVARZI",
         " gndr": "M",
         " Med_sch": "UNIVERSITY OF KENTUCKY COLLEGE OF MEDICINE",
         " Grd_yr": 2005,
         " pri_spec": "GENERAL SURGERY",
         " sec_spec_all": "nan",
         " org_nm": "nan",
         " num_org_mem": "nan",
         " adr_ln_1": "7330 SW 62ND PL",
         " adr_ln_2": "SUITE 210",
         " cty": "SOUTH MIAMI",
         " st": "FL",
         " zip": "331434825",
         " phn_numbr": "nan",
         " hosp_afl_lbn_1": "nan",
         " hosp_afl_lbn_2": "nan",
         " hosp_afl_lbn_3": "nan",
         " hosp_afl_lbn_4": "nan",
         " hosp_afl_lbn_5": "nan",
         " ind_assgn": "Y",
         " grp_assgn": "M",
         " adrs_id": "FL331434825SO7330XPLXX403",
         "_deepnote_index_column": 2
        },
        {
         "NPI": 1215138714,
         " name": "ANTHONY PHAM",
         " gndr": "M",
         " Med_sch": "UNIVERSITY OF NORTH TEXAS HSC, COLLEGE OF OSTEOPATHIC MED",
         " Grd_yr": 2003,
         " pri_spec": "PHYSICAL MEDICINE AND REHABILITATION",
         " sec_spec_all": "INTERVENTIONAL PAIN MANAGEMENT",
         " org_nm": "nan",
         " num_org_mem": "nan",
         " adr_ln_1": "11799 BEECHNUT ST",
         " adr_ln_2": "SUITE A",
         " cty": "HOUSTON",
         " st": "TX",
         " zip": "770724116",
         " phn_numbr": "nan",
         " hosp_afl_lbn_1": "nan",
         " hosp_afl_lbn_2": "nan",
         " hosp_afl_lbn_3": "nan",
         " hosp_afl_lbn_4": "nan",
         " hosp_afl_lbn_5": "nan",
         " ind_assgn": "Y",
         " grp_assgn": "M",
         " adrs_id": "TX770724116HO11799STXX301",
         "_deepnote_index_column": 3
        },
        {
         "NPI": 1215127840,
         " name": "MARCIA E NELSON VANCINI",
         " gndr": "F",
         " Med_sch": "OTHER",
         " Grd_yr": 2002,
         " pri_spec": "CERTIFIED CLINICAL NURSE SPECIALIST (CNS)",
         " sec_spec_all": "nan",
         " org_nm": "nan",
         " num_org_mem": "nan",
         " adr_ln_1": "2 BRENTWOOD CIR",
         " adr_ln_2": "nan",
         " cty": "ANDOVER",
         " st": "MA",
         " zip": "018105129",
         " phn_numbr": 9783358785,
         " hosp_afl_lbn_1": "LAWRENCE GENERAL HOSPITAL",
         " hosp_afl_lbn_2": "nan",
         " hosp_afl_lbn_3": "nan",
         " hosp_afl_lbn_4": "nan",
         " hosp_afl_lbn_5": "nan",
         " ind_assgn": "Y",
         " grp_assgn": "M",
         " adrs_id": "MA018105129AN2XXXXCIRX300",
         "_deepnote_index_column": 4
        }
       ]
      },
      "text/plain": "          NPI                     name  gndr  \\\n0  1215321872             EVE MASIELLO     F   \n1  1215195664         CELESTINA N DURU     F   \n2  1215188925          REZA KESHAVARZI     M   \n3  1215138714             ANTHONY PHAM     M   \n4  1215127840  MARCIA E NELSON VANCINI     F   \n\n                                             Med_sch   Grd_yr  \\\n0                                              OTHER   1982.0   \n1             NEW YORK COLLEGE OF PODIATRIC MEDICINE   2007.0   \n2         UNIVERSITY OF KENTUCKY COLLEGE OF MEDICINE   2005.0   \n3  UNIVERSITY OF NORTH TEXAS HSC, COLLEGE OF OSTE...   2003.0   \n4                                              OTHER   2002.0   \n\n                                    pri_spec                    sec_spec_all  \\\n0                     CLINICAL SOCIAL WORKER                             NaN   \n1                                   PODIATRY                             NaN   \n2                            GENERAL SURGERY                             NaN   \n3       PHYSICAL MEDICINE AND REHABILITATION  INTERVENTIONAL PAIN MANAGEMENT   \n4  CERTIFIED CLINICAL NURSE SPECIALIST (CNS)                             NaN   \n\n   org_nm   num_org_mem           adr_ln_1  ...        zip     phn_numbr  \\\n0     NaN           NaN       120 COURT ST  ...  023603826  7.817107e+09   \n1     NaN           NaN     2000 ESTERS RD  ...  750619580           NaN   \n2     NaN           NaN    7330 SW 62ND PL  ...  331434825           NaN   \n3     NaN           NaN  11799 BEECHNUT ST  ...  770724116           NaN   \n4     NaN           NaN    2 BRENTWOOD CIR  ...  018105129  9.783359e+09   \n\n              hosp_afl_lbn_1  hosp_afl_lbn_2   hosp_afl_lbn_3  hosp_afl_lbn_4  \\\n0                        NaN             NaN              NaN             NaN   \n1                        NaN             NaN              NaN             NaN   \n2                        NaN             NaN              NaN             NaN   \n3                        NaN             NaN              NaN             NaN   \n4  LAWRENCE GENERAL HOSPITAL             NaN              NaN             NaN   \n\n   hosp_afl_lbn_5  ind_assgn  grp_assgn                    adrs_id  \n0             NaN          M          M  MA023603826PL120XXSTXX300  \n1             NaN          Y          M  TX750619580IR2000XRDXX303  \n2             NaN          Y          M  FL331434825SO7330XPLXX403  \n3             NaN          Y          M  TX770724116HO11799STXX301  \n4             NaN          Y          M  MA018105129AN2XXXXCIRX300  \n\n[5 rows x 23 columns]",
      "text/html": "<div>\n<style scoped>\n    .dataframe tbody tr th:only-of-type {\n        vertical-align: middle;\n    }\n\n    .dataframe tbody tr th {\n        vertical-align: top;\n    }\n\n    .dataframe thead th {\n        text-align: right;\n    }\n</style>\n<table border=\"1\" class=\"dataframe\">\n  <thead>\n    <tr style=\"text-align: right;\">\n      <th></th>\n      <th>NPI</th>\n      <th>name</th>\n      <th>gndr</th>\n      <th>Med_sch</th>\n      <th>Grd_yr</th>\n      <th>pri_spec</th>\n      <th>sec_spec_all</th>\n      <th>org_nm</th>\n      <th>num_org_mem</th>\n      <th>adr_ln_1</th>\n      <th>...</th>\n      <th>zip</th>\n      <th>phn_numbr</th>\n      <th>hosp_afl_lbn_1</th>\n      <th>hosp_afl_lbn_2</th>\n      <th>hosp_afl_lbn_3</th>\n      <th>hosp_afl_lbn_4</th>\n      <th>hosp_afl_lbn_5</th>\n      <th>ind_assgn</th>\n      <th>grp_assgn</th>\n      <th>adrs_id</th>\n    </tr>\n  </thead>\n  <tbody>\n    <tr>\n      <th>0</th>\n      <td>1215321872</td>\n      <td>EVE MASIELLO</td>\n      <td>F</td>\n      <td>OTHER</td>\n      <td>1982.0</td>\n      <td>CLINICAL SOCIAL WORKER</td>\n      <td>NaN</td>\n      <td>NaN</td>\n      <td>NaN</td>\n      <td>120 COURT ST</td>\n      <td>...</td>\n      <td>023603826</td>\n      <td>7.817107e+09</td>\n      <td>NaN</td>\n      <td>NaN</td>\n      <td>NaN</td>\n      <td>NaN</td>\n      <td>NaN</td>\n      <td>M</td>\n      <td>M</td>\n      <td>MA023603826PL120XXSTXX300</td>\n    </tr>\n    <tr>\n      <th>1</th>\n      <td>1215195664</td>\n      <td>CELESTINA N DURU</td>\n      <td>F</td>\n      <td>NEW YORK COLLEGE OF PODIATRIC MEDICINE</td>\n      <td>2007.0</td>\n      <td>PODIATRY</td>\n      <td>NaN</td>\n      <td>NaN</td>\n      <td>NaN</td>\n      <td>2000 ESTERS RD</td>\n      <td>...</td>\n      <td>750619580</td>\n      <td>NaN</td>\n      <td>NaN</td>\n      <td>NaN</td>\n      <td>NaN</td>\n      <td>NaN</td>\n      <td>NaN</td>\n      <td>Y</td>\n      <td>M</td>\n      <td>TX750619580IR2000XRDXX303</td>\n    </tr>\n    <tr>\n      <th>2</th>\n      <td>1215188925</td>\n      <td>REZA KESHAVARZI</td>\n      <td>M</td>\n      <td>UNIVERSITY OF KENTUCKY COLLEGE OF MEDICINE</td>\n      <td>2005.0</td>\n      <td>GENERAL SURGERY</td>\n      <td>NaN</td>\n      <td>NaN</td>\n      <td>NaN</td>\n      <td>7330 SW 62ND PL</td>\n      <td>...</td>\n      <td>331434825</td>\n      <td>NaN</td>\n      <td>NaN</td>\n      <td>NaN</td>\n      <td>NaN</td>\n      <td>NaN</td>\n      <td>NaN</td>\n      <td>Y</td>\n      <td>M</td>\n      <td>FL331434825SO7330XPLXX403</td>\n    </tr>\n    <tr>\n      <th>3</th>\n      <td>1215138714</td>\n      <td>ANTHONY PHAM</td>\n      <td>M</td>\n      <td>UNIVERSITY OF NORTH TEXAS HSC, COLLEGE OF OSTE...</td>\n      <td>2003.0</td>\n      <td>PHYSICAL MEDICINE AND REHABILITATION</td>\n      <td>INTERVENTIONAL PAIN MANAGEMENT</td>\n      <td>NaN</td>\n      <td>NaN</td>\n      <td>11799 BEECHNUT ST</td>\n      <td>...</td>\n      <td>770724116</td>\n      <td>NaN</td>\n      <td>NaN</td>\n      <td>NaN</td>\n      <td>NaN</td>\n      <td>NaN</td>\n      <td>NaN</td>\n      <td>Y</td>\n      <td>M</td>\n      <td>TX770724116HO11799STXX301</td>\n    </tr>\n    <tr>\n      <th>4</th>\n      <td>1215127840</td>\n      <td>MARCIA E NELSON VANCINI</td>\n      <td>F</td>\n      <td>OTHER</td>\n      <td>2002.0</td>\n      <td>CERTIFIED CLINICAL NURSE SPECIALIST (CNS)</td>\n      <td>NaN</td>\n      <td>NaN</td>\n      <td>NaN</td>\n      <td>2 BRENTWOOD CIR</td>\n      <td>...</td>\n      <td>018105129</td>\n      <td>9.783359e+09</td>\n      <td>LAWRENCE GENERAL HOSPITAL</td>\n      <td>NaN</td>\n      <td>NaN</td>\n      <td>NaN</td>\n      <td>NaN</td>\n      <td>Y</td>\n      <td>M</td>\n      <td>MA018105129AN2XXXXCIRX300</td>\n    </tr>\n  </tbody>\n</table>\n<p>5 rows × 23 columns</p>\n</div>"
     },
     "metadata": {}
    }
   ]
  },
  {
   "cell_type": "code",
   "metadata": {
    "cell_id": "82e2086c-5920-4a52-ab79-dbb87cd1cc1c",
    "tags": [],
    "deepnote_to_be_reexecuted": false,
    "source_hash": "6719abc5",
    "execution_start": 1644947056308,
    "execution_millis": 538,
    "deepnote_output_heights": [
     558.796875
    ],
    "deepnote_app_coordinates": {
     "x": 0,
     "y": 207,
     "w": 12,
     "h": 5
    },
    "deepnote_cell_type": "code"
   },
   "source": "df[[' hosp_afl_lbn_1', ' hosp_afl_lbn_2', ' hosp_afl_lbn_3', ' hosp_afl_lbn_4', ' hosp_afl_lbn_5']] = df[[' hosp_afl_lbn_1', \n' hosp_afl_lbn_2', ' hosp_afl_lbn_3', ' hosp_afl_lbn_4', ' hosp_afl_lbn_5']].fillna('').astype(str)",
   "execution_count": 41,
   "outputs": []
  },
  {
   "cell_type": "code",
   "metadata": {
    "cell_id": "0cad2ff2-cd47-4a24-a6bd-6964e562f98a",
    "tags": [],
    "deepnote_to_be_reexecuted": false,
    "source_hash": "21d50bb1",
    "execution_start": 1644947056851,
    "execution_millis": 2029,
    "deepnote_app_coordinates": {
     "x": 0,
     "y": 407,
     "w": 12,
     "h": 4
    },
    "deepnote_cell_type": "code"
   },
   "source": "#merging hospital names into one column\ndf.insert(15, 'affiliated_hospitals', df[' hosp_afl_lbn_1'] + ', ' + df[' hosp_afl_lbn_2'] + ', ' + df[' hosp_afl_lbn_3'] + ', ' + df[' hosp_afl_lbn_4'] + ', ' + df[' hosp_afl_lbn_5'])",
   "execution_count": 42,
   "outputs": []
  },
  {
   "cell_type": "code",
   "metadata": {
    "cell_id": "0f630a06-2366-41ed-ad9d-9309b009e61f",
    "tags": [],
    "deepnote_to_be_reexecuted": false,
    "source_hash": "fc41ed6c",
    "execution_start": 1644947059023,
    "execution_millis": 5116,
    "deepnote_cell_type": "code"
   },
   "source": "df['affiliated_hospitals'] = df['affiliated_hospitals'].str.replace(\", , , ,\", '')\ndf['affiliated_hospitals'] = df['affiliated_hospitals'].str.replace(\", , ,\", '')\ndf['affiliated_hospitals'] = df['affiliated_hospitals'].str.replace(\", ,\", '')",
   "execution_count": 43,
   "outputs": []
  },
  {
   "cell_type": "code",
   "metadata": {
    "cell_id": "6dd470e4-837d-42d7-aab2-133903257c18",
    "tags": [],
    "deepnote_to_be_reexecuted": false,
    "source_hash": "c085b6ba",
    "execution_start": 1644947064188,
    "execution_millis": 355,
    "deepnote_app_coordinates": {
     "x": 0,
     "y": 225,
     "w": 12,
     "h": 5
    },
    "deepnote_cell_type": "code"
   },
   "source": "df.head()",
   "execution_count": 44,
   "outputs": [
    {
     "output_type": "execute_result",
     "execution_count": 44,
     "data": {
      "application/vnd.deepnote.dataframe.v3+json": {
       "column_count": 24,
       "row_count": 5,
       "columns": [
        {
         "name": "NPI",
         "dtype": "int64",
         "stats": {
          "unique_count": 5,
          "nan_count": 0,
          "min": "1215127840",
          "max": "1215321872",
          "histogram": [
           {
            "bin_start": 1215127840,
            "bin_end": 1215147243.2,
            "count": 2
           },
           {
            "bin_start": 1215147243.2,
            "bin_end": 1215166646.4,
            "count": 0
           },
           {
            "bin_start": 1215166646.4,
            "bin_end": 1215186049.6,
            "count": 0
           },
           {
            "bin_start": 1215186049.6,
            "bin_end": 1215205452.8,
            "count": 2
           },
           {
            "bin_start": 1215205452.8,
            "bin_end": 1215224856,
            "count": 0
           },
           {
            "bin_start": 1215224856,
            "bin_end": 1215244259.2,
            "count": 0
           },
           {
            "bin_start": 1215244259.2,
            "bin_end": 1215263662.4,
            "count": 0
           },
           {
            "bin_start": 1215263662.4,
            "bin_end": 1215283065.6,
            "count": 0
           },
           {
            "bin_start": 1215283065.6,
            "bin_end": 1215302468.8,
            "count": 0
           },
           {
            "bin_start": 1215302468.8,
            "bin_end": 1215321872,
            "count": 1
           }
          ]
         }
        },
        {
         "name": " name",
         "dtype": "object",
         "stats": {
          "unique_count": 5,
          "nan_count": 0,
          "categories": [
           {
            "name": "EVE MASIELLO",
            "count": 1
           },
           {
            "name": "CELESTINA N DURU",
            "count": 1
           },
           {
            "name": "3 others",
            "count": 3
           }
          ]
         }
        },
        {
         "name": " gndr",
         "dtype": "object",
         "stats": {
          "unique_count": 2,
          "nan_count": 0,
          "categories": [
           {
            "name": "F",
            "count": 3
           },
           {
            "name": "M",
            "count": 2
           }
          ]
         }
        },
        {
         "name": " Med_sch",
         "dtype": "object",
         "stats": {
          "unique_count": 4,
          "nan_count": 0,
          "categories": [
           {
            "name": "OTHER",
            "count": 2
           },
           {
            "name": "NEW YORK COLLEGE OF PODIATRIC MEDICINE",
            "count": 1
           },
           {
            "name": "2 others",
            "count": 2
           }
          ]
         }
        },
        {
         "name": " Grd_yr",
         "dtype": "float64",
         "stats": {
          "unique_count": 5,
          "nan_count": 0,
          "min": "1982.0",
          "max": "2007.0",
          "histogram": [
           {
            "bin_start": 1982,
            "bin_end": 1984.5,
            "count": 1
           },
           {
            "bin_start": 1984.5,
            "bin_end": 1987,
            "count": 0
           },
           {
            "bin_start": 1987,
            "bin_end": 1989.5,
            "count": 0
           },
           {
            "bin_start": 1989.5,
            "bin_end": 1992,
            "count": 0
           },
           {
            "bin_start": 1992,
            "bin_end": 1994.5,
            "count": 0
           },
           {
            "bin_start": 1994.5,
            "bin_end": 1997,
            "count": 0
           },
           {
            "bin_start": 1997,
            "bin_end": 1999.5,
            "count": 0
           },
           {
            "bin_start": 1999.5,
            "bin_end": 2002,
            "count": 0
           },
           {
            "bin_start": 2002,
            "bin_end": 2004.5,
            "count": 2
           },
           {
            "bin_start": 2004.5,
            "bin_end": 2007,
            "count": 2
           }
          ]
         }
        },
        {
         "name": " pri_spec",
         "dtype": "object",
         "stats": {
          "unique_count": 5,
          "nan_count": 0,
          "categories": [
           {
            "name": "CLINICAL SOCIAL WORKER",
            "count": 1
           },
           {
            "name": "PODIATRY",
            "count": 1
           },
           {
            "name": "3 others",
            "count": 3
           }
          ]
         }
        },
        {
         "name": " sec_spec_all",
         "dtype": "object",
         "stats": {
          "unique_count": 1,
          "nan_count": 4,
          "categories": [
           {
            "name": "INTERVENTIONAL PAIN MANAGEMENT",
            "count": 1
           },
           {
            "name": "Missing",
            "count": 4
           }
          ]
         }
        },
        {
         "name": " org_nm",
         "dtype": "object",
         "stats": {
          "unique_count": 0,
          "nan_count": 5,
          "categories": [
           {
            "name": "Missing",
            "count": 5
           }
          ]
         }
        },
        {
         "name": " num_org_mem",
         "dtype": "float64",
         "stats": {
          "unique_count": 0,
          "nan_count": 5,
          "min": null,
          "max": null,
          "histogram": [
           {
            "bin_start": 0,
            "bin_end": 0.1,
            "count": 0
           },
           {
            "bin_start": 0.1,
            "bin_end": 0.2,
            "count": 0
           },
           {
            "bin_start": 0.2,
            "bin_end": 0.30000000000000004,
            "count": 0
           },
           {
            "bin_start": 0.30000000000000004,
            "bin_end": 0.4,
            "count": 0
           },
           {
            "bin_start": 0.4,
            "bin_end": 0.5,
            "count": 0
           },
           {
            "bin_start": 0.5,
            "bin_end": 0.6000000000000001,
            "count": 0
           },
           {
            "bin_start": 0.6000000000000001,
            "bin_end": 0.7000000000000001,
            "count": 0
           },
           {
            "bin_start": 0.7000000000000001,
            "bin_end": 0.8,
            "count": 0
           },
           {
            "bin_start": 0.8,
            "bin_end": 0.9,
            "count": 0
           },
           {
            "bin_start": 0.9,
            "bin_end": 1,
            "count": 0
           }
          ]
         }
        },
        {
         "name": " adr_ln_1",
         "dtype": "object",
         "stats": {
          "unique_count": 5,
          "nan_count": 0,
          "categories": [
           {
            "name": "120 COURT ST",
            "count": 1
           },
           {
            "name": "2000 ESTERS RD",
            "count": 1
           },
           {
            "name": "3 others",
            "count": 3
           }
          ]
         }
        },
        {
         "name": " adr_ln_2",
         "dtype": "object",
         "stats": {
          "unique_count": 3,
          "nan_count": 2,
          "categories": [
           {
            "name": "SUITE 104",
            "count": 1
           },
           {
            "name": "2 others",
            "count": 2
           },
           {
            "name": "Missing",
            "count": 2
           }
          ]
         }
        },
        {
         "name": " cty",
         "dtype": "object",
         "stats": {
          "unique_count": 5,
          "nan_count": 0,
          "categories": [
           {
            "name": "PLYMOUTH",
            "count": 1
           },
           {
            "name": "IRVING",
            "count": 1
           },
           {
            "name": "3 others",
            "count": 3
           }
          ]
         }
        },
        {
         "name": " st",
         "dtype": "object",
         "stats": {
          "unique_count": 3,
          "nan_count": 0,
          "categories": [
           {
            "name": "MA",
            "count": 2
           },
           {
            "name": "TX",
            "count": 2
           },
           {
            "name": "FL",
            "count": 1
           }
          ]
         }
        },
        {
         "name": " zip",
         "dtype": "object",
         "stats": {
          "unique_count": 5,
          "nan_count": 0,
          "categories": [
           {
            "name": "023603826",
            "count": 1
           },
           {
            "name": "750619580",
            "count": 1
           },
           {
            "name": "3 others",
            "count": 3
           }
          ]
         }
        },
        {
         "name": " phn_numbr",
         "dtype": "float64",
         "stats": {
          "unique_count": 2,
          "nan_count": 3,
          "min": "7817107356.0",
          "max": "9783358785.0",
          "histogram": [
           {
            "bin_start": 7817107356,
            "bin_end": 8013732498.9,
            "count": 1
           },
           {
            "bin_start": 8013732498.9,
            "bin_end": 8210357641.8,
            "count": 0
           },
           {
            "bin_start": 8210357641.8,
            "bin_end": 8406982784.7,
            "count": 0
           },
           {
            "bin_start": 8406982784.7,
            "bin_end": 8603607927.6,
            "count": 0
           },
           {
            "bin_start": 8603607927.6,
            "bin_end": 8800233070.5,
            "count": 0
           },
           {
            "bin_start": 8800233070.5,
            "bin_end": 8996858213.4,
            "count": 0
           },
           {
            "bin_start": 8996858213.4,
            "bin_end": 9193483356.3,
            "count": 0
           },
           {
            "bin_start": 9193483356.3,
            "bin_end": 9390108499.2,
            "count": 0
           },
           {
            "bin_start": 9390108499.2,
            "bin_end": 9586733642.1,
            "count": 0
           },
           {
            "bin_start": 9586733642.1,
            "bin_end": 9783358785,
            "count": 1
           }
          ]
         }
        },
        {
         "name": "affiliated_hospitals",
         "dtype": "object",
         "stats": {
          "unique_count": 2,
          "nan_count": 0,
          "categories": [
           {
            "name": " ",
            "count": 4
           },
           {
            "name": "LAWRENCE GENERAL HOSPITAL ",
            "count": 1
           }
          ]
         }
        },
        {
         "name": " hosp_afl_lbn_1",
         "dtype": "object",
         "stats": {
          "unique_count": 2,
          "nan_count": 0,
          "categories": [
           {
            "name": "",
            "count": 4
           },
           {
            "name": "LAWRENCE GENERAL HOSPITAL",
            "count": 1
           }
          ]
         }
        },
        {
         "name": " hosp_afl_lbn_2",
         "dtype": "object",
         "stats": {
          "unique_count": 1,
          "nan_count": 0,
          "categories": [
           {
            "name": "",
            "count": 5
           }
          ]
         }
        },
        {
         "name": " hosp_afl_lbn_3",
         "dtype": "object",
         "stats": {
          "unique_count": 1,
          "nan_count": 0,
          "categories": [
           {
            "name": "",
            "count": 5
           }
          ]
         }
        },
        {
         "name": " hosp_afl_lbn_4",
         "dtype": "object",
         "stats": {
          "unique_count": 1,
          "nan_count": 0,
          "categories": [
           {
            "name": "",
            "count": 5
           }
          ]
         }
        },
        {
         "name": " hosp_afl_lbn_5",
         "dtype": "object",
         "stats": {
          "unique_count": 1,
          "nan_count": 0,
          "categories": [
           {
            "name": "",
            "count": 5
           }
          ]
         }
        },
        {
         "name": " ind_assgn",
         "dtype": "object",
         "stats": {
          "unique_count": 2,
          "nan_count": 0,
          "categories": [
           {
            "name": "Y",
            "count": 4
           },
           {
            "name": "M",
            "count": 1
           }
          ]
         }
        },
        {
         "name": " grp_assgn",
         "dtype": "object",
         "stats": {
          "unique_count": 1,
          "nan_count": 0,
          "categories": [
           {
            "name": "M",
            "count": 5
           }
          ]
         }
        },
        {
         "name": " adrs_id",
         "dtype": "object",
         "stats": {
          "unique_count": 5,
          "nan_count": 0,
          "categories": [
           {
            "name": "MA023603826PL120XXSTXX300",
            "count": 1
           },
           {
            "name": "TX750619580IR2000XRDXX303",
            "count": 1
           },
           {
            "name": "3 others",
            "count": 3
           }
          ]
         }
        },
        {
         "name": "_deepnote_index_column",
         "dtype": "int64"
        }
       ],
       "rows": [
        {
         "NPI": 1215321872,
         " name": "EVE MASIELLO",
         " gndr": "F",
         " Med_sch": "OTHER",
         " Grd_yr": 1982,
         " pri_spec": "CLINICAL SOCIAL WORKER",
         " sec_spec_all": "nan",
         " org_nm": "nan",
         " num_org_mem": "nan",
         " adr_ln_1": "120 COURT ST",
         " adr_ln_2": "nan",
         " cty": "PLYMOUTH",
         " st": "MA",
         " zip": "023603826",
         " phn_numbr": 7817107356,
         "affiliated_hospitals": " ",
         " hosp_afl_lbn_1": "",
         " hosp_afl_lbn_2": "",
         " hosp_afl_lbn_3": "",
         " hosp_afl_lbn_4": "",
         " hosp_afl_lbn_5": "",
         " ind_assgn": "M",
         " grp_assgn": "M",
         " adrs_id": "MA023603826PL120XXSTXX300",
         "_deepnote_index_column": 0
        },
        {
         "NPI": 1215195664,
         " name": "CELESTINA N DURU",
         " gndr": "F",
         " Med_sch": "NEW YORK COLLEGE OF PODIATRIC MEDICINE",
         " Grd_yr": 2007,
         " pri_spec": "PODIATRY",
         " sec_spec_all": "nan",
         " org_nm": "nan",
         " num_org_mem": "nan",
         " adr_ln_1": "2000 ESTERS RD",
         " adr_ln_2": "SUITE 104",
         " cty": "IRVING",
         " st": "TX",
         " zip": "750619580",
         " phn_numbr": "nan",
         "affiliated_hospitals": " ",
         " hosp_afl_lbn_1": "",
         " hosp_afl_lbn_2": "",
         " hosp_afl_lbn_3": "",
         " hosp_afl_lbn_4": "",
         " hosp_afl_lbn_5": "",
         " ind_assgn": "Y",
         " grp_assgn": "M",
         " adrs_id": "TX750619580IR2000XRDXX303",
         "_deepnote_index_column": 1
        },
        {
         "NPI": 1215188925,
         " name": "REZA KESHAVARZI",
         " gndr": "M",
         " Med_sch": "UNIVERSITY OF KENTUCKY COLLEGE OF MEDICINE",
         " Grd_yr": 2005,
         " pri_spec": "GENERAL SURGERY",
         " sec_spec_all": "nan",
         " org_nm": "nan",
         " num_org_mem": "nan",
         " adr_ln_1": "7330 SW 62ND PL",
         " adr_ln_2": "SUITE 210",
         " cty": "SOUTH MIAMI",
         " st": "FL",
         " zip": "331434825",
         " phn_numbr": "nan",
         "affiliated_hospitals": " ",
         " hosp_afl_lbn_1": "",
         " hosp_afl_lbn_2": "",
         " hosp_afl_lbn_3": "",
         " hosp_afl_lbn_4": "",
         " hosp_afl_lbn_5": "",
         " ind_assgn": "Y",
         " grp_assgn": "M",
         " adrs_id": "FL331434825SO7330XPLXX403",
         "_deepnote_index_column": 2
        },
        {
         "NPI": 1215138714,
         " name": "ANTHONY PHAM",
         " gndr": "M",
         " Med_sch": "UNIVERSITY OF NORTH TEXAS HSC, COLLEGE OF OSTEOPATHIC MED",
         " Grd_yr": 2003,
         " pri_spec": "PHYSICAL MEDICINE AND REHABILITATION",
         " sec_spec_all": "INTERVENTIONAL PAIN MANAGEMENT",
         " org_nm": "nan",
         " num_org_mem": "nan",
         " adr_ln_1": "11799 BEECHNUT ST",
         " adr_ln_2": "SUITE A",
         " cty": "HOUSTON",
         " st": "TX",
         " zip": "770724116",
         " phn_numbr": "nan",
         "affiliated_hospitals": " ",
         " hosp_afl_lbn_1": "",
         " hosp_afl_lbn_2": "",
         " hosp_afl_lbn_3": "",
         " hosp_afl_lbn_4": "",
         " hosp_afl_lbn_5": "",
         " ind_assgn": "Y",
         " grp_assgn": "M",
         " adrs_id": "TX770724116HO11799STXX301",
         "_deepnote_index_column": 3
        },
        {
         "NPI": 1215127840,
         " name": "MARCIA E NELSON VANCINI",
         " gndr": "F",
         " Med_sch": "OTHER",
         " Grd_yr": 2002,
         " pri_spec": "CERTIFIED CLINICAL NURSE SPECIALIST (CNS)",
         " sec_spec_all": "nan",
         " org_nm": "nan",
         " num_org_mem": "nan",
         " adr_ln_1": "2 BRENTWOOD CIR",
         " adr_ln_2": "nan",
         " cty": "ANDOVER",
         " st": "MA",
         " zip": "018105129",
         " phn_numbr": 9783358785,
         "affiliated_hospitals": "LAWRENCE GENERAL HOSPITAL ",
         " hosp_afl_lbn_1": "LAWRENCE GENERAL HOSPITAL",
         " hosp_afl_lbn_2": "",
         " hosp_afl_lbn_3": "",
         " hosp_afl_lbn_4": "",
         " hosp_afl_lbn_5": "",
         " ind_assgn": "Y",
         " grp_assgn": "M",
         " adrs_id": "MA018105129AN2XXXXCIRX300",
         "_deepnote_index_column": 4
        }
       ]
      },
      "text/plain": "          NPI                     name  gndr  \\\n0  1215321872             EVE MASIELLO     F   \n1  1215195664         CELESTINA N DURU     F   \n2  1215188925          REZA KESHAVARZI     M   \n3  1215138714             ANTHONY PHAM     M   \n4  1215127840  MARCIA E NELSON VANCINI     F   \n\n                                             Med_sch   Grd_yr  \\\n0                                              OTHER   1982.0   \n1             NEW YORK COLLEGE OF PODIATRIC MEDICINE   2007.0   \n2         UNIVERSITY OF KENTUCKY COLLEGE OF MEDICINE   2005.0   \n3  UNIVERSITY OF NORTH TEXAS HSC, COLLEGE OF OSTE...   2003.0   \n4                                              OTHER   2002.0   \n\n                                    pri_spec                    sec_spec_all  \\\n0                     CLINICAL SOCIAL WORKER                             NaN   \n1                                   PODIATRY                             NaN   \n2                            GENERAL SURGERY                             NaN   \n3       PHYSICAL MEDICINE AND REHABILITATION  INTERVENTIONAL PAIN MANAGEMENT   \n4  CERTIFIED CLINICAL NURSE SPECIALIST (CNS)                             NaN   \n\n   org_nm   num_org_mem           adr_ln_1  ...     phn_numbr  \\\n0     NaN           NaN       120 COURT ST  ...  7.817107e+09   \n1     NaN           NaN     2000 ESTERS RD  ...           NaN   \n2     NaN           NaN    7330 SW 62ND PL  ...           NaN   \n3     NaN           NaN  11799 BEECHNUT ST  ...           NaN   \n4     NaN           NaN    2 BRENTWOOD CIR  ...  9.783359e+09   \n\n         affiliated_hospitals             hosp_afl_lbn_1  hosp_afl_lbn_2  \\\n0                                                                          \n1                                                                          \n2                                                                          \n3                                                                          \n4  LAWRENCE GENERAL HOSPITAL   LAWRENCE GENERAL HOSPITAL                   \n\n    hosp_afl_lbn_3  hosp_afl_lbn_4  hosp_afl_lbn_5  ind_assgn  grp_assgn  \\\n0                                                           M          M   \n1                                                           Y          M   \n2                                                           Y          M   \n3                                                           Y          M   \n4                                                           Y          M   \n\n                     adrs_id  \n0  MA023603826PL120XXSTXX300  \n1  TX750619580IR2000XRDXX303  \n2  FL331434825SO7330XPLXX403  \n3  TX770724116HO11799STXX301  \n4  MA018105129AN2XXXXCIRX300  \n\n[5 rows x 24 columns]",
      "text/html": "<div>\n<style scoped>\n    .dataframe tbody tr th:only-of-type {\n        vertical-align: middle;\n    }\n\n    .dataframe tbody tr th {\n        vertical-align: top;\n    }\n\n    .dataframe thead th {\n        text-align: right;\n    }\n</style>\n<table border=\"1\" class=\"dataframe\">\n  <thead>\n    <tr style=\"text-align: right;\">\n      <th></th>\n      <th>NPI</th>\n      <th>name</th>\n      <th>gndr</th>\n      <th>Med_sch</th>\n      <th>Grd_yr</th>\n      <th>pri_spec</th>\n      <th>sec_spec_all</th>\n      <th>org_nm</th>\n      <th>num_org_mem</th>\n      <th>adr_ln_1</th>\n      <th>...</th>\n      <th>phn_numbr</th>\n      <th>affiliated_hospitals</th>\n      <th>hosp_afl_lbn_1</th>\n      <th>hosp_afl_lbn_2</th>\n      <th>hosp_afl_lbn_3</th>\n      <th>hosp_afl_lbn_4</th>\n      <th>hosp_afl_lbn_5</th>\n      <th>ind_assgn</th>\n      <th>grp_assgn</th>\n      <th>adrs_id</th>\n    </tr>\n  </thead>\n  <tbody>\n    <tr>\n      <th>0</th>\n      <td>1215321872</td>\n      <td>EVE MASIELLO</td>\n      <td>F</td>\n      <td>OTHER</td>\n      <td>1982.0</td>\n      <td>CLINICAL SOCIAL WORKER</td>\n      <td>NaN</td>\n      <td>NaN</td>\n      <td>NaN</td>\n      <td>120 COURT ST</td>\n      <td>...</td>\n      <td>7.817107e+09</td>\n      <td></td>\n      <td></td>\n      <td></td>\n      <td></td>\n      <td></td>\n      <td></td>\n      <td>M</td>\n      <td>M</td>\n      <td>MA023603826PL120XXSTXX300</td>\n    </tr>\n    <tr>\n      <th>1</th>\n      <td>1215195664</td>\n      <td>CELESTINA N DURU</td>\n      <td>F</td>\n      <td>NEW YORK COLLEGE OF PODIATRIC MEDICINE</td>\n      <td>2007.0</td>\n      <td>PODIATRY</td>\n      <td>NaN</td>\n      <td>NaN</td>\n      <td>NaN</td>\n      <td>2000 ESTERS RD</td>\n      <td>...</td>\n      <td>NaN</td>\n      <td></td>\n      <td></td>\n      <td></td>\n      <td></td>\n      <td></td>\n      <td></td>\n      <td>Y</td>\n      <td>M</td>\n      <td>TX750619580IR2000XRDXX303</td>\n    </tr>\n    <tr>\n      <th>2</th>\n      <td>1215188925</td>\n      <td>REZA KESHAVARZI</td>\n      <td>M</td>\n      <td>UNIVERSITY OF KENTUCKY COLLEGE OF MEDICINE</td>\n      <td>2005.0</td>\n      <td>GENERAL SURGERY</td>\n      <td>NaN</td>\n      <td>NaN</td>\n      <td>NaN</td>\n      <td>7330 SW 62ND PL</td>\n      <td>...</td>\n      <td>NaN</td>\n      <td></td>\n      <td></td>\n      <td></td>\n      <td></td>\n      <td></td>\n      <td></td>\n      <td>Y</td>\n      <td>M</td>\n      <td>FL331434825SO7330XPLXX403</td>\n    </tr>\n    <tr>\n      <th>3</th>\n      <td>1215138714</td>\n      <td>ANTHONY PHAM</td>\n      <td>M</td>\n      <td>UNIVERSITY OF NORTH TEXAS HSC, COLLEGE OF OSTE...</td>\n      <td>2003.0</td>\n      <td>PHYSICAL MEDICINE AND REHABILITATION</td>\n      <td>INTERVENTIONAL PAIN MANAGEMENT</td>\n      <td>NaN</td>\n      <td>NaN</td>\n      <td>11799 BEECHNUT ST</td>\n      <td>...</td>\n      <td>NaN</td>\n      <td></td>\n      <td></td>\n      <td></td>\n      <td></td>\n      <td></td>\n      <td></td>\n      <td>Y</td>\n      <td>M</td>\n      <td>TX770724116HO11799STXX301</td>\n    </tr>\n    <tr>\n      <th>4</th>\n      <td>1215127840</td>\n      <td>MARCIA E NELSON VANCINI</td>\n      <td>F</td>\n      <td>OTHER</td>\n      <td>2002.0</td>\n      <td>CERTIFIED CLINICAL NURSE SPECIALIST (CNS)</td>\n      <td>NaN</td>\n      <td>NaN</td>\n      <td>NaN</td>\n      <td>2 BRENTWOOD CIR</td>\n      <td>...</td>\n      <td>9.783359e+09</td>\n      <td>LAWRENCE GENERAL HOSPITAL</td>\n      <td>LAWRENCE GENERAL HOSPITAL</td>\n      <td></td>\n      <td></td>\n      <td></td>\n      <td></td>\n      <td>Y</td>\n      <td>M</td>\n      <td>MA018105129AN2XXXXCIRX300</td>\n    </tr>\n  </tbody>\n</table>\n<p>5 rows × 24 columns</p>\n</div>"
     },
     "metadata": {}
    }
   ]
  },
  {
   "cell_type": "markdown",
   "source": "Certain columns were dropped if they contained redundant information or if the the column contained such little data that it became irrelevant",
   "metadata": {
    "cell_id": "ee6695c5-fc45-47a4-94be-53811632d4e7",
    "tags": [],
    "deepnote_app_coordinates": {
     "x": 0,
     "y": 231,
     "w": 12,
     "h": 5
    },
    "deepnote_cell_type": "markdown"
   }
  },
  {
   "cell_type": "markdown",
   "source": "### Merging DAC with previously merged dataset",
   "metadata": {
    "cell_id": "863feff9-e6e4-4b6d-9ed4-993ef947e511",
    "tags": [],
    "is_collapsed": false,
    "deepnote_app_coordinates": {
     "x": 0,
     "y": 0,
     "w": 12,
     "h": 5
    },
    "deepnote_cell_type": "text-cell-h3"
   }
  },
  {
   "cell_type": "code",
   "metadata": {
    "cell_id": "cae56905-f087-4daa-95b7-b83bb660b34d",
    "tags": [],
    "deepnote_to_be_reexecuted": false,
    "source_hash": "5f5e2565",
    "execution_start": 1644947086090,
    "execution_millis": 2556,
    "deepnote_table_state": {
     "pageSize": 25,
     "pageIndex": 0,
     "filters": [],
     "sortBy": [
      {
       "id": "nct_id_x",
       "type": "asc"
      }
     ]
    },
    "deepnote_table_loading": false,
    "deepnote_app_coordinates": {
     "x": 0,
     "y": 237,
     "w": 12,
     "h": 5
    },
    "deepnote_cell_type": "code"
   },
   "source": "merged2 = pd.merge(merged1, df, how =\"inner\", left_on = \"name\", right_on= \" name\")\nmerged2.head()",
   "execution_count": 46,
   "outputs": [
    {
     "output_type": "execute_result",
     "execution_count": 46,
     "data": {
      "application/vnd.deepnote.dataframe.v3+json": {
       "column_count": 34,
       "row_count": 5,
       "columns": [
        {
         "name": "id_x",
         "dtype": "int64",
         "stats": {
          "unique_count": 3,
          "nan_count": 0,
          "min": "1384591",
          "max": "1744321",
          "histogram": [
           {
            "bin_start": 1384591,
            "bin_end": 1420564,
            "count": 2
           },
           {
            "bin_start": 1420564,
            "bin_end": 1456537,
            "count": 0
           },
           {
            "bin_start": 1456537,
            "bin_end": 1492510,
            "count": 0
           },
           {
            "bin_start": 1492510,
            "bin_end": 1528483,
            "count": 2
           },
           {
            "bin_start": 1528483,
            "bin_end": 1564456,
            "count": 0
           },
           {
            "bin_start": 1564456,
            "bin_end": 1600429,
            "count": 0
           },
           {
            "bin_start": 1600429,
            "bin_end": 1636402,
            "count": 0
           },
           {
            "bin_start": 1636402,
            "bin_end": 1672375,
            "count": 0
           },
           {
            "bin_start": 1672375,
            "bin_end": 1708348,
            "count": 0
           },
           {
            "bin_start": 1708348,
            "bin_end": 1744321,
            "count": 1
           }
          ]
         }
        },
        {
         "name": "nct_id_x",
         "dtype": "object",
         "stats": {
          "unique_count": 3,
          "nan_count": 0,
          "categories": [
           {
            "name": "NCT03589326",
            "count": 2
           },
           {
            "name": "NCT04070768",
            "count": 2
           },
           {
            "name": "NCT03605719",
            "count": 1
           }
          ]
         }
        },
        {
         "name": "facility_id",
         "dtype": "int64",
         "stats": {
          "unique_count": 3,
          "nan_count": 0,
          "min": "7963013",
          "max": "10621675",
          "histogram": [
           {
            "bin_start": 7963013,
            "bin_end": 8228879.2,
            "count": 2
           },
           {
            "bin_start": 8228879.2,
            "bin_end": 8494745.4,
            "count": 2
           },
           {
            "bin_start": 8494745.4,
            "bin_end": 8760611.6,
            "count": 0
           },
           {
            "bin_start": 8760611.6,
            "bin_end": 9026477.8,
            "count": 0
           },
           {
            "bin_start": 9026477.8,
            "bin_end": 9292344,
            "count": 0
           },
           {
            "bin_start": 9292344,
            "bin_end": 9558210.2,
            "count": 0
           },
           {
            "bin_start": 9558210.2,
            "bin_end": 9824076.4,
            "count": 0
           },
           {
            "bin_start": 9824076.4,
            "bin_end": 10089942.6,
            "count": 0
           },
           {
            "bin_start": 10089942.6,
            "bin_end": 10355808.8,
            "count": 0
           },
           {
            "bin_start": 10355808.8,
            "bin_end": 10621675,
            "count": 1
           }
          ]
         }
        },
        {
         "name": "role",
         "dtype": "object",
         "stats": {
          "unique_count": 1,
          "nan_count": 0,
          "categories": [
           {
            "name": "Principal Investigator",
            "count": 5
           }
          ]
         }
        },
        {
         "name": "name",
         "dtype": "object",
         "stats": {
          "unique_count": 2,
          "nan_count": 0,
          "categories": [
           {
            "name": "HEIKO KONIG",
            "count": 4
           },
           {
            "name": "DOUGLAS SBOROV",
            "count": 1
           }
          ]
         }
        },
        {
         "name": "facility",
         "dtype": "object",
         "stats": {
          "unique_count": 3,
          "nan_count": 0,
          "categories": [
           {
            "name": "Indiana University",
            "count": 2
           },
           {
            "name": "Western General Hospital",
            "count": 2
           },
           {
            "name": "Bobruysk Interdistrict Onco ID 169394",
            "count": 1
           }
          ]
         }
        },
        {
         "name": "city",
         "dtype": "object",
         "stats": {
          "unique_count": 2,
          "nan_count": 0,
          "categories": [
           {
            "name": "Indianapolis",
            "count": 4
           },
           {
            "name": "Salt Lake City",
            "count": 1
           }
          ]
         }
        },
        {
         "name": "state",
         "dtype": "object",
         "stats": {
          "unique_count": 2,
          "nan_count": 0,
          "categories": [
           {
            "name": "Indiana",
            "count": 4
           },
           {
            "name": "Utah",
            "count": 1
           }
          ]
         }
        },
        {
         "name": "zip",
         "dtype": "object",
         "stats": {
          "unique_count": 2,
          "nan_count": 0,
          "categories": [
           {
            "name": "46202",
            "count": 4
           },
           {
            "name": "84112",
            "count": 1
           }
          ]
         }
        },
        {
         "name": "country",
         "dtype": "object",
         "stats": {
          "unique_count": 1,
          "nan_count": 0,
          "categories": [
           {
            "name": "United States",
            "count": 5
           }
          ]
         }
        },
        {
         "name": "NPI",
         "dtype": "int64",
         "stats": {
          "unique_count": 2,
          "nan_count": 0,
          "min": "1730343575",
          "max": "1942444609",
          "histogram": [
           {
            "bin_start": 1730343575,
            "bin_end": 1751553678.4,
            "count": 4
           },
           {
            "bin_start": 1751553678.4,
            "bin_end": 1772763781.8,
            "count": 0
           },
           {
            "bin_start": 1772763781.8,
            "bin_end": 1793973885.2,
            "count": 0
           },
           {
            "bin_start": 1793973885.2,
            "bin_end": 1815183988.6,
            "count": 0
           },
           {
            "bin_start": 1815183988.6,
            "bin_end": 1836394092,
            "count": 0
           },
           {
            "bin_start": 1836394092,
            "bin_end": 1857604195.4,
            "count": 0
           },
           {
            "bin_start": 1857604195.4,
            "bin_end": 1878814298.8,
            "count": 0
           },
           {
            "bin_start": 1878814298.8,
            "bin_end": 1900024402.2,
            "count": 0
           },
           {
            "bin_start": 1900024402.2,
            "bin_end": 1921234505.6,
            "count": 0
           },
           {
            "bin_start": 1921234505.6,
            "bin_end": 1942444609,
            "count": 1
           }
          ]
         }
        },
        {
         "name": " name",
         "dtype": "object",
         "stats": {
          "unique_count": 2,
          "nan_count": 0,
          "categories": [
           {
            "name": "HEIKO KONIG",
            "count": 4
           },
           {
            "name": "DOUGLAS SBOROV",
            "count": 1
           }
          ]
         }
        },
        {
         "name": " gndr",
         "dtype": "object",
         "stats": {
          "unique_count": 1,
          "nan_count": 0,
          "categories": [
           {
            "name": "M",
            "count": 5
           }
          ]
         }
        },
        {
         "name": " Med_sch",
         "dtype": "object",
         "stats": {
          "unique_count": 1,
          "nan_count": 0,
          "categories": [
           {
            "name": "OTHER",
            "count": 5
           }
          ]
         }
        },
        {
         "name": " Grd_yr",
         "dtype": "float64",
         "stats": {
          "unique_count": 2,
          "nan_count": 0,
          "min": "2000.0",
          "max": "2009.0",
          "histogram": [
           {
            "bin_start": 2000,
            "bin_end": 2000.9,
            "count": 4
           },
           {
            "bin_start": 2000.9,
            "bin_end": 2001.8,
            "count": 0
           },
           {
            "bin_start": 2001.8,
            "bin_end": 2002.7,
            "count": 0
           },
           {
            "bin_start": 2002.7,
            "bin_end": 2003.6,
            "count": 0
           },
           {
            "bin_start": 2003.6,
            "bin_end": 2004.5,
            "count": 0
           },
           {
            "bin_start": 2004.5,
            "bin_end": 2005.4,
            "count": 0
           },
           {
            "bin_start": 2005.4,
            "bin_end": 2006.3,
            "count": 0
           },
           {
            "bin_start": 2006.3,
            "bin_end": 2007.2,
            "count": 0
           },
           {
            "bin_start": 2007.2,
            "bin_end": 2008.1,
            "count": 0
           },
           {
            "bin_start": 2008.1,
            "bin_end": 2009,
            "count": 1
           }
          ]
         }
        },
        {
         "name": " pri_spec",
         "dtype": "object",
         "stats": {
          "unique_count": 2,
          "nan_count": 0,
          "categories": [
           {
            "name": "MEDICAL ONCOLOGY",
            "count": 4
           },
           {
            "name": "HEMATOLOGY/ONCOLOGY",
            "count": 1
           }
          ]
         }
        },
        {
         "name": " sec_spec_all",
         "dtype": "object",
         "stats": {
          "unique_count": 1,
          "nan_count": 1,
          "categories": [
           {
            "name": "INTERNAL MEDICINE",
            "count": 4
           },
           {
            "name": "Missing",
            "count": 1
           }
          ]
         }
        },
        {
         "name": " org_nm",
         "dtype": "object",
         "stats": {
          "unique_count": 2,
          "nan_count": 0,
          "categories": [
           {
            "name": "UNIVERSITY MEDICAL DIAGNOSTIC ASSOCIATES INC",
            "count": 4
           },
           {
            "name": "UNIVERSITY OF UTAH ADULT SERVICES",
            "count": 1
           }
          ]
         }
        },
        {
         "name": " num_org_mem",
         "dtype": "float64",
         "stats": {
          "unique_count": 2,
          "nan_count": 0,
          "min": "270.0",
          "max": "1385.0",
          "histogram": [
           {
            "bin_start": 270,
            "bin_end": 381.5,
            "count": 4
           },
           {
            "bin_start": 381.5,
            "bin_end": 493,
            "count": 0
           },
           {
            "bin_start": 493,
            "bin_end": 604.5,
            "count": 0
           },
           {
            "bin_start": 604.5,
            "bin_end": 716,
            "count": 0
           },
           {
            "bin_start": 716,
            "bin_end": 827.5,
            "count": 0
           },
           {
            "bin_start": 827.5,
            "bin_end": 939,
            "count": 0
           },
           {
            "bin_start": 939,
            "bin_end": 1050.5,
            "count": 0
           },
           {
            "bin_start": 1050.5,
            "bin_end": 1162,
            "count": 0
           },
           {
            "bin_start": 1162,
            "bin_end": 1273.5,
            "count": 0
           },
           {
            "bin_start": 1273.5,
            "bin_end": 1385,
            "count": 1
           }
          ]
         }
        },
        {
         "name": " adr_ln_1",
         "dtype": "object",
         "stats": {
          "unique_count": 3,
          "nan_count": 0,
          "categories": [
           {
            "name": "535 BARNHILL DR",
            "count": 2
           },
           {
            "name": "1030 W MICHIGAN ST",
            "count": 2
           },
           {
            "name": "1950 CIRCLE OF HOPE DR",
            "count": 1
           }
          ]
         }
        },
        {
         "name": " adr_ln_2",
         "dtype": "object",
         "stats": {
          "unique_count": 0,
          "nan_count": 5,
          "categories": [
           {
            "name": "Missing",
            "count": 5
           }
          ]
         }
        },
        {
         "name": " cty",
         "dtype": "object",
         "stats": {
          "unique_count": 2,
          "nan_count": 0,
          "categories": [
           {
            "name": "INDIANAPOLIS",
            "count": 4
           },
           {
            "name": "SALT LAKE CITY",
            "count": 1
           }
          ]
         }
        },
        {
         "name": " st",
         "dtype": "object",
         "stats": {
          "unique_count": 2,
          "nan_count": 0,
          "categories": [
           {
            "name": "IN",
            "count": 4
           },
           {
            "name": "UT",
            "count": 1
           }
          ]
         }
        },
        {
         "name": " zip",
         "dtype": "object",
         "stats": {
          "unique_count": 3,
          "nan_count": 0,
          "categories": [
           {
            "name": "462025116",
            "count": 2
           },
           {
            "name": "462025201",
            "count": 2
           },
           {
            "name": "841125500",
            "count": 1
           }
          ]
         }
        },
        {
         "name": " phn_numbr",
         "dtype": "float64",
         "stats": {
          "unique_count": 3,
          "nan_count": 0,
          "min": "3172748660.0",
          "max": "8015818793.0",
          "histogram": [
           {
            "bin_start": 3172748660,
            "bin_end": 3657055673.3,
            "count": 4
           },
           {
            "bin_start": 3657055673.3,
            "bin_end": 4141362686.6,
            "count": 0
           },
           {
            "bin_start": 4141362686.6,
            "bin_end": 4625669699.9,
            "count": 0
           },
           {
            "bin_start": 4625669699.9,
            "bin_end": 5109976713.2,
            "count": 0
           },
           {
            "bin_start": 5109976713.2,
            "bin_end": 5594283726.5,
            "count": 0
           },
           {
            "bin_start": 5594283726.5,
            "bin_end": 6078590739.8,
            "count": 0
           },
           {
            "bin_start": 6078590739.8,
            "bin_end": 6562897753.1,
            "count": 0
           },
           {
            "bin_start": 6562897753.1,
            "bin_end": 7047204766.4,
            "count": 0
           },
           {
            "bin_start": 7047204766.4,
            "bin_end": 7531511779.7,
            "count": 0
           },
           {
            "bin_start": 7531511779.7,
            "bin_end": 8015818793,
            "count": 1
           }
          ]
         }
        },
        {
         "name": "affiliated_hospitals",
         "dtype": "object",
         "stats": {
          "unique_count": 2,
          "nan_count": 0,
          "categories": [
           {
            "name": "ESKENAZI HEALTH ",
            "count": 4
           },
           {
            "name": "UNIVERSITY OF UTAH HOSPITALS AND CLINICS, MEMORIAL HOSPITAL SWEETWATER COUNTY ",
            "count": 1
           }
          ]
         }
        },
        {
         "name": " hosp_afl_lbn_1",
         "dtype": "object",
         "stats": {
          "unique_count": 2,
          "nan_count": 0,
          "categories": [
           {
            "name": "ESKENAZI HEALTH",
            "count": 4
           },
           {
            "name": "UNIVERSITY OF UTAH HOSPITALS AND CLINICS",
            "count": 1
           }
          ]
         }
        },
        {
         "name": " hosp_afl_lbn_2",
         "dtype": "object",
         "stats": {
          "unique_count": 2,
          "nan_count": 0,
          "categories": [
           {
            "name": "",
            "count": 4
           },
           {
            "name": "MEMORIAL HOSPITAL SWEETWATER COUNTY",
            "count": 1
           }
          ]
         }
        },
        {
         "name": " hosp_afl_lbn_3",
         "dtype": "object",
         "stats": {
          "unique_count": 1,
          "nan_count": 0,
          "categories": [
           {
            "name": "",
            "count": 5
           }
          ]
         }
        },
        {
         "name": " hosp_afl_lbn_4",
         "dtype": "object",
         "stats": {
          "unique_count": 1,
          "nan_count": 0,
          "categories": [
           {
            "name": "",
            "count": 5
           }
          ]
         }
        },
        {
         "name": " hosp_afl_lbn_5",
         "dtype": "object",
         "stats": {
          "unique_count": 1,
          "nan_count": 0,
          "categories": [
           {
            "name": "",
            "count": 5
           }
          ]
         }
        },
        {
         "name": " ind_assgn",
         "dtype": "object",
         "stats": {
          "unique_count": 1,
          "nan_count": 0,
          "categories": [
           {
            "name": "Y",
            "count": 5
           }
          ]
         }
        },
        {
         "name": " grp_assgn",
         "dtype": "object",
         "stats": {
          "unique_count": 1,
          "nan_count": 0,
          "categories": [
           {
            "name": "Y",
            "count": 5
           }
          ]
         }
        },
        {
         "name": " adrs_id",
         "dtype": "object",
         "stats": {
          "unique_count": 3,
          "nan_count": 0,
          "categories": [
           {
            "name": "IN462025116IN535XXDRXX300",
            "count": 2
           },
           {
            "name": "IN462025201IN1030XSTXX400",
            "count": 2
           },
           {
            "name": "UT841125500SA1950XDRXX500",
            "count": 1
           }
          ]
         }
        },
        {
         "name": "_deepnote_index_column",
         "dtype": "int64"
        }
       ],
       "rows": [
        {
         "id_x": 1505159,
         "nct_id_x": "NCT03589326",
         "facility_id": 8308391,
         "role": "Principal Investigator",
         "name": "HEIKO KONIG",
         "facility": "Indiana University",
         "city": "Indianapolis",
         "state": "Indiana",
         "zip": "46202",
         "country": "United States",
         "NPI": 1730343575,
         " name": "HEIKO KONIG",
         " gndr": "M",
         " Med_sch": "OTHER",
         " Grd_yr": 2000,
         " pri_spec": "MEDICAL ONCOLOGY",
         " sec_spec_all": "INTERNAL MEDICINE",
         " org_nm": "UNIVERSITY MEDICAL DIAGNOSTIC ASSOCIATES INC",
         " num_org_mem": 270,
         " adr_ln_1": "535 BARNHILL DR",
         " adr_ln_2": "nan",
         " cty": "INDIANAPOLIS",
         " st": "IN",
         " zip": "462025116",
         " phn_numbr": 3172748660,
         "affiliated_hospitals": "ESKENAZI HEALTH ",
         " hosp_afl_lbn_1": "ESKENAZI HEALTH",
         " hosp_afl_lbn_2": "",
         " hosp_afl_lbn_3": "",
         " hosp_afl_lbn_4": "",
         " hosp_afl_lbn_5": "",
         " ind_assgn": "Y",
         " grp_assgn": "Y",
         " adrs_id": "IN462025116IN535XXDRXX300",
         "_deepnote_index_column": 2
        },
        {
         "id_x": 1505159,
         "nct_id_x": "NCT03589326",
         "facility_id": 8308391,
         "role": "Principal Investigator",
         "name": "HEIKO KONIG",
         "facility": "Indiana University",
         "city": "Indianapolis",
         "state": "Indiana",
         "zip": "46202",
         "country": "United States",
         "NPI": 1730343575,
         " name": "HEIKO KONIG",
         " gndr": "M",
         " Med_sch": "OTHER",
         " Grd_yr": 2000,
         " pri_spec": "MEDICAL ONCOLOGY",
         " sec_spec_all": "INTERNAL MEDICINE",
         " org_nm": "UNIVERSITY MEDICAL DIAGNOSTIC ASSOCIATES INC",
         " num_org_mem": 270,
         " adr_ln_1": "1030 W MICHIGAN ST",
         " adr_ln_2": "nan",
         " cty": "INDIANAPOLIS",
         " st": "IN",
         " zip": "462025201",
         " phn_numbr": 3179486260,
         "affiliated_hospitals": "ESKENAZI HEALTH ",
         " hosp_afl_lbn_1": "ESKENAZI HEALTH",
         " hosp_afl_lbn_2": "",
         " hosp_afl_lbn_3": "",
         " hosp_afl_lbn_4": "",
         " hosp_afl_lbn_5": "",
         " ind_assgn": "Y",
         " grp_assgn": "Y",
         " adrs_id": "IN462025201IN1030XSTXX400",
         "_deepnote_index_column": 3
        },
        {
         "id_x": 1744321,
         "nct_id_x": "NCT03605719",
         "facility_id": 10621675,
         "role": "Principal Investigator",
         "name": "DOUGLAS SBOROV",
         "facility": "Bobruysk Interdistrict Onco ID 169394",
         "city": "Salt Lake City",
         "state": "Utah",
         "zip": "84112",
         "country": "United States",
         "NPI": 1942444609,
         " name": "DOUGLAS SBOROV",
         " gndr": "M",
         " Med_sch": "OTHER",
         " Grd_yr": 2009,
         " pri_spec": "HEMATOLOGY/ONCOLOGY",
         " sec_spec_all": "nan",
         " org_nm": "UNIVERSITY OF UTAH ADULT SERVICES",
         " num_org_mem": 1385,
         " adr_ln_1": "1950 CIRCLE OF HOPE DR",
         " adr_ln_2": "nan",
         " cty": "SALT LAKE CITY",
         " st": "UT",
         " zip": "841125500",
         " phn_numbr": 8015818793,
         "affiliated_hospitals": "UNIVERSITY OF UTAH HOSPITALS AND CLINICS, MEMORIAL HOSPITAL SWEETWATER COUNTY ",
         " hosp_afl_lbn_1": "UNIVERSITY OF UTAH HOSPITALS AND CLINICS",
         " hosp_afl_lbn_2": "MEMORIAL HOSPITAL SWEETWATER COUNTY",
         " hosp_afl_lbn_3": "",
         " hosp_afl_lbn_4": "",
         " hosp_afl_lbn_5": "",
         " ind_assgn": "Y",
         " grp_assgn": "Y",
         " adrs_id": "UT841125500SA1950XDRXX500",
         "_deepnote_index_column": 4
        },
        {
         "id_x": 1384591,
         "nct_id_x": "NCT04070768",
         "facility_id": 7963013,
         "role": "Principal Investigator",
         "name": "HEIKO KONIG",
         "facility": "Western General Hospital",
         "city": "Indianapolis",
         "state": "Indiana",
         "zip": "46202",
         "country": "United States",
         "NPI": 1730343575,
         " name": "HEIKO KONIG",
         " gndr": "M",
         " Med_sch": "OTHER",
         " Grd_yr": 2000,
         " pri_spec": "MEDICAL ONCOLOGY",
         " sec_spec_all": "INTERNAL MEDICINE",
         " org_nm": "UNIVERSITY MEDICAL DIAGNOSTIC ASSOCIATES INC",
         " num_org_mem": 270,
         " adr_ln_1": "535 BARNHILL DR",
         " adr_ln_2": "nan",
         " cty": "INDIANAPOLIS",
         " st": "IN",
         " zip": "462025116",
         " phn_numbr": 3172748660,
         "affiliated_hospitals": "ESKENAZI HEALTH ",
         " hosp_afl_lbn_1": "ESKENAZI HEALTH",
         " hosp_afl_lbn_2": "",
         " hosp_afl_lbn_3": "",
         " hosp_afl_lbn_4": "",
         " hosp_afl_lbn_5": "",
         " ind_assgn": "Y",
         " grp_assgn": "Y",
         " adrs_id": "IN462025116IN535XXDRXX300",
         "_deepnote_index_column": 0
        },
        {
         "id_x": 1384591,
         "nct_id_x": "NCT04070768",
         "facility_id": 7963013,
         "role": "Principal Investigator",
         "name": "HEIKO KONIG",
         "facility": "Western General Hospital",
         "city": "Indianapolis",
         "state": "Indiana",
         "zip": "46202",
         "country": "United States",
         "NPI": 1730343575,
         " name": "HEIKO KONIG",
         " gndr": "M",
         " Med_sch": "OTHER",
         " Grd_yr": 2000,
         " pri_spec": "MEDICAL ONCOLOGY",
         " sec_spec_all": "INTERNAL MEDICINE",
         " org_nm": "UNIVERSITY MEDICAL DIAGNOSTIC ASSOCIATES INC",
         " num_org_mem": 270,
         " adr_ln_1": "1030 W MICHIGAN ST",
         " adr_ln_2": "nan",
         " cty": "INDIANAPOLIS",
         " st": "IN",
         " zip": "462025201",
         " phn_numbr": 3179486260,
         "affiliated_hospitals": "ESKENAZI HEALTH ",
         " hosp_afl_lbn_1": "ESKENAZI HEALTH",
         " hosp_afl_lbn_2": "",
         " hosp_afl_lbn_3": "",
         " hosp_afl_lbn_4": "",
         " hosp_afl_lbn_5": "",
         " ind_assgn": "Y",
         " grp_assgn": "Y",
         " adrs_id": "IN462025201IN1030XSTXX400",
         "_deepnote_index_column": 1
        }
       ]
      },
      "text/plain": "      id_x     nct_id_x  facility_id                    role            name  \\\n0  1384591  NCT04070768      7963013  Principal Investigator     HEIKO KONIG   \n1  1384591  NCT04070768      7963013  Principal Investigator     HEIKO KONIG   \n2  1505159  NCT03589326      8308391  Principal Investigator     HEIKO KONIG   \n3  1505159  NCT03589326      8308391  Principal Investigator     HEIKO KONIG   \n4  1744321  NCT03605719     10621675  Principal Investigator  DOUGLAS SBOROV   \n\n                                facility            city    state    zip  \\\n0               Western General Hospital    Indianapolis  Indiana  46202   \n1               Western General Hospital    Indianapolis  Indiana  46202   \n2                     Indiana University    Indianapolis  Indiana  46202   \n3                     Indiana University    Indianapolis  Indiana  46202   \n4  Bobruysk Interdistrict Onco ID 169394  Salt Lake City     Utah  84112   \n\n         country  ...     phn_numbr  \\\n0  United States  ...  3.172749e+09   \n1  United States  ...  3.179486e+09   \n2  United States  ...  3.172749e+09   \n3  United States  ...  3.179486e+09   \n4  United States  ...  8.015819e+09   \n\n                                affiliated_hospitals  \\\n0                                   ESKENAZI HEALTH    \n1                                   ESKENAZI HEALTH    \n2                                   ESKENAZI HEALTH    \n3                                   ESKENAZI HEALTH    \n4  UNIVERSITY OF UTAH HOSPITALS AND CLINICS, MEMO...   \n\n                             hosp_afl_lbn_1  \\\n0                           ESKENAZI HEALTH   \n1                           ESKENAZI HEALTH   \n2                           ESKENAZI HEALTH   \n3                           ESKENAZI HEALTH   \n4  UNIVERSITY OF UTAH HOSPITALS AND CLINICS   \n\n                        hosp_afl_lbn_2   hosp_afl_lbn_3  hosp_afl_lbn_4  \\\n0                                                                         \n1                                                                         \n2                                                                         \n3                                                                         \n4  MEMORIAL HOSPITAL SWEETWATER COUNTY                                    \n\n   hosp_afl_lbn_5  ind_assgn   grp_assgn                    adrs_id  \n0                          Y           Y  IN462025116IN535XXDRXX300  \n1                          Y           Y  IN462025201IN1030XSTXX400  \n2                          Y           Y  IN462025116IN535XXDRXX300  \n3                          Y           Y  IN462025201IN1030XSTXX400  \n4                          Y           Y  UT841125500SA1950XDRXX500  \n\n[5 rows x 34 columns]",
      "text/html": "<div>\n<style scoped>\n    .dataframe tbody tr th:only-of-type {\n        vertical-align: middle;\n    }\n\n    .dataframe tbody tr th {\n        vertical-align: top;\n    }\n\n    .dataframe thead th {\n        text-align: right;\n    }\n</style>\n<table border=\"1\" class=\"dataframe\">\n  <thead>\n    <tr style=\"text-align: right;\">\n      <th></th>\n      <th>id_x</th>\n      <th>nct_id_x</th>\n      <th>facility_id</th>\n      <th>role</th>\n      <th>name</th>\n      <th>facility</th>\n      <th>city</th>\n      <th>state</th>\n      <th>zip</th>\n      <th>country</th>\n      <th>...</th>\n      <th>phn_numbr</th>\n      <th>affiliated_hospitals</th>\n      <th>hosp_afl_lbn_1</th>\n      <th>hosp_afl_lbn_2</th>\n      <th>hosp_afl_lbn_3</th>\n      <th>hosp_afl_lbn_4</th>\n      <th>hosp_afl_lbn_5</th>\n      <th>ind_assgn</th>\n      <th>grp_assgn</th>\n      <th>adrs_id</th>\n    </tr>\n  </thead>\n  <tbody>\n    <tr>\n      <th>0</th>\n      <td>1384591</td>\n      <td>NCT04070768</td>\n      <td>7963013</td>\n      <td>Principal Investigator</td>\n      <td>HEIKO KONIG</td>\n      <td>Western General Hospital</td>\n      <td>Indianapolis</td>\n      <td>Indiana</td>\n      <td>46202</td>\n      <td>United States</td>\n      <td>...</td>\n      <td>3.172749e+09</td>\n      <td>ESKENAZI HEALTH</td>\n      <td>ESKENAZI HEALTH</td>\n      <td></td>\n      <td></td>\n      <td></td>\n      <td></td>\n      <td>Y</td>\n      <td>Y</td>\n      <td>IN462025116IN535XXDRXX300</td>\n    </tr>\n    <tr>\n      <th>1</th>\n      <td>1384591</td>\n      <td>NCT04070768</td>\n      <td>7963013</td>\n      <td>Principal Investigator</td>\n      <td>HEIKO KONIG</td>\n      <td>Western General Hospital</td>\n      <td>Indianapolis</td>\n      <td>Indiana</td>\n      <td>46202</td>\n      <td>United States</td>\n      <td>...</td>\n      <td>3.179486e+09</td>\n      <td>ESKENAZI HEALTH</td>\n      <td>ESKENAZI HEALTH</td>\n      <td></td>\n      <td></td>\n      <td></td>\n      <td></td>\n      <td>Y</td>\n      <td>Y</td>\n      <td>IN462025201IN1030XSTXX400</td>\n    </tr>\n    <tr>\n      <th>2</th>\n      <td>1505159</td>\n      <td>NCT03589326</td>\n      <td>8308391</td>\n      <td>Principal Investigator</td>\n      <td>HEIKO KONIG</td>\n      <td>Indiana University</td>\n      <td>Indianapolis</td>\n      <td>Indiana</td>\n      <td>46202</td>\n      <td>United States</td>\n      <td>...</td>\n      <td>3.172749e+09</td>\n      <td>ESKENAZI HEALTH</td>\n      <td>ESKENAZI HEALTH</td>\n      <td></td>\n      <td></td>\n      <td></td>\n      <td></td>\n      <td>Y</td>\n      <td>Y</td>\n      <td>IN462025116IN535XXDRXX300</td>\n    </tr>\n    <tr>\n      <th>3</th>\n      <td>1505159</td>\n      <td>NCT03589326</td>\n      <td>8308391</td>\n      <td>Principal Investigator</td>\n      <td>HEIKO KONIG</td>\n      <td>Indiana University</td>\n      <td>Indianapolis</td>\n      <td>Indiana</td>\n      <td>46202</td>\n      <td>United States</td>\n      <td>...</td>\n      <td>3.179486e+09</td>\n      <td>ESKENAZI HEALTH</td>\n      <td>ESKENAZI HEALTH</td>\n      <td></td>\n      <td></td>\n      <td></td>\n      <td></td>\n      <td>Y</td>\n      <td>Y</td>\n      <td>IN462025201IN1030XSTXX400</td>\n    </tr>\n    <tr>\n      <th>4</th>\n      <td>1744321</td>\n      <td>NCT03605719</td>\n      <td>10621675</td>\n      <td>Principal Investigator</td>\n      <td>DOUGLAS SBOROV</td>\n      <td>Bobruysk Interdistrict Onco ID 169394</td>\n      <td>Salt Lake City</td>\n      <td>Utah</td>\n      <td>84112</td>\n      <td>United States</td>\n      <td>...</td>\n      <td>8.015819e+09</td>\n      <td>UNIVERSITY OF UTAH HOSPITALS AND CLINICS, MEMO...</td>\n      <td>UNIVERSITY OF UTAH HOSPITALS AND CLINICS</td>\n      <td>MEMORIAL HOSPITAL SWEETWATER COUNTY</td>\n      <td></td>\n      <td></td>\n      <td></td>\n      <td>Y</td>\n      <td>Y</td>\n      <td>UT841125500SA1950XDRXX500</td>\n    </tr>\n  </tbody>\n</table>\n<p>5 rows × 34 columns</p>\n</div>"
     },
     "metadata": {}
    }
   ]
  },
  {
   "cell_type": "code",
   "metadata": {
    "cell_id": "d10b7237-6647-452f-bded-169ece114fee",
    "tags": [],
    "deepnote_app_coordinates": {
     "x": 0,
     "y": 0,
     "w": 12,
     "h": 5
    },
    "deepnote_to_be_reexecuted": false,
    "source_hash": "1d2e1fc3",
    "execution_start": 1644947088649,
    "execution_millis": 10,
    "deepnote_output_heights": [
     21.1875
    ],
    "deepnote_cell_type": "code"
   },
   "source": "merged2.shape",
   "execution_count": 47,
   "outputs": [
    {
     "output_type": "execute_result",
     "execution_count": 47,
     "data": {
      "text/plain": "(200575, 34)"
     },
     "metadata": {}
    }
   ]
  },
  {
   "cell_type": "markdown",
   "source": "Since there is no identical column in the DAC dataset and the previous dataset, the merge is a lot more difficult. I chose to merge based on the names of the doctors in both datasets. If the same name appeared in both datasets (inner join), the information (columns) was combined. I ended up with just over 200,000 records, but there are still duplicates present. There are instances where people from the same clinical trial show up multiple times due to different addresses, so those duplicates need to be removed.",
   "metadata": {
    "cell_id": "86044823-9357-4ea6-b8f6-81c7140b7293",
    "tags": [],
    "is_collapsed": false,
    "deepnote_app_coordinates": {
     "x": 0,
     "y": 0,
     "w": 8,
     "h": 2
    },
    "deepnote_cell_type": "text-cell-p"
   }
  },
  {
   "cell_type": "code",
   "metadata": {
    "cell_id": "84a6e01d-84cb-4691-b0c3-c14d598ba426",
    "tags": [],
    "deepnote_to_be_reexecuted": false,
    "source_hash": "46dcaf7d",
    "execution_start": 1644947088657,
    "execution_millis": 322,
    "deepnote_app_coordinates": {
     "x": 0,
     "y": 243,
     "w": 12,
     "h": 5
    },
    "deepnote_cell_type": "code"
   },
   "source": "merged2 = merged2.drop_duplicates(subset=['nct_id_x', 'name'])",
   "execution_count": 48,
   "outputs": []
  },
  {
   "cell_type": "code",
   "metadata": {
    "cell_id": "bef87f96-0312-4dc8-bc55-2fdfffba1fd8",
    "tags": [],
    "deepnote_to_be_reexecuted": false,
    "source_hash": "8070b015",
    "execution_start": 1644947088983,
    "execution_millis": 25,
    "deepnote_app_is_output_hidden": false,
    "deepnote_cell_type": "code"
   },
   "source": "merged2 = merged2.drop(columns=[' hosp_afl_lbn_1', ' hosp_afl_lbn_2', ' hosp_afl_lbn_3', ' hosp_afl_lbn_4', ' hosp_afl_lbn_5', ' name', 'id_x', 'facility_id'])",
   "execution_count": 49,
   "outputs": []
  },
  {
   "cell_type": "code",
   "metadata": {
    "cell_id": "b7166ddc-010c-458f-85c4-1efb34475eb9",
    "tags": [],
    "deepnote_app_coordinates": {
     "x": 0,
     "y": 0,
     "w": 12,
     "h": 5
    },
    "deepnote_to_be_reexecuted": false,
    "source_hash": "fb63dbb9",
    "execution_start": 1644947089014,
    "execution_millis": 1,
    "deepnote_output_heights": [
     117.1875
    ],
    "deepnote_cell_type": "code"
   },
   "source": "merged2.columns = merged2.columns.str.strip()",
   "execution_count": 50,
   "outputs": []
  },
  {
   "cell_type": "code",
   "metadata": {
    "cell_id": "b6fc9119-b115-43b7-be3b-3e7d6e6662fe",
    "tags": [],
    "deepnote_app_coordinates": {
     "x": 0,
     "y": 0,
     "w": 12,
     "h": 5
    },
    "deepnote_to_be_reexecuted": false,
    "source_hash": "1da91195",
    "execution_start": 1644947089023,
    "execution_millis": 1,
    "deepnote_cell_type": "code"
   },
   "source": "merged2.rename(columns={'nct_id_x':'nct_id', 'city': 'facility_city', 'zip': 'facility_zip', 'country': 'facility_country', 'sec_spec_all': 'sec_specs'}, inplace=True)",
   "execution_count": 51,
   "outputs": []
  },
  {
   "cell_type": "code",
   "metadata": {
    "cell_id": "a9730977-34e5-462a-bb50-3c014b9f9a19",
    "tags": [],
    "deepnote_app_coordinates": {
     "x": 0,
     "y": 0,
     "w": 12,
     "h": 5
    },
    "deepnote_to_be_reexecuted": false,
    "source_hash": "a6b5b930",
    "execution_start": 1644947089033,
    "execution_millis": 64983600,
    "deepnote_cell_type": "code"
   },
   "source": "#merged2 = merged2.rename(columns={merged2.columns[20]: 'zip'})",
   "execution_count": 52,
   "outputs": []
  },
  {
   "cell_type": "code",
   "metadata": {
    "cell_id": "731f7dd7-4d02-44af-a542-aea7b7ad9087",
    "tags": [],
    "deepnote_app_coordinates": {
     "x": 0,
     "y": 0,
     "w": 12,
     "h": 5
    },
    "deepnote_to_be_reexecuted": false,
    "source_hash": "ec3fb922",
    "execution_start": 1644947089080,
    "execution_millis": 64983604,
    "deepnote_output_heights": [
     21
    ],
    "deepnote_cell_type": "code"
   },
   "source": "merged2.columns.values[20] ='zip'",
   "execution_count": 53,
   "outputs": []
  },
  {
   "cell_type": "code",
   "metadata": {
    "cell_id": "6ea290f9-1348-493c-8695-794a3b986a5b",
    "tags": [],
    "deepnote_app_coordinates": {
     "x": 0,
     "y": 0,
     "w": 12,
     "h": 5
    },
    "deepnote_to_be_reexecuted": false,
    "source_hash": "907293de",
    "execution_start": 1644947089081,
    "execution_millis": 64983607,
    "deepnote_output_heights": [
     117.1875
    ],
    "deepnote_cell_type": "code"
   },
   "source": "merged2.columns",
   "execution_count": 54,
   "outputs": [
    {
     "output_type": "execute_result",
     "execution_count": 54,
     "data": {
      "text/plain": "Index(['nct_id', 'role', 'name', 'facility', 'facility_city', 'state',\n       'facility_zip', 'facility_country', 'NPI', 'gndr', 'Med_sch', 'Grd_yr',\n       'pri_spec', 'sec_specs', 'org_nm', 'num_org_mem', 'adr_ln_1',\n       'adr_ln_2', 'cty', 'st', 'zip', 'phn_numbr', 'affiliated_hospitals',\n       'ind_assgn', 'grp_assgn', 'adrs_id'],\n      dtype='object')"
     },
     "metadata": {}
    }
   ]
  },
  {
   "cell_type": "code",
   "metadata": {
    "cell_id": "b6a27f6a-ae95-41d3-8ae7-fb3250fa5c14",
    "tags": [],
    "deepnote_app_coordinates": {
     "x": 0,
     "y": 0,
     "w": 12,
     "h": 5
    },
    "deepnote_to_be_reexecuted": false,
    "source_hash": "fe77197",
    "execution_start": 1644947651355,
    "execution_millis": 35,
    "deepnote_cell_type": "code"
   },
   "source": "merged2 = merged2[['NPI', 'name', 'nct_id', 'role','facility', 'facility_city', 'state',\n       'facility_zip', 'facility_country', 'gndr', 'Med_sch', 'Grd_yr',\n       'pri_spec', 'sec_specs', 'org_nm', 'num_org_mem', 'adr_ln_1',\n       'adr_ln_2', 'cty', 'st', 'zip', 'phn_numbr',\n       'affiliated_hospitals', 'ind_assgn', 'grp_assgn', 'adrs_id']]",
   "execution_count": 76,
   "outputs": []
  },
  {
   "cell_type": "code",
   "metadata": {
    "cell_id": "fb9a09d0-8714-4771-bdb1-725fa8f0d7b9",
    "tags": [],
    "deepnote_to_be_reexecuted": false,
    "source_hash": "84dc61dc",
    "execution_start": 1644947678162,
    "execution_millis": 204,
    "deepnote_table_state": {
     "pageSize": 10,
     "pageIndex": 0,
     "filters": [],
     "sortBy": [
      {
       "id": "zip",
       "type": "desc"
      }
     ]
    },
    "deepnote_table_loading": false,
    "deepnote_app_coordinates": {
     "x": 0,
     "y": 261,
     "w": 12,
     "h": 5
    },
    "deepnote_table_invalid": false,
    "deepnote_output_heights": [
     382.1875
    ],
    "deepnote_cell_type": "code"
   },
   "source": "merged2",
   "execution_count": 79,
   "outputs": [
    {
     "output_type": "execute_result",
     "execution_count": 79,
     "data": {
      "application/vnd.deepnote.dataframe.v3+json": {
       "error": "Traceback (most recent call last):\n  File \"/shared-libs/code/variable_explorer.py\", line 209, in dataframe_formatter\n    result = describe_pd_dataframe(df, browse_spec)\n  File \"/shared-libs/code/variable_explorer_helpers.py\", line 259, in describe_pd_dataframe\n    df_filtered, df_page = browse_df(df_analyzed, browse_spec)\n  File \"/shared-libs/code/df_browser.py\", line 175, in browse_df\n    df = sort_df(df, spec_sort_by)\n  File \"/shared-libs/code/df_browser.py\", line 120, in sort_df\n    df = df.sort_values(by=list(rules_by), ascending=list(rules_asc))\n  File \"/shared-libs/python3.7/py/lib/python3.7/site-packages/pandas/core/frame.py\", line 5465, in sort_values\n    k, kind=kind, ascending=ascending, na_position=na_position, key=key\n  File \"/shared-libs/python3.7/py/lib/python3.7/site-packages/pandas/core/sorting.py\", line 380, in nargsort\n    indexer = non_nan_idx[non_nans.argsort(kind=kind)]\nTypeError: '<' not supported between instances of 'str' and 'int'\n"
      },
      "text/plain": "              NPI                name       nct_id                    role  \\\n0      1730343575         HEIKO KONIG  NCT04070768  Principal Investigator   \n1      1730343575         HEIKO KONIG  NCT03589326  Principal Investigator   \n2      1942444609      DOUGLAS SBOROV  NCT03605719  Principal Investigator   \n3      1942444609      DOUGLAS SBOROV  NCT04268498  Principal Investigator   \n4      1942444609      DOUGLAS SBOROV  NCT04521335  Principal Investigator   \n...           ...                 ...          ...                     ...   \n31152  1295857555  SPIROS L BLACKBURN  NCT03876457  Principal Investigator   \n31153  1679540355    ANDREW D BARRETO  NCT03876457  Principal Investigator   \n31154  1952477929       DANIEL GIBSON  NCT03876457  Principal Investigator   \n31155  1194919977         EKTA KAPOOR  NCT03815929  Principal Investigator   \n31156  1730226366       DANIL MAKAROV  NCT03726320  Principal Investigator   \n\n                                             facility   facility_city  \\\n0                            Western General Hospital    Indianapolis   \n1                                  Indiana University    Indianapolis   \n2               Bobruysk Interdistrict Onco ID 169394  Salt Lake City   \n3                   Sanford Roger Maris Cancer Center  Salt Lake City   \n4                     Missouri Baptist Medical Center  Salt Lake City   \n...                                               ...             ...   \n31152  Saint Joseph Regional Medical Center-Mishawaka         Houston   \n31153  Saint Joseph Regional Medical Center-Mishawaka         Houston   \n31154                 Memorial Hospital of South Bend       Milwaukee   \n31155                       Savannah Vascular Surgery       Rochester   \n31156     SYNEXUS POLSKA Sp z oo Oddzial w Katowicach        New York   \n\n           state facility_zip facility_country gndr  ...  \\\n0        Indiana        46202    United States    M  ...   \n1        Indiana        46202    United States    M  ...   \n2           Utah        84112    United States    M  ...   \n3           Utah        84113    United States    M  ...   \n4           Utah        84112    United States    M  ...   \n...          ...          ...              ...  ...  ...   \n31152      Texas        77030    United States    M  ...   \n31153      Texas        77030    United States    M  ...   \n31154  Wisconsin        53215    United States    M  ...   \n31155  Minnesota        55902    United States    F  ...   \n31156   New York        10016    United States    M  ...   \n\n                     adr_ln_1    adr_ln_2             cty  st        zip  \\\n0             535 BARNHILL DR         NaN    INDIANAPOLIS  IN  462025116   \n1             535 BARNHILL DR         NaN    INDIANAPOLIS  IN  462025116   \n2      1950 CIRCLE OF HOPE DR         NaN  SALT LAKE CITY  UT  841125500   \n3      1950 CIRCLE OF HOPE DR         NaN  SALT LAKE CITY  UT  841125500   \n4      1950 CIRCLE OF HOPE DR         NaN  SALT LAKE CITY  UT  841125500   \n...                       ...         ...             ...  ..        ...   \n31152          6400 FANNIN ST  SUITE 2800         HOUSTON  TX  770301534   \n31153          6411 FANNIN ST         NaN         HOUSTON  TX  770301501   \n31154           801 S 70TH ST         NaN      WEST ALLIS  WI  532143147   \n31155           200 1ST ST SW         NaN       ROCHESTER  MN  559050001   \n31156              1220 AVE P         NaN        BROOKLYN  NY  112291009   \n\n          phn_numbr                               affiliated_hospitals  \\\n0      3.172749e+09                                   ESKENAZI HEALTH    \n1      3.172749e+09                                   ESKENAZI HEALTH    \n2      8.015819e+09  UNIVERSITY OF UTAH HOSPITALS AND CLINICS, MEMO...   \n3      8.015819e+09  UNIVERSITY OF UTAH HOSPITALS AND CLINICS, MEMO...   \n4      8.015819e+09  UNIVERSITY OF UTAH HOSPITALS AND CLINICS, MEMO...   \n...             ...                                                ...   \n31152  7.137047e+09  MEMORIAL HERMANN - TEXAS MEDICAL CENTER, MEMOR...   \n31153  7.135006e+09           MEMORIAL HERMANN - TEXAS MEDICAL CENTER    \n31154  4.147737e+09  ASCENSION COLUMBIA ST MARY'S HOSPITAL MILWAUKE...   \n31155  5.072843e+09                                                      \n31156  7.183761e+09        NEW YORK UNIVERSITY LANGONE MEDICAL CENTER    \n\n      ind_assgn grp_assgn                    adrs_id  \n0             Y         Y  IN462025116IN535XXDRXX300  \n1             Y         Y  IN462025116IN535XXDRXX300  \n2             Y         Y  UT841125500SA1950XDRXX500  \n3             Y         Y  UT841125500SA1950XDRXX500  \n4             Y         Y  UT841125500SA1950XDRXX500  \n...         ...       ...                        ...  \n31152         Y         Y  TX770301534HO6400XSTXX302  \n31153         Y         Y  TX770301501HO6411XSTXX300  \n31154         Y         Y  WI532143147WE801XXSTXX400  \n31155         Y         Y  MN559050001RO200XXSWXX400  \n31156         Y         Y  NY112291009BR1220XPXXX300  \n\n[31157 rows x 26 columns]",
      "text/html": "<div>\n<style scoped>\n    .dataframe tbody tr th:only-of-type {\n        vertical-align: middle;\n    }\n\n    .dataframe tbody tr th {\n        vertical-align: top;\n    }\n\n    .dataframe thead th {\n        text-align: right;\n    }\n</style>\n<table border=\"1\" class=\"dataframe\">\n  <thead>\n    <tr style=\"text-align: right;\">\n      <th></th>\n      <th>NPI</th>\n      <th>name</th>\n      <th>nct_id</th>\n      <th>role</th>\n      <th>facility</th>\n      <th>facility_city</th>\n      <th>state</th>\n      <th>facility_zip</th>\n      <th>facility_country</th>\n      <th>gndr</th>\n      <th>...</th>\n      <th>adr_ln_1</th>\n      <th>adr_ln_2</th>\n      <th>cty</th>\n      <th>st</th>\n      <th>zip</th>\n      <th>phn_numbr</th>\n      <th>affiliated_hospitals</th>\n      <th>ind_assgn</th>\n      <th>grp_assgn</th>\n      <th>adrs_id</th>\n    </tr>\n  </thead>\n  <tbody>\n    <tr>\n      <th>0</th>\n      <td>1730343575</td>\n      <td>HEIKO KONIG</td>\n      <td>NCT04070768</td>\n      <td>Principal Investigator</td>\n      <td>Western General Hospital</td>\n      <td>Indianapolis</td>\n      <td>Indiana</td>\n      <td>46202</td>\n      <td>United States</td>\n      <td>M</td>\n      <td>...</td>\n      <td>535 BARNHILL DR</td>\n      <td>NaN</td>\n      <td>INDIANAPOLIS</td>\n      <td>IN</td>\n      <td>462025116</td>\n      <td>3.172749e+09</td>\n      <td>ESKENAZI HEALTH</td>\n      <td>Y</td>\n      <td>Y</td>\n      <td>IN462025116IN535XXDRXX300</td>\n    </tr>\n    <tr>\n      <th>1</th>\n      <td>1730343575</td>\n      <td>HEIKO KONIG</td>\n      <td>NCT03589326</td>\n      <td>Principal Investigator</td>\n      <td>Indiana University</td>\n      <td>Indianapolis</td>\n      <td>Indiana</td>\n      <td>46202</td>\n      <td>United States</td>\n      <td>M</td>\n      <td>...</td>\n      <td>535 BARNHILL DR</td>\n      <td>NaN</td>\n      <td>INDIANAPOLIS</td>\n      <td>IN</td>\n      <td>462025116</td>\n      <td>3.172749e+09</td>\n      <td>ESKENAZI HEALTH</td>\n      <td>Y</td>\n      <td>Y</td>\n      <td>IN462025116IN535XXDRXX300</td>\n    </tr>\n    <tr>\n      <th>2</th>\n      <td>1942444609</td>\n      <td>DOUGLAS SBOROV</td>\n      <td>NCT03605719</td>\n      <td>Principal Investigator</td>\n      <td>Bobruysk Interdistrict Onco ID 169394</td>\n      <td>Salt Lake City</td>\n      <td>Utah</td>\n      <td>84112</td>\n      <td>United States</td>\n      <td>M</td>\n      <td>...</td>\n      <td>1950 CIRCLE OF HOPE DR</td>\n      <td>NaN</td>\n      <td>SALT LAKE CITY</td>\n      <td>UT</td>\n      <td>841125500</td>\n      <td>8.015819e+09</td>\n      <td>UNIVERSITY OF UTAH HOSPITALS AND CLINICS, MEMO...</td>\n      <td>Y</td>\n      <td>Y</td>\n      <td>UT841125500SA1950XDRXX500</td>\n    </tr>\n    <tr>\n      <th>3</th>\n      <td>1942444609</td>\n      <td>DOUGLAS SBOROV</td>\n      <td>NCT04268498</td>\n      <td>Principal Investigator</td>\n      <td>Sanford Roger Maris Cancer Center</td>\n      <td>Salt Lake City</td>\n      <td>Utah</td>\n      <td>84113</td>\n      <td>United States</td>\n      <td>M</td>\n      <td>...</td>\n      <td>1950 CIRCLE OF HOPE DR</td>\n      <td>NaN</td>\n      <td>SALT LAKE CITY</td>\n      <td>UT</td>\n      <td>841125500</td>\n      <td>8.015819e+09</td>\n      <td>UNIVERSITY OF UTAH HOSPITALS AND CLINICS, MEMO...</td>\n      <td>Y</td>\n      <td>Y</td>\n      <td>UT841125500SA1950XDRXX500</td>\n    </tr>\n    <tr>\n      <th>4</th>\n      <td>1942444609</td>\n      <td>DOUGLAS SBOROV</td>\n      <td>NCT04521335</td>\n      <td>Principal Investigator</td>\n      <td>Missouri Baptist Medical Center</td>\n      <td>Salt Lake City</td>\n      <td>Utah</td>\n      <td>84112</td>\n      <td>United States</td>\n      <td>M</td>\n      <td>...</td>\n      <td>1950 CIRCLE OF HOPE DR</td>\n      <td>NaN</td>\n      <td>SALT LAKE CITY</td>\n      <td>UT</td>\n      <td>841125500</td>\n      <td>8.015819e+09</td>\n      <td>UNIVERSITY OF UTAH HOSPITALS AND CLINICS, MEMO...</td>\n      <td>Y</td>\n      <td>Y</td>\n      <td>UT841125500SA1950XDRXX500</td>\n    </tr>\n    <tr>\n      <th>...</th>\n      <td>...</td>\n      <td>...</td>\n      <td>...</td>\n      <td>...</td>\n      <td>...</td>\n      <td>...</td>\n      <td>...</td>\n      <td>...</td>\n      <td>...</td>\n      <td>...</td>\n      <td>...</td>\n      <td>...</td>\n      <td>...</td>\n      <td>...</td>\n      <td>...</td>\n      <td>...</td>\n      <td>...</td>\n      <td>...</td>\n      <td>...</td>\n      <td>...</td>\n      <td>...</td>\n    </tr>\n    <tr>\n      <th>31152</th>\n      <td>1295857555</td>\n      <td>SPIROS L BLACKBURN</td>\n      <td>NCT03876457</td>\n      <td>Principal Investigator</td>\n      <td>Saint Joseph Regional Medical Center-Mishawaka</td>\n      <td>Houston</td>\n      <td>Texas</td>\n      <td>77030</td>\n      <td>United States</td>\n      <td>M</td>\n      <td>...</td>\n      <td>6400 FANNIN ST</td>\n      <td>SUITE 2800</td>\n      <td>HOUSTON</td>\n      <td>TX</td>\n      <td>770301534</td>\n      <td>7.137047e+09</td>\n      <td>MEMORIAL HERMANN - TEXAS MEDICAL CENTER, MEMOR...</td>\n      <td>Y</td>\n      <td>Y</td>\n      <td>TX770301534HO6400XSTXX302</td>\n    </tr>\n    <tr>\n      <th>31153</th>\n      <td>1679540355</td>\n      <td>ANDREW D BARRETO</td>\n      <td>NCT03876457</td>\n      <td>Principal Investigator</td>\n      <td>Saint Joseph Regional Medical Center-Mishawaka</td>\n      <td>Houston</td>\n      <td>Texas</td>\n      <td>77030</td>\n      <td>United States</td>\n      <td>M</td>\n      <td>...</td>\n      <td>6411 FANNIN ST</td>\n      <td>NaN</td>\n      <td>HOUSTON</td>\n      <td>TX</td>\n      <td>770301501</td>\n      <td>7.135006e+09</td>\n      <td>MEMORIAL HERMANN - TEXAS MEDICAL CENTER</td>\n      <td>Y</td>\n      <td>Y</td>\n      <td>TX770301501HO6411XSTXX300</td>\n    </tr>\n    <tr>\n      <th>31154</th>\n      <td>1952477929</td>\n      <td>DANIEL GIBSON</td>\n      <td>NCT03876457</td>\n      <td>Principal Investigator</td>\n      <td>Memorial Hospital of South Bend</td>\n      <td>Milwaukee</td>\n      <td>Wisconsin</td>\n      <td>53215</td>\n      <td>United States</td>\n      <td>M</td>\n      <td>...</td>\n      <td>801 S 70TH ST</td>\n      <td>NaN</td>\n      <td>WEST ALLIS</td>\n      <td>WI</td>\n      <td>532143147</td>\n      <td>4.147737e+09</td>\n      <td>ASCENSION COLUMBIA ST MARY'S HOSPITAL MILWAUKE...</td>\n      <td>Y</td>\n      <td>Y</td>\n      <td>WI532143147WE801XXSTXX400</td>\n    </tr>\n    <tr>\n      <th>31155</th>\n      <td>1194919977</td>\n      <td>EKTA KAPOOR</td>\n      <td>NCT03815929</td>\n      <td>Principal Investigator</td>\n      <td>Savannah Vascular Surgery</td>\n      <td>Rochester</td>\n      <td>Minnesota</td>\n      <td>55902</td>\n      <td>United States</td>\n      <td>F</td>\n      <td>...</td>\n      <td>200 1ST ST SW</td>\n      <td>NaN</td>\n      <td>ROCHESTER</td>\n      <td>MN</td>\n      <td>559050001</td>\n      <td>5.072843e+09</td>\n      <td></td>\n      <td>Y</td>\n      <td>Y</td>\n      <td>MN559050001RO200XXSWXX400</td>\n    </tr>\n    <tr>\n      <th>31156</th>\n      <td>1730226366</td>\n      <td>DANIL MAKAROV</td>\n      <td>NCT03726320</td>\n      <td>Principal Investigator</td>\n      <td>SYNEXUS POLSKA Sp z oo Oddzial w Katowicach</td>\n      <td>New York</td>\n      <td>New York</td>\n      <td>10016</td>\n      <td>United States</td>\n      <td>M</td>\n      <td>...</td>\n      <td>1220 AVE P</td>\n      <td>NaN</td>\n      <td>BROOKLYN</td>\n      <td>NY</td>\n      <td>112291009</td>\n      <td>7.183761e+09</td>\n      <td>NEW YORK UNIVERSITY LANGONE MEDICAL CENTER</td>\n      <td>Y</td>\n      <td>Y</td>\n      <td>NY112291009BR1220XPXXX300</td>\n    </tr>\n  </tbody>\n</table>\n<p>31157 rows × 26 columns</p>\n</div>"
     },
     "metadata": {}
    }
   ]
  },
  {
   "cell_type": "code",
   "metadata": {
    "cell_id": "1af65315-4d94-4aa8-9a01-434740f913dd",
    "tags": [],
    "deepnote_app_coordinates": {
     "x": 0,
     "y": 0,
     "w": 12,
     "h": 5
    },
    "deepnote_to_be_reexecuted": false,
    "source_hash": "5c0dadfc",
    "execution_start": 1644947089194,
    "execution_millis": 53,
    "deepnote_output_heights": [
     78.796875
    ],
    "deepnote_cell_type": "code"
   },
   "source": "doctorData = pd.DataFrame({'Doctor': list(merged2['name'].value_counts().index), 'Frequency': list(merged2[\"name\"].value_counts())})",
   "execution_count": 57,
   "outputs": []
  },
  {
   "cell_type": "code",
   "metadata": {
    "cell_id": "4d50b129-594a-405d-a296-12855a645952",
    "tags": [],
    "deepnote_app_coordinates": {
     "x": 0,
     "y": 0,
     "w": 12,
     "h": 5
    },
    "deepnote_to_be_reexecuted": false,
    "source_hash": "b5c2da62",
    "execution_start": 1644947089250,
    "execution_millis": 167,
    "deepnote_cell_type": "code"
   },
   "source": "merged2 = merged2.merge(doctorData, how='left', left_on='name', right_on='Doctor')",
   "execution_count": 58,
   "outputs": []
  },
  {
   "cell_type": "code",
   "metadata": {
    "cell_id": "494eb2e7-2527-48e2-b113-546cd0de5472",
    "tags": [],
    "deepnote_app_coordinates": {
     "x": 0,
     "y": 0,
     "w": 12,
     "h": 5
    },
    "deepnote_to_be_reexecuted": false,
    "source_hash": "23792df5",
    "execution_start": 1644947089421,
    "execution_millis": 1,
    "deepnote_cell_type": "code"
   },
   "source": "#merged2.to_csv(\"final.csv\", index=False)",
   "execution_count": 59,
   "outputs": []
  },
  {
   "cell_type": "code",
   "metadata": {
    "cell_id": "e60b5666-5297-4f50-bdcb-acdf3d8a57a5",
    "tags": [],
    "deepnote_to_be_reexecuted": false,
    "source_hash": "1d2e1fc3",
    "execution_start": 1644947089426,
    "execution_millis": 7,
    "deepnote_output_heights": [
     21.1875
    ],
    "deepnote_app_coordinates": {
     "x": 0,
     "y": 412,
     "w": 12,
     "h": 5
    },
    "deepnote_cell_type": "code"
   },
   "source": "merged2.shape",
   "execution_count": 60,
   "outputs": [
    {
     "output_type": "execute_result",
     "execution_count": 60,
     "data": {
      "text/plain": "(31157, 28)"
     },
     "metadata": {}
    }
   ]
  },
  {
   "cell_type": "markdown",
   "source": "Now, if any doctor appears in the dataset more than once, it means they conducted more than one clinical trial, which is useful to find doctors with more experience",
   "metadata": {
    "cell_id": "84b47fb6-bf06-40f0-be74-9d1aa95c723c",
    "tags": [],
    "is_collapsed": false,
    "deepnote_app_coordinates": {
     "x": 0,
     "y": 0,
     "w": 8,
     "h": 2
    },
    "deepnote_cell_type": "text-cell-p"
   }
  },
  {
   "cell_type": "code",
   "metadata": {
    "cell_id": "0a3a8567-abec-48fd-b20c-c9076ff6e7b6",
    "tags": [],
    "deepnote_to_be_reexecuted": false,
    "source_hash": "9898ef8e",
    "execution_start": 1644947089445,
    "execution_millis": 21,
    "deepnote_output_heights": [
     213.1875
    ],
    "deepnote_app_coordinates": {
     "x": 0,
     "y": 273,
     "w": 12,
     "h": 5
    },
    "deepnote_cell_type": "code"
   },
   "source": "merged2['name'].value_counts().head(10)",
   "execution_count": 61,
   "outputs": [
    {
     "output_type": "execute_result",
     "execution_count": 61,
     "data": {
      "text/plain": "KATHLEEN J YOST        134\nBRYAN A FALLER         133\nJOHN M SCHALLENKAMP    109\nRICHARD L DEMING        93\nDEBRA M PROW            91\nTIMOTHY D MOORE         78\nJOHN A ELLERTON         76\nGREGORY A MASTERS       68\nHOWARD M GROSS          63\nALISON K CONLIN         61\nName: name, dtype: int64"
     },
     "metadata": {}
    }
   ]
  },
  {
   "cell_type": "markdown",
   "source": "These are the 10 doctors who have conducted the most clinical trials. ",
   "metadata": {
    "cell_id": "495444f2-9894-481e-9558-7614cfc3dbe6",
    "tags": [],
    "is_collapsed": false,
    "deepnote_app_coordinates": {
     "x": 0,
     "y": 0,
     "w": 8,
     "h": 2
    },
    "deepnote_cell_type": "text-cell-p"
   }
  },
  {
   "cell_type": "code",
   "metadata": {
    "cell_id": "1110723d-4523-43c7-9e0c-dbfe0d4a7dbe",
    "tags": [],
    "deepnote_to_be_reexecuted": false,
    "source_hash": "24ee44db",
    "execution_start": 1644947089480,
    "execution_millis": 26,
    "deepnote_output_heights": [
     213.1875
    ],
    "deepnote_app_coordinates": {
     "x": 0,
     "y": 279,
     "w": 12,
     "h": 5
    },
    "deepnote_cell_type": "code"
   },
   "source": "merged2['facility'].value_counts().head(10)",
   "execution_count": 62,
   "outputs": [
    {
     "output_type": "execute_result",
     "execution_count": 62,
     "data": {
      "text/plain": "GSK Investigational Site                    557\nNovartis Investigative Site                 399\nNovo Nordisk Investigational Site           240\nLocal Institution                           171\nPfizer Investigational Site                 158\nWashington University School of Medicine     69\nMassachusetts General Hospital               53\nClinical Research Site                       53\nMayo Clinic                                  46\nClinical Trial Site                          45\nName: facility, dtype: int64"
     },
     "metadata": {}
    }
   ]
  },
  {
   "cell_type": "markdown",
   "source": "Similarly, these are the 10 facilities where the most clinical trials have been conducted.",
   "metadata": {
    "cell_id": "d5ef9dad-e9ac-4cbb-a394-9477c4889862",
    "tags": [],
    "is_collapsed": false,
    "deepnote_app_coordinates": {
     "x": 0,
     "y": 0,
     "w": 8,
     "h": 2
    },
    "deepnote_cell_type": "text-cell-p"
   }
  },
  {
   "cell_type": "code",
   "metadata": {
    "cell_id": "24b842b6-c997-4b5a-8b50-d2b7a0eee8d6",
    "tags": [],
    "deepnote_to_be_reexecuted": false,
    "source_hash": "4a95a2d9",
    "execution_start": 1644947089530,
    "execution_millis": 406,
    "deepnote_output_heights": [
     249
    ],
    "deepnote_app_coordinates": {
     "x": 0,
     "y": 285,
     "w": 12,
     "h": 5
    },
    "deepnote_app_is_code_hidden": true,
    "deepnote_cell_type": "code"
   },
   "source": "plt.pie(merged2['facility'].value_counts().head(10), labels = merged2[\"facility\"].value_counts().head(10).index, autopct='%1.1f%%')\nplt.title(\"Top 10 Facilities Conducting Clinical Trials\")\nplt.show()",
   "execution_count": 63,
   "outputs": [
    {
     "data": {
      "text/plain": "<Figure size 432x288 with 1 Axes>",
      "image/png": "[encoded data removed]"
     },
     "metadata": {
      "image/png": {
       "width": 532,
       "height": 247
      }
     },
     "output_type": "display_data"
    }
   ]
  },
  {
   "cell_type": "code",
   "metadata": {
    "cell_id": "9700228c-d944-4e9c-a33b-90603efc951b",
    "tags": [],
    "deepnote_to_be_reexecuted": false,
    "source_hash": "cdde1516",
    "execution_start": 1644947089960,
    "execution_millis": 431,
    "deepnote_output_heights": [
     280
    ],
    "deepnote_app_coordinates": {
     "x": 0,
     "y": 291,
     "w": 12,
     "h": 5
    },
    "deepnote_app_is_code_hidden": true,
    "deepnote_cell_type": "code"
   },
   "source": "def addlabels(x,y):\n    for i in range(len(x)):\n        plt.text(i, y[i], y[i], ha = 'center')\n\nx = merged2[\"facility\"].value_counts().head(10).index\nlabels = merged2['facility'].value_counts().head(10)\n\nx_pos = [i for i,value in enumerate(x)]\n\nplt.barh(x_pos, labels)\nplt.ylabel(\"Facilities\")\nplt.xlabel(\"# of Clinical Trials\")\nplt.title(\"Top 10 Facilities Conducting Clinical Trials\")\nplt.yticks(x_pos, x)\nplt.show()\n",
   "execution_count": 64,
   "outputs": [
    {
     "data": {
      "text/plain": "<Figure size 432x288 with 1 Axes>",
      "image/png": "[encoded data removed]"
     },
     "metadata": {
      "needs_background": "light",
      "image/png": {
       "width": 579,
       "height": 278
      }
     },
     "output_type": "display_data"
    }
   ]
  },
  {
   "cell_type": "code",
   "metadata": {
    "cell_id": "c36f23f1-a2a4-41da-9bb3-d63edfa9449d",
    "tags": [],
    "deepnote_to_be_reexecuted": false,
    "source_hash": "d044a434",
    "execution_start": 1644947090391,
    "execution_millis": 20,
    "deepnote_output_heights": [
     232.390625
    ],
    "deepnote_cell_type": "code"
   },
   "source": "merged2['pri_spec'].value_counts()",
   "execution_count": 65,
   "outputs": [
    {
     "output_type": "execute_result",
     "execution_count": 65,
     "data": {
      "text/plain": "HEMATOLOGY/ONCOLOGY                        5781\nMEDICAL ONCOLOGY                           2978\nINTERNAL MEDICINE                          1824\nRADIATION ONCOLOGY                         1588\nNEUROLOGY                                  1156\n                                           ... \nANESTHESIOLOGY ASSISTANT                      4\nMICROGRAPHIC DERMATOLOGIC SURGERY (MDS)       2\nPERIPHERAL VASCULAR DISEASE                   1\nMEDICAL TOXICOLOGY                            1\nDENTIST                                       1\nName: pri_spec, Length: 83, dtype: int64"
     },
     "metadata": {}
    }
   ]
  },
  {
   "cell_type": "code",
   "metadata": {
    "cell_id": "1adb3116-1b79-41c5-87f7-114953cb3618",
    "tags": [],
    "deepnote_to_be_reexecuted": false,
    "source_hash": "d5c115d0",
    "execution_start": 1644947090415,
    "execution_millis": 370,
    "deepnote_output_heights": [
     249
    ],
    "deepnote_app_coordinates": {
     "x": 0,
     "y": 306,
     "w": 12,
     "h": 5
    },
    "deepnote_app_is_code_hidden": true,
    "deepnote_cell_type": "code"
   },
   "source": "plt.pie(merged2['pri_spec'].value_counts().head(10), labels = merged2['pri_spec'].value_counts().head(10).index, autopct='%1.1f%%')\nplt.title(\"Top 10 Specialties Conducting Clinical Trials\")\nplt.show()",
   "execution_count": 66,
   "outputs": [
    {
     "data": {
      "text/plain": "<Figure size 432x288 with 1 Axes>",
      "image/png": "[encoded data removed]"
     },
     "metadata": {
      "image/png": {
       "width": 474,
       "height": 247
      }
     },
     "output_type": "display_data"
    }
   ]
  },
  {
   "cell_type": "markdown",
   "source": "The top 10 specialties conducting clinical trials is shown below. These specialties account for about 56% of all specialties clinical trials are conducted under. ",
   "metadata": {
    "cell_id": "ee5e5a77-a117-472a-9580-4a41d898cb2f",
    "tags": [],
    "is_collapsed": false,
    "deepnote_app_coordinates": {
     "x": 0,
     "y": 303,
     "w": 8,
     "h": 2
    },
    "deepnote_cell_type": "text-cell-p"
   }
  },
  {
   "cell_type": "markdown",
   "source": "<a style='text-decoration:none;line-height:16px;display:flex;color:#5B5B62;padding:10px;justify-content:end;' href='https://deepnote.com?utm_source=created-in-deepnote-cell&projectId=baeb6de4-e5bb-44f9-9c40-76d841ef931e' target=\"_blank\">\n<img alt='Created in deepnote.com' style='display:inline;max-height:16px;margin:0px;margin-right:7.5px;' src='data:image/svg+xml;base64,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' > </img>\nCreated in <span style='font-weight:600;margin-left:4px;'>Deepnote</span></a>",
   "metadata": {
    "tags": [],
    "created_in_deepnote_cell": true,
    "deepnote_cell_type": "markdown"
   }
  }
 ],
 "nbformat": 4,
 "nbformat_minor": 2,
 "metadata": {
  "orig_nbformat": 2,
  "deepnote": {
   "is_reactive": false
  },
  "deepnote_notebook_id": "c6c12f33-180d-4a34-8e90-96437f1ddd32",
  "deepnote_execution_queue": [],
  "deepnote_app_layout": "article"
 }
}